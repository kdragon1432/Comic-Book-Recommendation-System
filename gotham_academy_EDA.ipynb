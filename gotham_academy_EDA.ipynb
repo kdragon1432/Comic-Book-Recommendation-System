{
 "cells": [
  {
   "cell_type": "code",
   "execution_count": 50,
   "id": "0669cb44-e073-4eb2-a3c9-92e9c60607b7",
   "metadata": {},
   "outputs": [],
   "source": [
    "import pandas as pd\n",
    "import numpy as np\n",
    "import json\n",
    "\n",
    "from bs4 import BeautifulSoup"
   ]
  },
  {
   "cell_type": "code",
   "execution_count": 15,
   "id": "2ad38991-178e-4b4c-9fd1-90375fcafcfa",
   "metadata": {},
   "outputs": [],
   "source": [
    "gotham_academy = pd.read_csv(\"data/gotham_academy.csv\")"
   ]
  },
  {
   "cell_type": "code",
   "execution_count": 16,
   "id": "0fd4bcfe-23b1-4b56-97cb-051da33a9763",
   "metadata": {},
   "outputs": [
    {
     "name": "stdout",
     "output_type": "stream",
     "text": [
      "<class 'pandas.core.frame.DataFrame'>\n",
      "RangeIndex: 18 entries, 0 to 17\n",
      "Data columns (total 32 columns):\n",
      " #   Column                       Non-Null Count  Dtype  \n",
      "---  ------                       --------------  -----  \n",
      " 0   Unnamed: 0                   18 non-null     int64  \n",
      " 1   aliases                      0 non-null      float64\n",
      " 2   api_detail_url               18 non-null     object \n",
      " 3   associated_images            18 non-null     object \n",
      " 4   character_credits            18 non-null     object \n",
      " 5   character_died_in            18 non-null     object \n",
      " 6   concept_credits              18 non-null     object \n",
      " 7   cover_date                   18 non-null     object \n",
      " 8   date_added                   18 non-null     object \n",
      " 9   date_last_updated            18 non-null     object \n",
      " 10  deck                         0 non-null      float64\n",
      " 11  description                  18 non-null     object \n",
      " 12  first_appearance_characters  0 non-null      float64\n",
      " 13  first_appearance_concepts    0 non-null      float64\n",
      " 14  first_appearance_locations   0 non-null      float64\n",
      " 15  first_appearance_objects     0 non-null      float64\n",
      " 16  first_appearance_storyarcs   0 non-null      float64\n",
      " 17  first_appearance_teams       0 non-null      float64\n",
      " 18  has_staff_review             18 non-null     object \n",
      " 19  id                           18 non-null     int64  \n",
      " 20  image                        18 non-null     object \n",
      " 21  issue_number                 18 non-null     int64  \n",
      " 22  location_credits             18 non-null     object \n",
      " 23  name                         17 non-null     object \n",
      " 24  object_credits               18 non-null     object \n",
      " 25  person_credits               18 non-null     object \n",
      " 26  site_detail_url              18 non-null     object \n",
      " 27  store_date                   18 non-null     object \n",
      " 28  story_arc_credits            18 non-null     object \n",
      " 29  team_credits                 18 non-null     object \n",
      " 30  team_disbanded_in            18 non-null     object \n",
      " 31  volume                       18 non-null     object \n",
      "dtypes: float64(8), int64(3), object(21)\n",
      "memory usage: 4.6+ KB\n"
     ]
    }
   ],
   "source": [
    "gotham_academy.info()"
   ]
  },
  {
   "cell_type": "code",
   "execution_count": 39,
   "id": "a8478e95-9971-4680-a804-a0883328b908",
   "metadata": {},
   "outputs": [],
   "source": [
    "def clean_data(input_dataframe):\n",
    "    df = input_dataframe.copy()\n",
    "    df.drop(columns=[\"Unnamed: 0\", \"aliases\", \"deck\", \"first_appearance_characters\", \"first_appearance_concepts\", \n",
    "                    \"first_appearance_locations\", \"first_appearance_objects\", \"first_appearance_storyarcs\",\n",
    "                    \"first_appearance_teams\", \"store_date\"], inplace=True)\n",
    "    return df"
   ]
  },
  {
   "cell_type": "code",
   "execution_count": 40,
   "id": "6c2ea727-46aa-4e2e-b285-a9cc5a84e435",
   "metadata": {},
   "outputs": [],
   "source": [
    "clean_df = clean_data(gotham_academy)"
   ]
  },
  {
   "cell_type": "code",
   "execution_count": 41,
   "id": "cf55ae33-3f10-4a6c-bca1-7934a4283dc9",
   "metadata": {},
   "outputs": [
    {
     "name": "stdout",
     "output_type": "stream",
     "text": [
      "<class 'pandas.core.frame.DataFrame'>\n",
      "RangeIndex: 18 entries, 0 to 17\n",
      "Data columns (total 22 columns):\n",
      " #   Column             Non-Null Count  Dtype \n",
      "---  ------             --------------  ----- \n",
      " 0   api_detail_url     18 non-null     object\n",
      " 1   associated_images  18 non-null     object\n",
      " 2   character_credits  18 non-null     object\n",
      " 3   character_died_in  18 non-null     object\n",
      " 4   concept_credits    18 non-null     object\n",
      " 5   cover_date         18 non-null     object\n",
      " 6   date_added         18 non-null     object\n",
      " 7   date_last_updated  18 non-null     object\n",
      " 8   description        18 non-null     object\n",
      " 9   has_staff_review   18 non-null     object\n",
      " 10  id                 18 non-null     int64 \n",
      " 11  image              18 non-null     object\n",
      " 12  issue_number       18 non-null     int64 \n",
      " 13  location_credits   18 non-null     object\n",
      " 14  name               17 non-null     object\n",
      " 15  object_credits     18 non-null     object\n",
      " 16  person_credits     18 non-null     object\n",
      " 17  site_detail_url    18 non-null     object\n",
      " 18  story_arc_credits  18 non-null     object\n",
      " 19  team_credits       18 non-null     object\n",
      " 20  team_disbanded_in  18 non-null     object\n",
      " 21  volume             18 non-null     object\n",
      "dtypes: int64(2), object(20)\n",
      "memory usage: 3.2+ KB\n"
     ]
    }
   ],
   "source": [
    "clean_df.info()"
   ]
  },
  {
   "cell_type": "code",
   "execution_count": 42,
   "id": "14a96c91-aa47-4a22-b55e-010f33b708ec",
   "metadata": {},
   "outputs": [
    {
     "data": {
      "text/html": [
       "<div>\n",
       "<style scoped>\n",
       "    .dataframe tbody tr th:only-of-type {\n",
       "        vertical-align: middle;\n",
       "    }\n",
       "\n",
       "    .dataframe tbody tr th {\n",
       "        vertical-align: top;\n",
       "    }\n",
       "\n",
       "    .dataframe thead th {\n",
       "        text-align: right;\n",
       "    }\n",
       "</style>\n",
       "<table border=\"1\" class=\"dataframe\">\n",
       "  <thead>\n",
       "    <tr style=\"text-align: right;\">\n",
       "      <th></th>\n",
       "      <th>api_detail_url</th>\n",
       "      <th>associated_images</th>\n",
       "      <th>character_credits</th>\n",
       "      <th>character_died_in</th>\n",
       "      <th>concept_credits</th>\n",
       "      <th>cover_date</th>\n",
       "      <th>date_added</th>\n",
       "      <th>date_last_updated</th>\n",
       "      <th>description</th>\n",
       "      <th>has_staff_review</th>\n",
       "      <th>...</th>\n",
       "      <th>issue_number</th>\n",
       "      <th>location_credits</th>\n",
       "      <th>name</th>\n",
       "      <th>object_credits</th>\n",
       "      <th>person_credits</th>\n",
       "      <th>site_detail_url</th>\n",
       "      <th>story_arc_credits</th>\n",
       "      <th>team_credits</th>\n",
       "      <th>team_disbanded_in</th>\n",
       "      <th>volume</th>\n",
       "    </tr>\n",
       "  </thead>\n",
       "  <tbody>\n",
       "    <tr>\n",
       "      <th>0</th>\n",
       "      <td>https://comicvine.gamespot.com/api/issue/4000-...</td>\n",
       "      <td>[{'original_url': 'https://comicvine.gamespot....</td>\n",
       "      <td>[{'api_detail_url': 'https://comicvine.gamespo...</td>\n",
       "      <td>[]</td>\n",
       "      <td>[{'api_detail_url': 'https://comicvine.gamespo...</td>\n",
       "      <td>2014-12-31</td>\n",
       "      <td>2014-09-29 20:58:22</td>\n",
       "      <td>2015-03-25 22:10:19</td>\n",
       "      <td>&lt;p&gt;&lt;em&gt;WELCOME TO GOTHAM ACADEMY! Gotham City’...</td>\n",
       "      <td>{'api_detail_url': 'https://comicvine.gamespot...</td>\n",
       "      <td>...</td>\n",
       "      <td>1</td>\n",
       "      <td>[{'api_detail_url': 'https://comicvine.gamespo...</td>\n",
       "      <td>Welcome to Gotham Academy</td>\n",
       "      <td>[{'api_detail_url': 'https://comicvine.gamespo...</td>\n",
       "      <td>[{'api_detail_url': 'https://comicvine.gamespo...</td>\n",
       "      <td>https://comicvine.gamespot.com/gotham-academy-...</td>\n",
       "      <td>[]</td>\n",
       "      <td>[{'api_detail_url': 'https://comicvine.gamespo...</td>\n",
       "      <td>[]</td>\n",
       "      <td>{'api_detail_url': 'https://comicvine.gamespot...</td>\n",
       "    </tr>\n",
       "  </tbody>\n",
       "</table>\n",
       "<p>1 rows × 22 columns</p>\n",
       "</div>"
      ],
      "text/plain": [
       "                                      api_detail_url  \\\n",
       "0  https://comicvine.gamespot.com/api/issue/4000-...   \n",
       "\n",
       "                                   associated_images  \\\n",
       "0  [{'original_url': 'https://comicvine.gamespot....   \n",
       "\n",
       "                                   character_credits character_died_in  \\\n",
       "0  [{'api_detail_url': 'https://comicvine.gamespo...                []   \n",
       "\n",
       "                                     concept_credits  cover_date  \\\n",
       "0  [{'api_detail_url': 'https://comicvine.gamespo...  2014-12-31   \n",
       "\n",
       "            date_added    date_last_updated  \\\n",
       "0  2014-09-29 20:58:22  2015-03-25 22:10:19   \n",
       "\n",
       "                                         description  \\\n",
       "0  <p><em>WELCOME TO GOTHAM ACADEMY! Gotham City’...   \n",
       "\n",
       "                                    has_staff_review  ...  issue_number  \\\n",
       "0  {'api_detail_url': 'https://comicvine.gamespot...  ...             1   \n",
       "\n",
       "                                    location_credits  \\\n",
       "0  [{'api_detail_url': 'https://comicvine.gamespo...   \n",
       "\n",
       "                        name  \\\n",
       "0  Welcome to Gotham Academy   \n",
       "\n",
       "                                      object_credits  \\\n",
       "0  [{'api_detail_url': 'https://comicvine.gamespo...   \n",
       "\n",
       "                                      person_credits  \\\n",
       "0  [{'api_detail_url': 'https://comicvine.gamespo...   \n",
       "\n",
       "                                     site_detail_url story_arc_credits  \\\n",
       "0  https://comicvine.gamespot.com/gotham-academy-...                []   \n",
       "\n",
       "                                        team_credits team_disbanded_in  \\\n",
       "0  [{'api_detail_url': 'https://comicvine.gamespo...                []   \n",
       "\n",
       "                                              volume  \n",
       "0  {'api_detail_url': 'https://comicvine.gamespot...  \n",
       "\n",
       "[1 rows x 22 columns]"
      ]
     },
     "execution_count": 42,
     "metadata": {},
     "output_type": "execute_result"
    }
   ],
   "source": [
    "clean_df.head(1)"
   ]
  },
  {
   "cell_type": "code",
   "execution_count": 43,
   "id": "28e36e75-2182-4eeb-b865-131422763659",
   "metadata": {},
   "outputs": [
    {
     "data": {
      "text/plain": [
       "'<p><em>WELCOME TO GOTHAM ACADEMY! Gotham City’s most prestigious prep school is a very weird place. It’s got a spooky campus, oddball teachers, and rich benefactors always dropping by...like that weirdo Bruce Wayne. But nothing is as strange is the students!</em></p><p><em>Like, what’s up with Olive Silverlock? Is she crazy or what? Where did she go last summer? And what’s the deal with her creepy mom? And how come that Freshman MAPS is always following her around? And is she still going out with Kyle? P.S. Did you hear the rumor about the ghost in the North Hall?!</em></p><p><em>GOTHAM ACADEMY is a new, monthly teen drama set in the shadow of Batman and the craziness of Gotham City, with new characters and old plus a secret tie to Gotham’s past…</em></p>'"
      ]
     },
     "execution_count": 43,
     "metadata": {},
     "output_type": "execute_result"
    }
   ],
   "source": [
    "clean_df[\"description\"][0]"
   ]
  },
  {
   "cell_type": "code",
   "execution_count": 44,
   "id": "d0c8848f-f669-4fa2-a72a-a0d09ebb1d37",
   "metadata": {},
   "outputs": [],
   "source": [
    "def clean_description(html_text):\n",
    "    soup = BeautifulSoup(html_text, 'html.parser')\n",
    "    cleaned_text = soup.get_text(separator='\\n')\n",
    "    return cleaned_text"
   ]
  },
  {
   "cell_type": "code",
   "execution_count": 45,
   "id": "f8e81334-c3ee-443e-8e62-cc8b12a6a2bc",
   "metadata": {},
   "outputs": [],
   "source": [
    "clean_df[\"description\"] = clean_df[\"description\"].apply(clean_description)"
   ]
  },
  {
   "cell_type": "code",
   "execution_count": 46,
   "id": "468b0925-2c7c-4df4-b7e3-6f4f1bbba0b9",
   "metadata": {},
   "outputs": [
    {
     "data": {
      "text/plain": [
       "0     WELCOME TO GOTHAM ACADEMY! Gotham City’s most ...\n",
       "1     Olive joins the creepy Order of the Bat as an ...\n",
       "2     If you thought getting detention was a pain, j...\n",
       "3      The hunt for the Ghost of Gotham Academy begins!\n",
       "4     This month’s assignment: Uncover the hideous s...\n",
       "5     Holy cow, it’s Taco Tuesday! Oh…and Olive batt...\n",
       "6     Special guest student Damian Wayne drops by th...\n",
       "7     Classes are suspended for a funeral. So, is it...\n",
       "8     If the gang thought it was hard to keep up wit...\n",
       "9     “Bubble, bubble, toil and trouble!” To investi...\n",
       "10    The gang is going downtown! Olive and Maps use...\n",
       "11    As Olive and Maps search for Kyle, they find c...\n",
       "12    A “Robin War” tie-in! With Robins fighting cop...\n",
       "13    An all-new era of GOTHAM ACADEMY begins here w...\n",
       "14    It’s part two of “Gotham Academy Yearbook”! Th...\n",
       "15    It’s “Yearbook” part 3! As Olive and the gang ...\n",
       "16    It’s the final chapter of “Yearbook”! Maps and...\n",
       "17    As the “Gotham Academy Yearbook” storyline com...\n",
       "Name: description, dtype: object"
      ]
     },
     "execution_count": 46,
     "metadata": {},
     "output_type": "execute_result"
    }
   ],
   "source": [
    "clean_df[\"description\"]"
   ]
  },
  {
   "cell_type": "code",
   "execution_count": 47,
   "id": "cabdcb1d-0d2e-43bd-acb3-752993512ef7",
   "metadata": {},
   "outputs": [
    {
     "data": {
      "text/plain": [
       "\"[{'api_detail_url': 'https://comicvine.gamespot.com/api/character/4005-38207/', 'id': 38207, 'name': 'Aunt Harriet', 'site_detail_url': 'https://comicvine.gamespot.com/aunt-harriet/4005-38207/'}, {'api_detail_url': 'https://comicvine.gamespot.com/api/character/4005-1699/', 'id': 1699, 'name': 'Batman', 'site_detail_url': 'https://comicvine.gamespot.com/batman/4005-1699/'}, {'api_detail_url': 'https://comicvine.gamespot.com/api/character/4005-109981/', 'id': 109981, 'name': 'Calamity', 'site_detail_url': 'https://comicvine.gamespot.com/calamity/4005-109981/'}, {'api_detail_url': 'https://comicvine.gamespot.com/api/character/4005-108213/', 'id': 108213, 'name': 'Colton Rivera', 'site_detail_url': 'https://comicvine.gamespot.com/colton-rivera/4005-108213/'}, {'api_detail_url': 'https://comicvine.gamespot.com/api/character/4005-108129/', 'id': 108129, 'name': 'Headmaster Hammer', 'site_detail_url': 'https://comicvine.gamespot.com/headmaster-hammer/4005-108129/'}, {'api_detail_url': 'https://comicvine.gamespot.com/api/character/4005-109221/', 'id': 109221, 'name': 'Heathcliff Ray', 'site_detail_url': 'https://comicvine.gamespot.com/heathcliff-ray/4005-109221/'}, {'api_detail_url': 'https://comicvine.gamespot.com/api/character/4005-3725/', 'id': 3725, 'name': 'Killer Croc', 'site_detail_url': 'https://comicvine.gamespot.com/killer-croc/4005-3725/'}, {'api_detail_url': 'https://comicvine.gamespot.com/api/character/4005-108128/', 'id': 108128, 'name': 'Kyle Mizoguchi', 'site_detail_url': 'https://comicvine.gamespot.com/kyle-mizoguchi/4005-108128/'}, {'api_detail_url': 'https://comicvine.gamespot.com/api/character/4005-108212/', 'id': 108212, 'name': 'Lucy', 'site_detail_url': 'https://comicvine.gamespot.com/lucy/4005-108212/'}, {'api_detail_url': 'https://comicvine.gamespot.com/api/character/4005-108130/', 'id': 108130, 'name': 'Maps Mizoguchi', 'site_detail_url': 'https://comicvine.gamespot.com/maps-mizoguchi/4005-108130/'}, {'api_detail_url': 'https://comicvine.gamespot.com/api/character/4005-108131/', 'id': 108131, 'name': 'Olive Silverlock', 'site_detail_url': 'https://comicvine.gamespot.com/olive-silverlock/4005-108131/'}, {'api_detail_url': 'https://comicvine.gamespot.com/api/character/4005-108133/', 'id': 108133, 'name': 'Pomeline Fritch', 'site_detail_url': 'https://comicvine.gamespot.com/pomeline-fritch/4005-108133/'}, {'api_detail_url': 'https://comicvine.gamespot.com/api/character/4005-109222/', 'id': 109222, 'name': 'Professor MacPherson', 'site_detail_url': 'https://comicvine.gamespot.com/professor-macpherson/4005-109222/'}, {'api_detail_url': 'https://comicvine.gamespot.com/api/character/4005-33777/', 'id': 33777, 'name': 'Professor Milo', 'site_detail_url': 'https://comicvine.gamespot.com/professor-milo/4005-33777/'}, {'api_detail_url': 'https://comicvine.gamespot.com/api/character/4005-75149/', 'id': 75149, 'name': 'Warren McGinnis', 'site_detail_url': 'https://comicvine.gamespot.com/warren-mcginnis/4005-75149/'}]\""
      ]
     },
     "execution_count": 47,
     "metadata": {},
     "output_type": "execute_result"
    }
   ],
   "source": [
    "clean_df[\"character_credits\"][0]"
   ]
  },
  {
   "cell_type": "code",
   "execution_count": 48,
   "id": "f02bf4a7-be8b-4996-8313-349cbf9f1685",
   "metadata": {},
   "outputs": [],
   "source": [
    "def clean_character_credits(json_str):\n",
    "    json_str = json_str.replace(\"'\", '\"')\n",
    "    characters = json.loads(json_str)\n",
    "    names = [character['name'] for character in characters]\n",
    "    return names\n",
    "    "
   ]
  },
  {
   "cell_type": "code",
   "execution_count": 51,
   "id": "5dc912ea-dd6e-4bc5-9463-1dd5d81701fe",
   "metadata": {},
   "outputs": [],
   "source": [
    "clean_df[\"character_credits\"] = clean_df[\"character_credits\"].apply(clean_character_credits)"
   ]
  },
  {
   "cell_type": "code",
   "execution_count": 57,
   "id": "52f7ddc4-91cd-4892-9d7d-a4289ce50d24",
   "metadata": {},
   "outputs": [
    {
     "name": "stdout",
     "output_type": "stream",
     "text": [
      "0     [Aunt Harriet, Batman, Calamity, Colton Rivera...\n",
      "1     [Bookworm, Colton Rivera, Heathcliff Ray, Kyle...\n",
      "2     [Aunt Harriet, Batman, Colton Rivera, Headmast...\n",
      "3     [Batman, Calamity, Coach Humphreys, Gray Ghost...\n",
      "4     [Batman, Calamity, Colton Rivera, Headmaster H...\n",
      "5     [Amadeus Arkham, Batman, Calamity, Colton Rive...\n",
      "6     [Batman, Bookworm, Colton Rivera, Damian Wayne...\n",
      "7     [Anna, Calamity, Clayface (Karlo), Coach Humph...\n",
      "8     [Calamity, Clayface (Karlo), Coach Humphreys, ...\n",
      "9     [Calamity, Clayface (Karlo), Colton Rivera, Gr...\n",
      "10    [Batman, Calamity, Colton Rivera, Damian Wayne...\n",
      "11    [Calamity, Colton Rivera, Hugo Strange, Kather...\n",
      "12    [Colton Rivera, Damian Wayne, Efrem, Headmaste...\n",
      "13    [Clayface (Karlo), Colton Rivera, Dillyn, Head...\n",
      "14    [Batman, Bookworm, Clayface (Karlo), Colton Ri...\n",
      "15    [Barbara Gordon, Batman, Colton Rivera, Damian...\n",
      "16    [Black Canary, Colton Rivera, Damian Wayne, He...\n",
      "17    [Coach Humphreys, Colton Rivera, Damian Wayne,...\n",
      "Name: character_credits, dtype: object\n"
     ]
    }
   ],
   "source": [
    "print(clean_df[\"character_credits\"])"
   ]
  }
 ],
 "metadata": {
  "kernelspec": {
   "display_name": "Python 3 (ipykernel)",
   "language": "python",
   "name": "python3"
  },
  "language_info": {
   "codemirror_mode": {
    "name": "ipython",
    "version": 3
   },
   "file_extension": ".py",
   "mimetype": "text/x-python",
   "name": "python",
   "nbconvert_exporter": "python",
   "pygments_lexer": "ipython3",
   "version": "3.11.7"
  }
 },
 "nbformat": 4,
 "nbformat_minor": 5
}
