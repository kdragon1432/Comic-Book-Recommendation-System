{
 "cells": [
  {
   "cell_type": "code",
   "execution_count": 1,
   "id": "b14071b2-328e-4e71-8147-e0df4a7bc349",
   "metadata": {},
   "outputs": [],
   "source": [
    "import pandas as pd\n",
    "import numpy as np"
   ]
  },
  {
   "cell_type": "code",
   "execution_count": 29,
   "id": "be8252bf-0f54-4fde-941a-07c0ab301196",
   "metadata": {},
   "outputs": [],
   "source": [
    "batman_vol1 = pd.read_csv(\"data/batman_vol1.csv\")\n",
    "batman_vol2 = pd.read_csv(\"data/batman_vol2.csv\")\n",
    "batman_vol3 = pd.read_csv(\"data/batman_vol3.csv\")\n",
    "\n",
    "young_justice = pd.read_csv(\"data/young_justice.csv\")\n",
    "we_are_robin = pd.read_csv(\"data/we_are_robin.csv\")\n",
    "gotham_academy = pd.read_csv(\"data/gotham_academy.csv\")\n",
    "super_sons = pd.read_csv(\"data/super_sons.csv\")\n",
    "red_robin = pd.read_csv(\"data/red_robin.csv\")\n",
    "robin1993_2009 = pd.read_csv(\"data/robin1993_2009.csv\")\n",
    "\n",
    "marvel_comics = pd.read_csv(\"data/marvel_comics.csv\")"
   ]
  },
  {
   "cell_type": "code",
   "execution_count": 27,
   "id": "22949bae-3607-44db-9084-e998a03f3e76",
   "metadata": {},
   "outputs": [],
   "source": [
    "batman_all = pd.concat([batman_vol1, batman_vol2, batman_vol3, robin1993_2009, red_robin], ignore_index=True)"
   ]
  },
  {
   "cell_type": "code",
   "execution_count": 21,
   "id": "0a643089-a4f8-40c2-a723-02bc99d63d03",
   "metadata": {},
   "outputs": [],
   "source": [
    "combined = pd.concat([we_are_robin, gotham_academy, young_justice, super_sons], ignore_index=True)"
   ]
  },
  {
   "cell_type": "code",
   "execution_count": 30,
   "id": "9c66a890-0508-403a-9232-582ac8d3b709",
   "metadata": {},
   "outputs": [
    {
     "name": "stdout",
     "output_type": "stream",
     "text": [
      "<class 'pandas.core.frame.DataFrame'>\n",
      "RangeIndex: 34992 entries, 0 to 34991\n",
      "Data columns (total 12 columns):\n",
      " #   Column             Non-Null Count  Dtype \n",
      "---  ------             --------------  ----- \n",
      " 0   comic_name         34992 non-null  object\n",
      " 1   active_years       34992 non-null  object\n",
      " 2   issue_title        34466 non-null  object\n",
      " 3   publish_date       34466 non-null  object\n",
      " 4   issue_description  30395 non-null  object\n",
      " 5   penciler           25482 non-null  object\n",
      " 6   writer             27595 non-null  object\n",
      " 7   cover_artist       12255 non-null  object\n",
      " 8   Imprint            11684 non-null  object\n",
      " 9   Format             32894 non-null  object\n",
      " 10  Rating             12619 non-null  object\n",
      " 11  Price              32894 non-null  object\n",
      "dtypes: object(12)\n",
      "memory usage: 3.2+ MB\n"
     ]
    }
   ],
   "source": [
    "marvel_comics.info()"
   ]
  },
  {
   "cell_type": "code",
   "execution_count": 28,
   "id": "74f62632-1073-4a94-8f2b-b341327f3665",
   "metadata": {},
   "outputs": [
    {
     "name": "stdout",
     "output_type": "stream",
     "text": [
      "<class 'pandas.core.frame.DataFrame'>\n",
      "RangeIndex: 1132 entries, 0 to 1131\n",
      "Data columns (total 32 columns):\n",
      " #   Column                       Non-Null Count  Dtype  \n",
      "---  ------                       --------------  -----  \n",
      " 0   Unnamed: 0                   1132 non-null   int64  \n",
      " 1   aliases                      0 non-null      float64\n",
      " 2   api_detail_url               1132 non-null   object \n",
      " 3   associated_images            1132 non-null   object \n",
      " 4   character_credits            1132 non-null   object \n",
      " 5   character_died_in            1132 non-null   object \n",
      " 6   concept_credits              1132 non-null   object \n",
      " 7   cover_date                   1132 non-null   object \n",
      " 8   date_added                   1132 non-null   object \n",
      " 9   date_last_updated            1132 non-null   object \n",
      " 10  deck                         84 non-null     object \n",
      " 11  description                  1106 non-null   object \n",
      " 12  first_appearance_characters  0 non-null      float64\n",
      " 13  first_appearance_concepts    0 non-null      float64\n",
      " 14  first_appearance_locations   0 non-null      float64\n",
      " 15  first_appearance_objects     0 non-null      float64\n",
      " 16  first_appearance_storyarcs   0 non-null      float64\n",
      " 17  first_appearance_teams       0 non-null      float64\n",
      " 18  has_staff_review             1132 non-null   object \n",
      " 19  id                           1132 non-null   int64  \n",
      " 20  image                        1132 non-null   object \n",
      " 21  issue_number                 1132 non-null   object \n",
      " 22  location_credits             1132 non-null   object \n",
      " 23  name                         1131 non-null   object \n",
      " 24  object_credits               1132 non-null   object \n",
      " 25  person_credits               1132 non-null   object \n",
      " 26  site_detail_url              1132 non-null   object \n",
      " 27  store_date                   567 non-null    object \n",
      " 28  story_arc_credits            1132 non-null   object \n",
      " 29  team_credits                 1132 non-null   object \n",
      " 30  team_disbanded_in            1132 non-null   object \n",
      " 31  volume                       1132 non-null   object \n",
      "dtypes: float64(7), int64(2), object(23)\n",
      "memory usage: 283.1+ KB\n"
     ]
    }
   ],
   "source": [
    "batman_all.info()"
   ]
  },
  {
   "cell_type": "code",
   "execution_count": 22,
   "id": "42cd8ba5-038c-4753-be83-32f86035f359",
   "metadata": {},
   "outputs": [
    {
     "name": "stdout",
     "output_type": "stream",
     "text": [
      "<class 'pandas.core.frame.DataFrame'>\n",
      "RangeIndex: 102 entries, 0 to 101\n",
      "Data columns (total 32 columns):\n",
      " #   Column                       Non-Null Count  Dtype  \n",
      "---  ------                       --------------  -----  \n",
      " 0   Unnamed: 0                   102 non-null    int64  \n",
      " 1   aliases                      0 non-null      float64\n",
      " 2   api_detail_url               102 non-null    object \n",
      " 3   associated_images            102 non-null    object \n",
      " 4   character_credits            102 non-null    object \n",
      " 5   character_died_in            102 non-null    object \n",
      " 6   concept_credits              102 non-null    object \n",
      " 7   cover_date                   102 non-null    object \n",
      " 8   date_added                   102 non-null    object \n",
      " 9   date_last_updated            102 non-null    object \n",
      " 10  deck                         1 non-null      object \n",
      " 11  description                  102 non-null    object \n",
      " 12  first_appearance_characters  0 non-null      float64\n",
      " 13  first_appearance_concepts    0 non-null      float64\n",
      " 14  first_appearance_locations   0 non-null      float64\n",
      " 15  first_appearance_objects     0 non-null      float64\n",
      " 16  first_appearance_storyarcs   0 non-null      float64\n",
      " 17  first_appearance_teams       0 non-null      float64\n",
      " 18  has_staff_review             102 non-null    object \n",
      " 19  id                           102 non-null    int64  \n",
      " 20  image                        102 non-null    object \n",
      " 21  issue_number                 102 non-null    int64  \n",
      " 22  location_credits             102 non-null    object \n",
      " 23  name                         100 non-null    object \n",
      " 24  object_credits               102 non-null    object \n",
      " 25  person_credits               102 non-null    object \n",
      " 26  site_detail_url              102 non-null    object \n",
      " 27  store_date                   54 non-null     object \n",
      " 28  story_arc_credits            102 non-null    object \n",
      " 29  team_credits                 102 non-null    object \n",
      " 30  team_disbanded_in            102 non-null    object \n",
      " 31  volume                       102 non-null    object \n",
      "dtypes: float64(7), int64(3), object(22)\n",
      "memory usage: 25.6+ KB\n"
     ]
    }
   ],
   "source": [
    "combined.info()"
   ]
  },
  {
   "cell_type": "code",
   "execution_count": null,
   "id": "e200055c-f3cb-4be2-be37-884120dc82b5",
   "metadata": {},
   "outputs": [],
   "source": []
  },
  {
   "cell_type": "code",
   "execution_count": null,
   "id": "627ebb94-3216-4a60-8789-9bc09f89eeb6",
   "metadata": {},
   "outputs": [],
   "source": []
  },
  {
   "cell_type": "code",
   "execution_count": null,
   "id": "a6cfb143-1058-451d-aec7-e1231052741c",
   "metadata": {},
   "outputs": [],
   "source": []
  }
 ],
 "metadata": {
  "kernelspec": {
   "display_name": "Python 3 (ipykernel)",
   "language": "python",
   "name": "python3"
  },
  "language_info": {
   "codemirror_mode": {
    "name": "ipython",
    "version": 3
   },
   "file_extension": ".py",
   "mimetype": "text/x-python",
   "name": "python",
   "nbconvert_exporter": "python",
   "pygments_lexer": "ipython3",
   "version": "3.11.7"
  }
 },
 "nbformat": 4,
 "nbformat_minor": 5
}
