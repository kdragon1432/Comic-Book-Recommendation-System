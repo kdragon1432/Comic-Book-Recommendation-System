{
 "cells": [
  {
   "cell_type": "code",
   "execution_count": 2,
   "id": "0669cb44-e073-4eb2-a3c9-92e9c60607b7",
   "metadata": {},
   "outputs": [],
   "source": [
    "import pandas as pd\n",
    "import numpy as np\n",
    "import json\n",
    "\n",
    "from bs4 import BeautifulSoup\n",
    "\n",
    "from sklearn.feature_extraction.text import TfidfVectorizer\n",
    "from sklearn.metrics.pairwise import linear_kernel"
   ]
  },
  {
   "cell_type": "code",
   "execution_count": 3,
   "id": "2ad38991-178e-4b4c-9fd1-90375fcafcfa",
   "metadata": {},
   "outputs": [],
   "source": [
    "gotham_academy = pd.read_csv(\"data/gotham_academy.csv\")"
   ]
  },
  {
   "cell_type": "code",
   "execution_count": 4,
   "id": "0fd4bcfe-23b1-4b56-97cb-051da33a9763",
   "metadata": {},
   "outputs": [
    {
     "name": "stdout",
     "output_type": "stream",
     "text": [
      "<class 'pandas.core.frame.DataFrame'>\n",
      "RangeIndex: 18 entries, 0 to 17\n",
      "Data columns (total 32 columns):\n",
      " #   Column                       Non-Null Count  Dtype  \n",
      "---  ------                       --------------  -----  \n",
      " 0   Unnamed: 0                   18 non-null     int64  \n",
      " 1   aliases                      0 non-null      float64\n",
      " 2   api_detail_url               18 non-null     object \n",
      " 3   associated_images            18 non-null     object \n",
      " 4   character_credits            18 non-null     object \n",
      " 5   character_died_in            18 non-null     object \n",
      " 6   concept_credits              18 non-null     object \n",
      " 7   cover_date                   18 non-null     object \n",
      " 8   date_added                   18 non-null     object \n",
      " 9   date_last_updated            18 non-null     object \n",
      " 10  deck                         0 non-null      float64\n",
      " 11  description                  18 non-null     object \n",
      " 12  first_appearance_characters  0 non-null      float64\n",
      " 13  first_appearance_concepts    0 non-null      float64\n",
      " 14  first_appearance_locations   0 non-null      float64\n",
      " 15  first_appearance_objects     0 non-null      float64\n",
      " 16  first_appearance_storyarcs   0 non-null      float64\n",
      " 17  first_appearance_teams       0 non-null      float64\n",
      " 18  has_staff_review             18 non-null     object \n",
      " 19  id                           18 non-null     int64  \n",
      " 20  image                        18 non-null     object \n",
      " 21  issue_number                 18 non-null     int64  \n",
      " 22  location_credits             18 non-null     object \n",
      " 23  name                         17 non-null     object \n",
      " 24  object_credits               18 non-null     object \n",
      " 25  person_credits               18 non-null     object \n",
      " 26  site_detail_url              18 non-null     object \n",
      " 27  store_date                   18 non-null     object \n",
      " 28  story_arc_credits            18 non-null     object \n",
      " 29  team_credits                 18 non-null     object \n",
      " 30  team_disbanded_in            18 non-null     object \n",
      " 31  volume                       18 non-null     object \n",
      "dtypes: float64(8), int64(3), object(21)\n",
      "memory usage: 4.6+ KB\n"
     ]
    }
   ],
   "source": [
    "gotham_academy.info()"
   ]
  },
  {
   "cell_type": "code",
   "execution_count": 5,
   "id": "a8478e95-9971-4680-a804-a0883328b908",
   "metadata": {},
   "outputs": [],
   "source": [
    "def clean_data(input_dataframe):\n",
    "    df = input_dataframe.copy()\n",
    "    df.drop(columns=[\"Unnamed: 0\", \"aliases\", \"deck\", \"first_appearance_characters\", \"first_appearance_concepts\", \n",
    "                    \"first_appearance_locations\", \"first_appearance_objects\", \"first_appearance_storyarcs\",\n",
    "                    \"first_appearance_teams\", \"store_date\"], inplace=True)\n",
    "    df.dropna(subset=['name'], inplace=True)\n",
    "    df['cover_date'] = pd.to_datetime(df['cover_date'], errors='coerce')\n",
    "    df['date_added'] = pd.to_datetime(df['date_added'], errors='coerce')\n",
    "    df['date_last_updated'] = pd.to_datetime(df['date_last_updated'], errors='coerce')\n",
    "    df['description'] = df['description'].fillna('')\n",
    "    return df"
   ]
  },
  {
   "cell_type": "code",
   "execution_count": 6,
   "id": "d0c8848f-f669-4fa2-a72a-a0d09ebb1d37",
   "metadata": {},
   "outputs": [],
   "source": [
    "def clean_description(html_text):\n",
    "    soup = BeautifulSoup(html_text, 'html.parser')\n",
    "    cleaned_text = soup.get_text(separator='\\n')\n",
    "    return cleaned_text\n",
    "\n",
    "def clean_character_credits(json_str):\n",
    "    json_str = json_str.replace(\"'\", '\"')\n",
    "    characters = json.loads(json_str)\n",
    "    names = [character['name'] for character in characters]\n",
    "    return names\n",
    "\n",
    "def clean_character_died_in(json_str):\n",
    "    json_str = json_str.replace(\"'\",'\"')\n",
    "    characters = json.loads(json_str)\n",
    "    names = [character['name'] for character in characters]\n",
    "    return names\n",
    "\n",
    "def clean_concept_credits(json_str):\n",
    "    json_str = json_str.replace(\"'\", '\"')\n",
    "    concepts = json.loads(json_str)\n",
    "    names = [concept['name'] for concept in concepts]\n",
    "    return names\n",
    "\n",
    "def clean_location_credits(json_str):\n",
    "    json_str = json_str.replace(\"'\", '\"')\n",
    "    locations = json.loads(json_str)\n",
    "    names = [location['name'] for location in locations]\n",
    "    return names\n",
    "    \n",
    "def clean_object_credits(json_str):\n",
    "    json_str = json_str.replace(\"'\", '\"')\n",
    "    objects = json.loads(json_str)\n",
    "    names = [object['name'] for object in objects]\n",
    "    return names\n",
    "\n",
    "def clean_person_credits(json_str):\n",
    "    json_str = json_str.replace(\"'\", '\"')\n",
    "    persons = json.loads(json_str)\n",
    "    names = [person['name'] for person in persons]\n",
    "    return names\n",
    "\n",
    "def clean_story_arc_credits(json_str):\n",
    "    json_str = json_str.replace(\"'\", '\"')\n",
    "    story_arcs = json.loads(json_str)\n",
    "    names = [story_arc['name'] for story_arc in story_arcs]\n",
    "    return names\n",
    "\n",
    "def clean_team_credits(json_str):\n",
    "    json_str = json_str.replace(\"'\",'\"')\n",
    "    team_credits = json.loads(json_str)\n",
    "    names = [team_credit['name'] for team_credit in team_credits]\n",
    "    return names\n",
    "\n",
    "def clean_team_disbanded_in(json_str):\n",
    "    json_str = json_str.replace(\"'\",'\"')\n",
    "    lst = json.loads(json_str)\n",
    "    names = [item['name'] for item in lst]\n",
    "    return names\n",
    "    \n",
    "def clean_volume(json_str):\n",
    "    json_str = json_str.replace(\"'\",'\"')\n",
    "    lst = json.loads(json_str)\n",
    "    names = [item[\"name\"] for item in lst]\n",
    "    return names\n",
    "    \n",
    "    \n",
    "\n"
   ]
  },
  {
   "cell_type": "code",
   "execution_count": 7,
   "id": "53aceeec-57bf-4739-bbdc-2797b173a6bc",
   "metadata": {},
   "outputs": [],
   "source": [
    "def clean_dataframe(df):\n",
    "    df[\"description\"] = df[\"description\"].apply(clean_description)\n",
    "    df[\"character_credits\"] = df[\"character_credits\"].apply(clean_character_credits)\n",
    "    df[\"character_died_in\"] = df[\"character_died_in\"].apply(clean_character_died_in)\n",
    "    df[\"concept_credits\"] = df[\"concept_credits\"].apply(clean_concept_credits)\n",
    "    df[\"location_credits\"] = df[\"location_credits\"].apply(clean_location_credits)\n",
    "    df[\"object_credits\"] = df[\"object_credits\"].apply(clean_object_credits)\n",
    "    df[\"person_credits\"] = df[\"person_credits\"].apply(clean_person_credits)\n",
    "    df[\"story_arc_credits\"] = df[\"story_arc_credits\"].apply(clean_story_arc_credits)\n",
    "    df[\"team_credits\"] = df[\"team_credits\"].apply(clean_team_credits)\n",
    "    df[\"team_disbanded_in\"] = df[\"team_disbanded_in\"].apply(clean_team_disbanded_in)\n",
    "    df[\"volume\"] = df[\"volume\"].apply(clean_volume)"
   ]
  },
  {
   "cell_type": "code",
   "execution_count": 8,
   "id": "9f26c7b5-aef0-4830-86e9-fafdd54dc9ec",
   "metadata": {},
   "outputs": [],
   "source": [
    "gotham_academy = clean_data(gotham_academy)"
   ]
  },
  {
   "cell_type": "code",
   "execution_count": 9,
   "id": "3c7e1482-0c47-47f7-855f-32a324b0d6b4",
   "metadata": {},
   "outputs": [
    {
     "ename": "TypeError",
     "evalue": "string indices must be integers, not 'str'",
     "output_type": "error",
     "traceback": [
      "\u001b[1;31m---------------------------------------------------------------------------\u001b[0m",
      "\u001b[1;31mTypeError\u001b[0m                                 Traceback (most recent call last)",
      "Cell \u001b[1;32mIn[9], line 1\u001b[0m\n\u001b[1;32m----> 1\u001b[0m \u001b[43mclean_dataframe\u001b[49m\u001b[43m(\u001b[49m\u001b[43mgotham_academy\u001b[49m\u001b[43m)\u001b[49m\n",
      "Cell \u001b[1;32mIn[7], line 12\u001b[0m, in \u001b[0;36mclean_dataframe\u001b[1;34m(df)\u001b[0m\n\u001b[0;32m     10\u001b[0m df[\u001b[38;5;124m\"\u001b[39m\u001b[38;5;124mteam_credits\u001b[39m\u001b[38;5;124m\"\u001b[39m] \u001b[38;5;241m=\u001b[39m df[\u001b[38;5;124m\"\u001b[39m\u001b[38;5;124mteam_credits\u001b[39m\u001b[38;5;124m\"\u001b[39m]\u001b[38;5;241m.\u001b[39mapply(clean_team_credits)\n\u001b[0;32m     11\u001b[0m df[\u001b[38;5;124m\"\u001b[39m\u001b[38;5;124mteam_disbanded_in\u001b[39m\u001b[38;5;124m\"\u001b[39m] \u001b[38;5;241m=\u001b[39m df[\u001b[38;5;124m\"\u001b[39m\u001b[38;5;124mteam_disbanded_in\u001b[39m\u001b[38;5;124m\"\u001b[39m]\u001b[38;5;241m.\u001b[39mapply(clean_team_disbanded_in)\n\u001b[1;32m---> 12\u001b[0m df[\u001b[38;5;124m\"\u001b[39m\u001b[38;5;124mvolume\u001b[39m\u001b[38;5;124m\"\u001b[39m] \u001b[38;5;241m=\u001b[39m \u001b[43mdf\u001b[49m\u001b[43m[\u001b[49m\u001b[38;5;124;43m\"\u001b[39;49m\u001b[38;5;124;43mvolume\u001b[39;49m\u001b[38;5;124;43m\"\u001b[39;49m\u001b[43m]\u001b[49m\u001b[38;5;241;43m.\u001b[39;49m\u001b[43mapply\u001b[49m\u001b[43m(\u001b[49m\u001b[43mclean_volume\u001b[49m\u001b[43m)\u001b[49m\n",
      "File \u001b[1;32m~\\AppData\\Roaming\\Python\\Python311\\site-packages\\pandas\\core\\series.py:4760\u001b[0m, in \u001b[0;36mSeries.apply\u001b[1;34m(self, func, convert_dtype, args, by_row, **kwargs)\u001b[0m\n\u001b[0;32m   4625\u001b[0m \u001b[38;5;28;01mdef\u001b[39;00m \u001b[38;5;21mapply\u001b[39m(\n\u001b[0;32m   4626\u001b[0m     \u001b[38;5;28mself\u001b[39m,\n\u001b[0;32m   4627\u001b[0m     func: AggFuncType,\n\u001b[1;32m   (...)\u001b[0m\n\u001b[0;32m   4632\u001b[0m     \u001b[38;5;241m*\u001b[39m\u001b[38;5;241m*\u001b[39mkwargs,\n\u001b[0;32m   4633\u001b[0m ) \u001b[38;5;241m-\u001b[39m\u001b[38;5;241m>\u001b[39m DataFrame \u001b[38;5;241m|\u001b[39m Series:\n\u001b[0;32m   4634\u001b[0m \u001b[38;5;250m    \u001b[39m\u001b[38;5;124;03m\"\"\"\u001b[39;00m\n\u001b[0;32m   4635\u001b[0m \u001b[38;5;124;03m    Invoke function on values of Series.\u001b[39;00m\n\u001b[0;32m   4636\u001b[0m \n\u001b[1;32m   (...)\u001b[0m\n\u001b[0;32m   4751\u001b[0m \u001b[38;5;124;03m    dtype: float64\u001b[39;00m\n\u001b[0;32m   4752\u001b[0m \u001b[38;5;124;03m    \"\"\"\u001b[39;00m\n\u001b[0;32m   4753\u001b[0m     \u001b[38;5;28;01mreturn\u001b[39;00m \u001b[43mSeriesApply\u001b[49m\u001b[43m(\u001b[49m\n\u001b[0;32m   4754\u001b[0m \u001b[43m        \u001b[49m\u001b[38;5;28;43mself\u001b[39;49m\u001b[43m,\u001b[49m\n\u001b[0;32m   4755\u001b[0m \u001b[43m        \u001b[49m\u001b[43mfunc\u001b[49m\u001b[43m,\u001b[49m\n\u001b[0;32m   4756\u001b[0m \u001b[43m        \u001b[49m\u001b[43mconvert_dtype\u001b[49m\u001b[38;5;241;43m=\u001b[39;49m\u001b[43mconvert_dtype\u001b[49m\u001b[43m,\u001b[49m\n\u001b[0;32m   4757\u001b[0m \u001b[43m        \u001b[49m\u001b[43mby_row\u001b[49m\u001b[38;5;241;43m=\u001b[39;49m\u001b[43mby_row\u001b[49m\u001b[43m,\u001b[49m\n\u001b[0;32m   4758\u001b[0m \u001b[43m        \u001b[49m\u001b[43margs\u001b[49m\u001b[38;5;241;43m=\u001b[39;49m\u001b[43margs\u001b[49m\u001b[43m,\u001b[49m\n\u001b[0;32m   4759\u001b[0m \u001b[43m        \u001b[49m\u001b[43mkwargs\u001b[49m\u001b[38;5;241;43m=\u001b[39;49m\u001b[43mkwargs\u001b[49m\u001b[43m,\u001b[49m\n\u001b[1;32m-> 4760\u001b[0m \u001b[43m    \u001b[49m\u001b[43m)\u001b[49m\u001b[38;5;241;43m.\u001b[39;49m\u001b[43mapply\u001b[49m\u001b[43m(\u001b[49m\u001b[43m)\u001b[49m\n",
      "File \u001b[1;32m~\\AppData\\Roaming\\Python\\Python311\\site-packages\\pandas\\core\\apply.py:1207\u001b[0m, in \u001b[0;36mSeriesApply.apply\u001b[1;34m(self)\u001b[0m\n\u001b[0;32m   1204\u001b[0m     \u001b[38;5;28;01mreturn\u001b[39;00m \u001b[38;5;28mself\u001b[39m\u001b[38;5;241m.\u001b[39mapply_compat()\n\u001b[0;32m   1206\u001b[0m \u001b[38;5;66;03m# self.func is Callable\u001b[39;00m\n\u001b[1;32m-> 1207\u001b[0m \u001b[38;5;28;01mreturn\u001b[39;00m \u001b[38;5;28;43mself\u001b[39;49m\u001b[38;5;241;43m.\u001b[39;49m\u001b[43mapply_standard\u001b[49m\u001b[43m(\u001b[49m\u001b[43m)\u001b[49m\n",
      "File \u001b[1;32m~\\AppData\\Roaming\\Python\\Python311\\site-packages\\pandas\\core\\apply.py:1287\u001b[0m, in \u001b[0;36mSeriesApply.apply_standard\u001b[1;34m(self)\u001b[0m\n\u001b[0;32m   1281\u001b[0m \u001b[38;5;66;03m# row-wise access\u001b[39;00m\n\u001b[0;32m   1282\u001b[0m \u001b[38;5;66;03m# apply doesn't have a `na_action` keyword and for backward compat reasons\u001b[39;00m\n\u001b[0;32m   1283\u001b[0m \u001b[38;5;66;03m# we need to give `na_action=\"ignore\"` for categorical data.\u001b[39;00m\n\u001b[0;32m   1284\u001b[0m \u001b[38;5;66;03m# TODO: remove the `na_action=\"ignore\"` when that default has been changed in\u001b[39;00m\n\u001b[0;32m   1285\u001b[0m \u001b[38;5;66;03m#  Categorical (GH51645).\u001b[39;00m\n\u001b[0;32m   1286\u001b[0m action \u001b[38;5;241m=\u001b[39m \u001b[38;5;124m\"\u001b[39m\u001b[38;5;124mignore\u001b[39m\u001b[38;5;124m\"\u001b[39m \u001b[38;5;28;01mif\u001b[39;00m \u001b[38;5;28misinstance\u001b[39m(obj\u001b[38;5;241m.\u001b[39mdtype, CategoricalDtype) \u001b[38;5;28;01melse\u001b[39;00m \u001b[38;5;28;01mNone\u001b[39;00m\n\u001b[1;32m-> 1287\u001b[0m mapped \u001b[38;5;241m=\u001b[39m \u001b[43mobj\u001b[49m\u001b[38;5;241;43m.\u001b[39;49m\u001b[43m_map_values\u001b[49m\u001b[43m(\u001b[49m\n\u001b[0;32m   1288\u001b[0m \u001b[43m    \u001b[49m\u001b[43mmapper\u001b[49m\u001b[38;5;241;43m=\u001b[39;49m\u001b[43mcurried\u001b[49m\u001b[43m,\u001b[49m\u001b[43m \u001b[49m\u001b[43mna_action\u001b[49m\u001b[38;5;241;43m=\u001b[39;49m\u001b[43maction\u001b[49m\u001b[43m,\u001b[49m\u001b[43m \u001b[49m\u001b[43mconvert\u001b[49m\u001b[38;5;241;43m=\u001b[39;49m\u001b[38;5;28;43mself\u001b[39;49m\u001b[38;5;241;43m.\u001b[39;49m\u001b[43mconvert_dtype\u001b[49m\n\u001b[0;32m   1289\u001b[0m \u001b[43m\u001b[49m\u001b[43m)\u001b[49m\n\u001b[0;32m   1291\u001b[0m \u001b[38;5;28;01mif\u001b[39;00m \u001b[38;5;28mlen\u001b[39m(mapped) \u001b[38;5;129;01mand\u001b[39;00m \u001b[38;5;28misinstance\u001b[39m(mapped[\u001b[38;5;241m0\u001b[39m], ABCSeries):\n\u001b[0;32m   1292\u001b[0m     \u001b[38;5;66;03m# GH#43986 Need to do list(mapped) in order to get treated as nested\u001b[39;00m\n\u001b[0;32m   1293\u001b[0m     \u001b[38;5;66;03m#  See also GH#25959 regarding EA support\u001b[39;00m\n\u001b[0;32m   1294\u001b[0m     \u001b[38;5;28;01mreturn\u001b[39;00m obj\u001b[38;5;241m.\u001b[39m_constructor_expanddim(\u001b[38;5;28mlist\u001b[39m(mapped), index\u001b[38;5;241m=\u001b[39mobj\u001b[38;5;241m.\u001b[39mindex)\n",
      "File \u001b[1;32m~\\AppData\\Roaming\\Python\\Python311\\site-packages\\pandas\\core\\base.py:921\u001b[0m, in \u001b[0;36mIndexOpsMixin._map_values\u001b[1;34m(self, mapper, na_action, convert)\u001b[0m\n\u001b[0;32m    918\u001b[0m \u001b[38;5;28;01mif\u001b[39;00m \u001b[38;5;28misinstance\u001b[39m(arr, ExtensionArray):\n\u001b[0;32m    919\u001b[0m     \u001b[38;5;28;01mreturn\u001b[39;00m arr\u001b[38;5;241m.\u001b[39mmap(mapper, na_action\u001b[38;5;241m=\u001b[39mna_action)\n\u001b[1;32m--> 921\u001b[0m \u001b[38;5;28;01mreturn\u001b[39;00m \u001b[43malgorithms\u001b[49m\u001b[38;5;241;43m.\u001b[39;49m\u001b[43mmap_array\u001b[49m\u001b[43m(\u001b[49m\u001b[43marr\u001b[49m\u001b[43m,\u001b[49m\u001b[43m \u001b[49m\u001b[43mmapper\u001b[49m\u001b[43m,\u001b[49m\u001b[43m \u001b[49m\u001b[43mna_action\u001b[49m\u001b[38;5;241;43m=\u001b[39;49m\u001b[43mna_action\u001b[49m\u001b[43m,\u001b[49m\u001b[43m \u001b[49m\u001b[43mconvert\u001b[49m\u001b[38;5;241;43m=\u001b[39;49m\u001b[43mconvert\u001b[49m\u001b[43m)\u001b[49m\n",
      "File \u001b[1;32m~\\AppData\\Roaming\\Python\\Python311\\site-packages\\pandas\\core\\algorithms.py:1814\u001b[0m, in \u001b[0;36mmap_array\u001b[1;34m(arr, mapper, na_action, convert)\u001b[0m\n\u001b[0;32m   1812\u001b[0m values \u001b[38;5;241m=\u001b[39m arr\u001b[38;5;241m.\u001b[39mastype(\u001b[38;5;28mobject\u001b[39m, copy\u001b[38;5;241m=\u001b[39m\u001b[38;5;28;01mFalse\u001b[39;00m)\n\u001b[0;32m   1813\u001b[0m \u001b[38;5;28;01mif\u001b[39;00m na_action \u001b[38;5;129;01mis\u001b[39;00m \u001b[38;5;28;01mNone\u001b[39;00m:\n\u001b[1;32m-> 1814\u001b[0m     \u001b[38;5;28;01mreturn\u001b[39;00m \u001b[43mlib\u001b[49m\u001b[38;5;241;43m.\u001b[39;49m\u001b[43mmap_infer\u001b[49m\u001b[43m(\u001b[49m\u001b[43mvalues\u001b[49m\u001b[43m,\u001b[49m\u001b[43m \u001b[49m\u001b[43mmapper\u001b[49m\u001b[43m,\u001b[49m\u001b[43m \u001b[49m\u001b[43mconvert\u001b[49m\u001b[38;5;241;43m=\u001b[39;49m\u001b[43mconvert\u001b[49m\u001b[43m)\u001b[49m\n\u001b[0;32m   1815\u001b[0m \u001b[38;5;28;01melse\u001b[39;00m:\n\u001b[0;32m   1816\u001b[0m     \u001b[38;5;28;01mreturn\u001b[39;00m lib\u001b[38;5;241m.\u001b[39mmap_infer_mask(\n\u001b[0;32m   1817\u001b[0m         values, mapper, mask\u001b[38;5;241m=\u001b[39misna(values)\u001b[38;5;241m.\u001b[39mview(np\u001b[38;5;241m.\u001b[39muint8), convert\u001b[38;5;241m=\u001b[39mconvert\n\u001b[0;32m   1818\u001b[0m     )\n",
      "File \u001b[1;32mlib.pyx:2917\u001b[0m, in \u001b[0;36mpandas._libs.lib.map_infer\u001b[1;34m()\u001b[0m\n",
      "Cell \u001b[1;32mIn[6], line 63\u001b[0m, in \u001b[0;36mclean_volume\u001b[1;34m(json_str)\u001b[0m\n\u001b[0;32m     61\u001b[0m json_str \u001b[38;5;241m=\u001b[39m json_str\u001b[38;5;241m.\u001b[39mreplace(\u001b[38;5;124m\"\u001b[39m\u001b[38;5;124m'\u001b[39m\u001b[38;5;124m\"\u001b[39m,\u001b[38;5;124m'\u001b[39m\u001b[38;5;124m\"\u001b[39m\u001b[38;5;124m'\u001b[39m)\n\u001b[0;32m     62\u001b[0m lst \u001b[38;5;241m=\u001b[39m json\u001b[38;5;241m.\u001b[39mloads(json_str)\n\u001b[1;32m---> 63\u001b[0m names \u001b[38;5;241m=\u001b[39m \u001b[43m[\u001b[49m\u001b[43mitem\u001b[49m\u001b[43m[\u001b[49m\u001b[38;5;124;43m\"\u001b[39;49m\u001b[38;5;124;43mname\u001b[39;49m\u001b[38;5;124;43m\"\u001b[39;49m\u001b[43m]\u001b[49m\u001b[43m \u001b[49m\u001b[38;5;28;43;01mfor\u001b[39;49;00m\u001b[43m \u001b[49m\u001b[43mitem\u001b[49m\u001b[43m \u001b[49m\u001b[38;5;129;43;01min\u001b[39;49;00m\u001b[43m \u001b[49m\u001b[43mlst\u001b[49m\u001b[43m]\u001b[49m\n\u001b[0;32m     64\u001b[0m \u001b[38;5;28;01mreturn\u001b[39;00m names\n",
      "Cell \u001b[1;32mIn[6], line 63\u001b[0m, in \u001b[0;36m<listcomp>\u001b[1;34m(.0)\u001b[0m\n\u001b[0;32m     61\u001b[0m json_str \u001b[38;5;241m=\u001b[39m json_str\u001b[38;5;241m.\u001b[39mreplace(\u001b[38;5;124m\"\u001b[39m\u001b[38;5;124m'\u001b[39m\u001b[38;5;124m\"\u001b[39m,\u001b[38;5;124m'\u001b[39m\u001b[38;5;124m\"\u001b[39m\u001b[38;5;124m'\u001b[39m)\n\u001b[0;32m     62\u001b[0m lst \u001b[38;5;241m=\u001b[39m json\u001b[38;5;241m.\u001b[39mloads(json_str)\n\u001b[1;32m---> 63\u001b[0m names \u001b[38;5;241m=\u001b[39m [\u001b[43mitem\u001b[49m\u001b[43m[\u001b[49m\u001b[38;5;124;43m\"\u001b[39;49m\u001b[38;5;124;43mname\u001b[39;49m\u001b[38;5;124;43m\"\u001b[39;49m\u001b[43m]\u001b[49m \u001b[38;5;28;01mfor\u001b[39;00m item \u001b[38;5;129;01min\u001b[39;00m lst]\n\u001b[0;32m     64\u001b[0m \u001b[38;5;28;01mreturn\u001b[39;00m names\n",
      "\u001b[1;31mTypeError\u001b[0m: string indices must be integers, not 'str'"
     ]
    }
   ],
   "source": [
    "clean_dataframe(gotham_academy)"
   ]
  },
  {
   "cell_type": "code",
   "execution_count": 10,
   "id": "08ce975e-5927-4093-8e1d-6424fba9ec20",
   "metadata": {},
   "outputs": [
    {
     "data": {
      "text/plain": [
       "0                             Welcome to Gotham Academy\n",
       "1                    The Diary of Millie Jane Cobblepot\n",
       "2                           The Ghost in the North Hall\n",
       "3                              The Secret of the Symbol\n",
       "4                                   Save The Last Dance\n",
       "5                                            Pizza Club\n",
       "6                          Curse of the Inishtree Quill\n",
       "7                                               Requiem\n",
       "8                                              Calamity\n",
       "9                                       The Cursed Play\n",
       "10                                      Mission: Gotham\n",
       "12                        Robins vs. Zombies: Robin War\n",
       "13    Yearbook Part One; Animal Science 101; Queen G...\n",
       "14    Yearbook Part Two; Staff Party; Serpents & Sec...\n",
       "15    Yearbook Part Three; Maps' Day Out; Boring Sun...\n",
       "16    Yearbook Part Four; This One's For You; A Fami...\n",
       "17    Yearbook Part Five; Whatever Happened to Profe...\n",
       "Name: name, dtype: object"
      ]
     },
     "execution_count": 10,
     "metadata": {},
     "output_type": "execute_result"
    }
   ],
   "source": [
    "gotham_academy[\"name\"]"
   ]
  },
  {
   "cell_type": "code",
   "execution_count": 11,
   "id": "8d37e49c-7cf8-4877-b557-731c830fa6f9",
   "metadata": {},
   "outputs": [],
   "source": [
    "tfidf = TfidfVectorizer(stop_words='english')"
   ]
  },
  {
   "cell_type": "code",
   "execution_count": 12,
   "id": "e5e762dd-1473-4659-953a-e5b558576525",
   "metadata": {},
   "outputs": [],
   "source": [
    "tfidf_matrix = tfidf.fit_transform(gotham_academy['description'])"
   ]
  },
  {
   "cell_type": "code",
   "execution_count": 13,
   "id": "a7bf262a-a6bc-4b42-b276-c639072d5d98",
   "metadata": {},
   "outputs": [],
   "source": [
    "cosine_sim = linear_kernel(tfidf_matrix, tfidf_matrix)"
   ]
  },
  {
   "cell_type": "code",
   "execution_count": 15,
   "id": "65b077a2-d48d-4ff1-97bb-e00a71b47bca",
   "metadata": {},
   "outputs": [],
   "source": [
    "def get_recommendations(df, title, cosine_sim=cosine_sim):\n",
    "    # Get the index of the issue that matches the title\n",
    "    idx = df[df['name'] == title].index[0]\n",
    "    # Get the pairwise similarity scores of all issues with that issue\n",
    "    sim_scores = list(enumerate(cosine_sim[idx]))\n",
    "    # Sort the issues based on the similarity scores\n",
    "    sim_scores = sorted(sim_scores, key=lambda x: x[1], reverse=True)\n",
    "    # Get the scores of the 10 most similar issues\n",
    "    sim_scores = sim_scores[1:11]\n",
    "    # Get the issue indices\n",
    "    issue_indices = [i[0] for i in sim_scores]\n",
    "    # Return the top 10 most similar issues\n",
    "    return df['name'].iloc[issue_indices]\n",
    "\n"
   ]
  },
  {
   "cell_type": "code",
   "execution_count": 16,
   "id": "73f8de9b-c6dc-45a3-9ab2-a89486a3e9fb",
   "metadata": {},
   "outputs": [
    {
     "name": "stdout",
     "output_type": "stream",
     "text": [
      "15    Yearbook Part Three; Maps' Day Out; Boring Sun...\n",
      "10                                      Mission: Gotham\n",
      "0                             Welcome to Gotham Academy\n",
      "1                    The Diary of Millie Jane Cobblepot\n",
      "17    Yearbook Part Five; Whatever Happened to Profe...\n",
      "9                                       The Cursed Play\n",
      "12                        Robins vs. Zombies: Robin War\n",
      "16    Yearbook Part Four; This One's For You; A Fami...\n",
      "13    Yearbook Part One; Animal Science 101; Queen G...\n",
      "2                           The Ghost in the North Hall\n",
      "Name: name, dtype: object\n"
     ]
    }
   ],
   "source": [
    "recommendations = get_recommendations(gotham_academy, \"Pizza Club\")\n",
    "print(recommendations)"
   ]
  },
  {
   "cell_type": "code",
   "execution_count": 19,
   "id": "5d5491f7-6243-48ee-99a8-07feef246457",
   "metadata": {},
   "outputs": [],
   "source": [
    "batman1 = pd.read_csv(\"data/batman_vol1.csv\")"
   ]
  },
  {
   "cell_type": "code",
   "execution_count": 20,
   "id": "894e1c5e-5fa4-422b-8d8e-8d8bbe4926cd",
   "metadata": {},
   "outputs": [
    {
     "ename": "JSONDecodeError",
     "evalue": "Expecting ',' delimiter: line 1 column 676 (char 675)",
     "output_type": "error",
     "traceback": [
      "\u001b[1;31m---------------------------------------------------------------------------\u001b[0m",
      "\u001b[1;31mJSONDecodeError\u001b[0m                           Traceback (most recent call last)",
      "Cell \u001b[1;32mIn[20], line 2\u001b[0m\n\u001b[0;32m      1\u001b[0m batman1 \u001b[38;5;241m=\u001b[39m clean_data(batman1)\n\u001b[1;32m----> 2\u001b[0m \u001b[43mclean_dataframe\u001b[49m\u001b[43m(\u001b[49m\u001b[43mbatman1\u001b[49m\u001b[43m)\u001b[49m\n",
      "Cell \u001b[1;32mIn[7], line 3\u001b[0m, in \u001b[0;36mclean_dataframe\u001b[1;34m(df)\u001b[0m\n\u001b[0;32m      1\u001b[0m \u001b[38;5;28;01mdef\u001b[39;00m \u001b[38;5;21mclean_dataframe\u001b[39m(df):\n\u001b[0;32m      2\u001b[0m     df[\u001b[38;5;124m\"\u001b[39m\u001b[38;5;124mdescription\u001b[39m\u001b[38;5;124m\"\u001b[39m] \u001b[38;5;241m=\u001b[39m df[\u001b[38;5;124m\"\u001b[39m\u001b[38;5;124mdescription\u001b[39m\u001b[38;5;124m\"\u001b[39m]\u001b[38;5;241m.\u001b[39mapply(clean_description)\n\u001b[1;32m----> 3\u001b[0m     df[\u001b[38;5;124m\"\u001b[39m\u001b[38;5;124mcharacter_credits\u001b[39m\u001b[38;5;124m\"\u001b[39m] \u001b[38;5;241m=\u001b[39m \u001b[43mdf\u001b[49m\u001b[43m[\u001b[49m\u001b[38;5;124;43m\"\u001b[39;49m\u001b[38;5;124;43mcharacter_credits\u001b[39;49m\u001b[38;5;124;43m\"\u001b[39;49m\u001b[43m]\u001b[49m\u001b[38;5;241;43m.\u001b[39;49m\u001b[43mapply\u001b[49m\u001b[43m(\u001b[49m\u001b[43mclean_character_credits\u001b[49m\u001b[43m)\u001b[49m\n\u001b[0;32m      4\u001b[0m     df[\u001b[38;5;124m\"\u001b[39m\u001b[38;5;124mcharacter_died_in\u001b[39m\u001b[38;5;124m\"\u001b[39m] \u001b[38;5;241m=\u001b[39m df[\u001b[38;5;124m\"\u001b[39m\u001b[38;5;124mcharacter_died_in\u001b[39m\u001b[38;5;124m\"\u001b[39m]\u001b[38;5;241m.\u001b[39mapply(clean_character_died_in)\n\u001b[0;32m      5\u001b[0m     df[\u001b[38;5;124m\"\u001b[39m\u001b[38;5;124mconcept_credits\u001b[39m\u001b[38;5;124m\"\u001b[39m] \u001b[38;5;241m=\u001b[39m df[\u001b[38;5;124m\"\u001b[39m\u001b[38;5;124mconcept_credits\u001b[39m\u001b[38;5;124m\"\u001b[39m]\u001b[38;5;241m.\u001b[39mapply(clean_concept_credits)\n",
      "File \u001b[1;32m~\\AppData\\Roaming\\Python\\Python311\\site-packages\\pandas\\core\\series.py:4760\u001b[0m, in \u001b[0;36mSeries.apply\u001b[1;34m(self, func, convert_dtype, args, by_row, **kwargs)\u001b[0m\n\u001b[0;32m   4625\u001b[0m \u001b[38;5;28;01mdef\u001b[39;00m \u001b[38;5;21mapply\u001b[39m(\n\u001b[0;32m   4626\u001b[0m     \u001b[38;5;28mself\u001b[39m,\n\u001b[0;32m   4627\u001b[0m     func: AggFuncType,\n\u001b[1;32m   (...)\u001b[0m\n\u001b[0;32m   4632\u001b[0m     \u001b[38;5;241m*\u001b[39m\u001b[38;5;241m*\u001b[39mkwargs,\n\u001b[0;32m   4633\u001b[0m ) \u001b[38;5;241m-\u001b[39m\u001b[38;5;241m>\u001b[39m DataFrame \u001b[38;5;241m|\u001b[39m Series:\n\u001b[0;32m   4634\u001b[0m \u001b[38;5;250m    \u001b[39m\u001b[38;5;124;03m\"\"\"\u001b[39;00m\n\u001b[0;32m   4635\u001b[0m \u001b[38;5;124;03m    Invoke function on values of Series.\u001b[39;00m\n\u001b[0;32m   4636\u001b[0m \n\u001b[1;32m   (...)\u001b[0m\n\u001b[0;32m   4751\u001b[0m \u001b[38;5;124;03m    dtype: float64\u001b[39;00m\n\u001b[0;32m   4752\u001b[0m \u001b[38;5;124;03m    \"\"\"\u001b[39;00m\n\u001b[0;32m   4753\u001b[0m     \u001b[38;5;28;01mreturn\u001b[39;00m \u001b[43mSeriesApply\u001b[49m\u001b[43m(\u001b[49m\n\u001b[0;32m   4754\u001b[0m \u001b[43m        \u001b[49m\u001b[38;5;28;43mself\u001b[39;49m\u001b[43m,\u001b[49m\n\u001b[0;32m   4755\u001b[0m \u001b[43m        \u001b[49m\u001b[43mfunc\u001b[49m\u001b[43m,\u001b[49m\n\u001b[0;32m   4756\u001b[0m \u001b[43m        \u001b[49m\u001b[43mconvert_dtype\u001b[49m\u001b[38;5;241;43m=\u001b[39;49m\u001b[43mconvert_dtype\u001b[49m\u001b[43m,\u001b[49m\n\u001b[0;32m   4757\u001b[0m \u001b[43m        \u001b[49m\u001b[43mby_row\u001b[49m\u001b[38;5;241;43m=\u001b[39;49m\u001b[43mby_row\u001b[49m\u001b[43m,\u001b[49m\n\u001b[0;32m   4758\u001b[0m \u001b[43m        \u001b[49m\u001b[43margs\u001b[49m\u001b[38;5;241;43m=\u001b[39;49m\u001b[43margs\u001b[49m\u001b[43m,\u001b[49m\n\u001b[0;32m   4759\u001b[0m \u001b[43m        \u001b[49m\u001b[43mkwargs\u001b[49m\u001b[38;5;241;43m=\u001b[39;49m\u001b[43mkwargs\u001b[49m\u001b[43m,\u001b[49m\n\u001b[1;32m-> 4760\u001b[0m \u001b[43m    \u001b[49m\u001b[43m)\u001b[49m\u001b[38;5;241;43m.\u001b[39;49m\u001b[43mapply\u001b[49m\u001b[43m(\u001b[49m\u001b[43m)\u001b[49m\n",
      "File \u001b[1;32m~\\AppData\\Roaming\\Python\\Python311\\site-packages\\pandas\\core\\apply.py:1207\u001b[0m, in \u001b[0;36mSeriesApply.apply\u001b[1;34m(self)\u001b[0m\n\u001b[0;32m   1204\u001b[0m     \u001b[38;5;28;01mreturn\u001b[39;00m \u001b[38;5;28mself\u001b[39m\u001b[38;5;241m.\u001b[39mapply_compat()\n\u001b[0;32m   1206\u001b[0m \u001b[38;5;66;03m# self.func is Callable\u001b[39;00m\n\u001b[1;32m-> 1207\u001b[0m \u001b[38;5;28;01mreturn\u001b[39;00m \u001b[38;5;28;43mself\u001b[39;49m\u001b[38;5;241;43m.\u001b[39;49m\u001b[43mapply_standard\u001b[49m\u001b[43m(\u001b[49m\u001b[43m)\u001b[49m\n",
      "File \u001b[1;32m~\\AppData\\Roaming\\Python\\Python311\\site-packages\\pandas\\core\\apply.py:1287\u001b[0m, in \u001b[0;36mSeriesApply.apply_standard\u001b[1;34m(self)\u001b[0m\n\u001b[0;32m   1281\u001b[0m \u001b[38;5;66;03m# row-wise access\u001b[39;00m\n\u001b[0;32m   1282\u001b[0m \u001b[38;5;66;03m# apply doesn't have a `na_action` keyword and for backward compat reasons\u001b[39;00m\n\u001b[0;32m   1283\u001b[0m \u001b[38;5;66;03m# we need to give `na_action=\"ignore\"` for categorical data.\u001b[39;00m\n\u001b[0;32m   1284\u001b[0m \u001b[38;5;66;03m# TODO: remove the `na_action=\"ignore\"` when that default has been changed in\u001b[39;00m\n\u001b[0;32m   1285\u001b[0m \u001b[38;5;66;03m#  Categorical (GH51645).\u001b[39;00m\n\u001b[0;32m   1286\u001b[0m action \u001b[38;5;241m=\u001b[39m \u001b[38;5;124m\"\u001b[39m\u001b[38;5;124mignore\u001b[39m\u001b[38;5;124m\"\u001b[39m \u001b[38;5;28;01mif\u001b[39;00m \u001b[38;5;28misinstance\u001b[39m(obj\u001b[38;5;241m.\u001b[39mdtype, CategoricalDtype) \u001b[38;5;28;01melse\u001b[39;00m \u001b[38;5;28;01mNone\u001b[39;00m\n\u001b[1;32m-> 1287\u001b[0m mapped \u001b[38;5;241m=\u001b[39m \u001b[43mobj\u001b[49m\u001b[38;5;241;43m.\u001b[39;49m\u001b[43m_map_values\u001b[49m\u001b[43m(\u001b[49m\n\u001b[0;32m   1288\u001b[0m \u001b[43m    \u001b[49m\u001b[43mmapper\u001b[49m\u001b[38;5;241;43m=\u001b[39;49m\u001b[43mcurried\u001b[49m\u001b[43m,\u001b[49m\u001b[43m \u001b[49m\u001b[43mna_action\u001b[49m\u001b[38;5;241;43m=\u001b[39;49m\u001b[43maction\u001b[49m\u001b[43m,\u001b[49m\u001b[43m \u001b[49m\u001b[43mconvert\u001b[49m\u001b[38;5;241;43m=\u001b[39;49m\u001b[38;5;28;43mself\u001b[39;49m\u001b[38;5;241;43m.\u001b[39;49m\u001b[43mconvert_dtype\u001b[49m\n\u001b[0;32m   1289\u001b[0m \u001b[43m\u001b[49m\u001b[43m)\u001b[49m\n\u001b[0;32m   1291\u001b[0m \u001b[38;5;28;01mif\u001b[39;00m \u001b[38;5;28mlen\u001b[39m(mapped) \u001b[38;5;129;01mand\u001b[39;00m \u001b[38;5;28misinstance\u001b[39m(mapped[\u001b[38;5;241m0\u001b[39m], ABCSeries):\n\u001b[0;32m   1292\u001b[0m     \u001b[38;5;66;03m# GH#43986 Need to do list(mapped) in order to get treated as nested\u001b[39;00m\n\u001b[0;32m   1293\u001b[0m     \u001b[38;5;66;03m#  See also GH#25959 regarding EA support\u001b[39;00m\n\u001b[0;32m   1294\u001b[0m     \u001b[38;5;28;01mreturn\u001b[39;00m obj\u001b[38;5;241m.\u001b[39m_constructor_expanddim(\u001b[38;5;28mlist\u001b[39m(mapped), index\u001b[38;5;241m=\u001b[39mobj\u001b[38;5;241m.\u001b[39mindex)\n",
      "File \u001b[1;32m~\\AppData\\Roaming\\Python\\Python311\\site-packages\\pandas\\core\\base.py:921\u001b[0m, in \u001b[0;36mIndexOpsMixin._map_values\u001b[1;34m(self, mapper, na_action, convert)\u001b[0m\n\u001b[0;32m    918\u001b[0m \u001b[38;5;28;01mif\u001b[39;00m \u001b[38;5;28misinstance\u001b[39m(arr, ExtensionArray):\n\u001b[0;32m    919\u001b[0m     \u001b[38;5;28;01mreturn\u001b[39;00m arr\u001b[38;5;241m.\u001b[39mmap(mapper, na_action\u001b[38;5;241m=\u001b[39mna_action)\n\u001b[1;32m--> 921\u001b[0m \u001b[38;5;28;01mreturn\u001b[39;00m \u001b[43malgorithms\u001b[49m\u001b[38;5;241;43m.\u001b[39;49m\u001b[43mmap_array\u001b[49m\u001b[43m(\u001b[49m\u001b[43marr\u001b[49m\u001b[43m,\u001b[49m\u001b[43m \u001b[49m\u001b[43mmapper\u001b[49m\u001b[43m,\u001b[49m\u001b[43m \u001b[49m\u001b[43mna_action\u001b[49m\u001b[38;5;241;43m=\u001b[39;49m\u001b[43mna_action\u001b[49m\u001b[43m,\u001b[49m\u001b[43m \u001b[49m\u001b[43mconvert\u001b[49m\u001b[38;5;241;43m=\u001b[39;49m\u001b[43mconvert\u001b[49m\u001b[43m)\u001b[49m\n",
      "File \u001b[1;32m~\\AppData\\Roaming\\Python\\Python311\\site-packages\\pandas\\core\\algorithms.py:1814\u001b[0m, in \u001b[0;36mmap_array\u001b[1;34m(arr, mapper, na_action, convert)\u001b[0m\n\u001b[0;32m   1812\u001b[0m values \u001b[38;5;241m=\u001b[39m arr\u001b[38;5;241m.\u001b[39mastype(\u001b[38;5;28mobject\u001b[39m, copy\u001b[38;5;241m=\u001b[39m\u001b[38;5;28;01mFalse\u001b[39;00m)\n\u001b[0;32m   1813\u001b[0m \u001b[38;5;28;01mif\u001b[39;00m na_action \u001b[38;5;129;01mis\u001b[39;00m \u001b[38;5;28;01mNone\u001b[39;00m:\n\u001b[1;32m-> 1814\u001b[0m     \u001b[38;5;28;01mreturn\u001b[39;00m \u001b[43mlib\u001b[49m\u001b[38;5;241;43m.\u001b[39;49m\u001b[43mmap_infer\u001b[49m\u001b[43m(\u001b[49m\u001b[43mvalues\u001b[49m\u001b[43m,\u001b[49m\u001b[43m \u001b[49m\u001b[43mmapper\u001b[49m\u001b[43m,\u001b[49m\u001b[43m \u001b[49m\u001b[43mconvert\u001b[49m\u001b[38;5;241;43m=\u001b[39;49m\u001b[43mconvert\u001b[49m\u001b[43m)\u001b[49m\n\u001b[0;32m   1815\u001b[0m \u001b[38;5;28;01melse\u001b[39;00m:\n\u001b[0;32m   1816\u001b[0m     \u001b[38;5;28;01mreturn\u001b[39;00m lib\u001b[38;5;241m.\u001b[39mmap_infer_mask(\n\u001b[0;32m   1817\u001b[0m         values, mapper, mask\u001b[38;5;241m=\u001b[39misna(values)\u001b[38;5;241m.\u001b[39mview(np\u001b[38;5;241m.\u001b[39muint8), convert\u001b[38;5;241m=\u001b[39mconvert\n\u001b[0;32m   1818\u001b[0m     )\n",
      "File \u001b[1;32mlib.pyx:2917\u001b[0m, in \u001b[0;36mpandas._libs.lib.map_infer\u001b[1;34m()\u001b[0m\n",
      "Cell \u001b[1;32mIn[6], line 8\u001b[0m, in \u001b[0;36mclean_character_credits\u001b[1;34m(json_str)\u001b[0m\n\u001b[0;32m      6\u001b[0m \u001b[38;5;28;01mdef\u001b[39;00m \u001b[38;5;21mclean_character_credits\u001b[39m(json_str):\n\u001b[0;32m      7\u001b[0m     json_str \u001b[38;5;241m=\u001b[39m json_str\u001b[38;5;241m.\u001b[39mreplace(\u001b[38;5;124m\"\u001b[39m\u001b[38;5;124m'\u001b[39m\u001b[38;5;124m\"\u001b[39m, \u001b[38;5;124m'\u001b[39m\u001b[38;5;124m\"\u001b[39m\u001b[38;5;124m'\u001b[39m)\n\u001b[1;32m----> 8\u001b[0m     characters \u001b[38;5;241m=\u001b[39m \u001b[43mjson\u001b[49m\u001b[38;5;241;43m.\u001b[39;49m\u001b[43mloads\u001b[49m\u001b[43m(\u001b[49m\u001b[43mjson_str\u001b[49m\u001b[43m)\u001b[49m\n\u001b[0;32m      9\u001b[0m     names \u001b[38;5;241m=\u001b[39m [character[\u001b[38;5;124m'\u001b[39m\u001b[38;5;124mname\u001b[39m\u001b[38;5;124m'\u001b[39m] \u001b[38;5;28;01mfor\u001b[39;00m character \u001b[38;5;129;01min\u001b[39;00m characters]\n\u001b[0;32m     10\u001b[0m     \u001b[38;5;28;01mreturn\u001b[39;00m names\n",
      "File \u001b[1;32m~\\anaconda3\\Lib\\json\\__init__.py:346\u001b[0m, in \u001b[0;36mloads\u001b[1;34m(s, cls, object_hook, parse_float, parse_int, parse_constant, object_pairs_hook, **kw)\u001b[0m\n\u001b[0;32m    341\u001b[0m     s \u001b[38;5;241m=\u001b[39m s\u001b[38;5;241m.\u001b[39mdecode(detect_encoding(s), \u001b[38;5;124m'\u001b[39m\u001b[38;5;124msurrogatepass\u001b[39m\u001b[38;5;124m'\u001b[39m)\n\u001b[0;32m    343\u001b[0m \u001b[38;5;28;01mif\u001b[39;00m (\u001b[38;5;28mcls\u001b[39m \u001b[38;5;129;01mis\u001b[39;00m \u001b[38;5;28;01mNone\u001b[39;00m \u001b[38;5;129;01mand\u001b[39;00m object_hook \u001b[38;5;129;01mis\u001b[39;00m \u001b[38;5;28;01mNone\u001b[39;00m \u001b[38;5;129;01mand\u001b[39;00m\n\u001b[0;32m    344\u001b[0m         parse_int \u001b[38;5;129;01mis\u001b[39;00m \u001b[38;5;28;01mNone\u001b[39;00m \u001b[38;5;129;01mand\u001b[39;00m parse_float \u001b[38;5;129;01mis\u001b[39;00m \u001b[38;5;28;01mNone\u001b[39;00m \u001b[38;5;129;01mand\u001b[39;00m\n\u001b[0;32m    345\u001b[0m         parse_constant \u001b[38;5;129;01mis\u001b[39;00m \u001b[38;5;28;01mNone\u001b[39;00m \u001b[38;5;129;01mand\u001b[39;00m object_pairs_hook \u001b[38;5;129;01mis\u001b[39;00m \u001b[38;5;28;01mNone\u001b[39;00m \u001b[38;5;129;01mand\u001b[39;00m \u001b[38;5;129;01mnot\u001b[39;00m kw):\n\u001b[1;32m--> 346\u001b[0m     \u001b[38;5;28;01mreturn\u001b[39;00m \u001b[43m_default_decoder\u001b[49m\u001b[38;5;241;43m.\u001b[39;49m\u001b[43mdecode\u001b[49m\u001b[43m(\u001b[49m\u001b[43ms\u001b[49m\u001b[43m)\u001b[49m\n\u001b[0;32m    347\u001b[0m \u001b[38;5;28;01mif\u001b[39;00m \u001b[38;5;28mcls\u001b[39m \u001b[38;5;129;01mis\u001b[39;00m \u001b[38;5;28;01mNone\u001b[39;00m:\n\u001b[0;32m    348\u001b[0m     \u001b[38;5;28mcls\u001b[39m \u001b[38;5;241m=\u001b[39m JSONDecoder\n",
      "File \u001b[1;32m~\\anaconda3\\Lib\\json\\decoder.py:337\u001b[0m, in \u001b[0;36mJSONDecoder.decode\u001b[1;34m(self, s, _w)\u001b[0m\n\u001b[0;32m    332\u001b[0m \u001b[38;5;28;01mdef\u001b[39;00m \u001b[38;5;21mdecode\u001b[39m(\u001b[38;5;28mself\u001b[39m, s, _w\u001b[38;5;241m=\u001b[39mWHITESPACE\u001b[38;5;241m.\u001b[39mmatch):\n\u001b[0;32m    333\u001b[0m \u001b[38;5;250m    \u001b[39m\u001b[38;5;124;03m\"\"\"Return the Python representation of ``s`` (a ``str`` instance\u001b[39;00m\n\u001b[0;32m    334\u001b[0m \u001b[38;5;124;03m    containing a JSON document).\u001b[39;00m\n\u001b[0;32m    335\u001b[0m \n\u001b[0;32m    336\u001b[0m \u001b[38;5;124;03m    \"\"\"\u001b[39;00m\n\u001b[1;32m--> 337\u001b[0m     obj, end \u001b[38;5;241m=\u001b[39m \u001b[38;5;28;43mself\u001b[39;49m\u001b[38;5;241;43m.\u001b[39;49m\u001b[43mraw_decode\u001b[49m\u001b[43m(\u001b[49m\u001b[43ms\u001b[49m\u001b[43m,\u001b[49m\u001b[43m \u001b[49m\u001b[43midx\u001b[49m\u001b[38;5;241;43m=\u001b[39;49m\u001b[43m_w\u001b[49m\u001b[43m(\u001b[49m\u001b[43ms\u001b[49m\u001b[43m,\u001b[49m\u001b[43m \u001b[49m\u001b[38;5;241;43m0\u001b[39;49m\u001b[43m)\u001b[49m\u001b[38;5;241;43m.\u001b[39;49m\u001b[43mend\u001b[49m\u001b[43m(\u001b[49m\u001b[43m)\u001b[49m\u001b[43m)\u001b[49m\n\u001b[0;32m    338\u001b[0m     end \u001b[38;5;241m=\u001b[39m _w(s, end)\u001b[38;5;241m.\u001b[39mend()\n\u001b[0;32m    339\u001b[0m     \u001b[38;5;28;01mif\u001b[39;00m end \u001b[38;5;241m!=\u001b[39m \u001b[38;5;28mlen\u001b[39m(s):\n",
      "File \u001b[1;32m~\\anaconda3\\Lib\\json\\decoder.py:353\u001b[0m, in \u001b[0;36mJSONDecoder.raw_decode\u001b[1;34m(self, s, idx)\u001b[0m\n\u001b[0;32m    344\u001b[0m \u001b[38;5;250m\u001b[39m\u001b[38;5;124;03m\"\"\"Decode a JSON document from ``s`` (a ``str`` beginning with\u001b[39;00m\n\u001b[0;32m    345\u001b[0m \u001b[38;5;124;03ma JSON document) and return a 2-tuple of the Python\u001b[39;00m\n\u001b[0;32m    346\u001b[0m \u001b[38;5;124;03mrepresentation and the index in ``s`` where the document ended.\u001b[39;00m\n\u001b[1;32m   (...)\u001b[0m\n\u001b[0;32m    350\u001b[0m \n\u001b[0;32m    351\u001b[0m \u001b[38;5;124;03m\"\"\"\u001b[39;00m\n\u001b[0;32m    352\u001b[0m \u001b[38;5;28;01mtry\u001b[39;00m:\n\u001b[1;32m--> 353\u001b[0m     obj, end \u001b[38;5;241m=\u001b[39m \u001b[38;5;28;43mself\u001b[39;49m\u001b[38;5;241;43m.\u001b[39;49m\u001b[43mscan_once\u001b[49m\u001b[43m(\u001b[49m\u001b[43ms\u001b[49m\u001b[43m,\u001b[49m\u001b[43m \u001b[49m\u001b[43midx\u001b[49m\u001b[43m)\u001b[49m\n\u001b[0;32m    354\u001b[0m \u001b[38;5;28;01mexcept\u001b[39;00m \u001b[38;5;167;01mStopIteration\u001b[39;00m \u001b[38;5;28;01mas\u001b[39;00m err:\n\u001b[0;32m    355\u001b[0m     \u001b[38;5;28;01mraise\u001b[39;00m JSONDecodeError(\u001b[38;5;124m\"\u001b[39m\u001b[38;5;124mExpecting value\u001b[39m\u001b[38;5;124m\"\u001b[39m, s, err\u001b[38;5;241m.\u001b[39mvalue) \u001b[38;5;28;01mfrom\u001b[39;00m \u001b[38;5;28;01mNone\u001b[39;00m\n",
      "\u001b[1;31mJSONDecodeError\u001b[0m: Expecting ',' delimiter: line 1 column 676 (char 675)"
     ]
    }
   ],
   "source": [
    "batman1 = clean_data(batman1)\n",
    "clean_dataframe(batman1)"
   ]
  },
  {
   "cell_type": "code",
   "execution_count": 43,
   "id": "3659f3ba-1d82-444f-a3d0-61e4692c1856",
   "metadata": {},
   "outputs": [],
   "source": [
    "tfidf = TfidfVectorizer(stop_words='english')\n",
    "tfidf_matrix2 = tfidf.fit_transform(batman1['description'])\n",
    "cosine_sim2 = linear_kernel(tfidf_matrix2, tfidf_matrix2)"
   ]
  },
  {
   "cell_type": "code",
   "execution_count": 37,
   "id": "c9a04860-9fbf-49f8-8707-0b1eb4a59516",
   "metadata": {},
   "outputs": [
    {
     "data": {
      "text/plain": [
       "array([0.        , 0.01750024, 0.01911008, 0.        , 0.0217669 ,\n",
       "       0.        , 0.02376147, 0.        , 0.        , 0.        ,\n",
       "       0.        , 0.        , 0.        , 0.        , 0.        ,\n",
       "       0.02247309, 0.01885381, 0.        , 0.        , 0.        ,\n",
       "       0.02168544, 0.02067199, 0.02108084, 0.02272511, 0.        ,\n",
       "       0.0188669 , 0.01718545, 0.03840262, 0.        , 0.        ,\n",
       "       0.        , 0.        , 0.02818209, 0.02132388, 0.01693196,\n",
       "       0.        , 0.05278448, 0.06691953, 0.        , 0.        ,\n",
       "       0.04752175, 0.        , 0.        , 0.        , 0.        ,\n",
       "       0.097014  , 0.01559735, 0.        , 0.        , 0.02328583,\n",
       "       0.        , 0.        , 0.        , 0.        , 0.        ,\n",
       "       0.        , 0.        , 0.        , 0.        , 0.        ,\n",
       "       0.        , 0.        , 0.        , 0.11397234, 0.        ,\n",
       "       0.        , 0.        , 0.        , 0.        , 0.        ,\n",
       "       0.        , 0.        , 0.        , 0.        , 0.        ,\n",
       "       0.01606655, 0.        , 0.01949753, 0.        , 0.        ,\n",
       "       0.0166055 , 0.01640187, 0.        , 0.        , 0.        ,\n",
       "       0.        , 0.        , 0.        , 0.        , 0.        ,\n",
       "       0.00843739, 0.        , 0.        , 0.        , 0.        ,\n",
       "       0.        , 0.        , 0.        , 0.01138748, 0.        ,\n",
       "       0.00744291, 0.01235504, 0.        , 0.        , 0.04024563,\n",
       "       0.01889555, 0.        , 0.011268  , 0.        , 0.02854659,\n",
       "       0.        , 0.        , 0.        , 0.00775463, 0.        ,\n",
       "       0.        , 0.        , 0.        , 0.        , 0.03375571,\n",
       "       0.        , 0.        , 0.        , 0.0365012 , 0.01631699,\n",
       "       0.04553557, 0.01023711, 0.02630136, 0.01996382, 0.        ,\n",
       "       0.        , 0.        , 0.        , 0.        , 0.        ,\n",
       "       0.        , 0.        , 0.        , 0.        , 0.        ,\n",
       "       0.03132767, 0.14368114, 0.06052477, 0.03606151, 0.        ,\n",
       "       0.        , 0.        , 0.        , 0.        , 0.        ,\n",
       "       0.04593358, 0.        , 0.        , 0.09728123, 0.        ,\n",
       "       0.        , 0.        , 0.04441372, 0.13610951, 0.01472059,\n",
       "       0.        , 0.        , 0.        , 0.00702732, 0.01704669,\n",
       "       0.        , 0.        , 0.        , 0.        , 0.        ,\n",
       "       0.        , 0.01123658, 0.        , 0.        , 0.        ,\n",
       "       0.        , 0.        , 0.        , 0.        , 0.        ,\n",
       "       0.        , 0.        , 0.        , 0.        , 0.05593349,\n",
       "       0.        , 0.        , 0.0111161 , 0.        , 0.        ,\n",
       "       0.        , 0.        , 0.        , 0.        , 0.0082603 ,\n",
       "       0.        , 0.        , 0.        , 0.        , 0.        ,\n",
       "       0.        , 0.        , 0.        , 0.        , 0.        ,\n",
       "       0.03817173, 0.        , 0.        , 0.        , 0.        ,\n",
       "       0.        , 0.        , 0.02408588, 0.        , 0.        ,\n",
       "       0.        , 0.        , 0.        , 0.06466324, 0.        ,\n",
       "       0.        , 0.        , 0.        , 0.        , 0.        ,\n",
       "       0.        , 0.01895653, 0.        , 0.        , 0.        ,\n",
       "       0.        , 0.        , 0.        , 0.03172426, 0.05335104,\n",
       "       0.        , 0.01999343, 0.01732927, 0.        , 0.02884783,\n",
       "       0.07346113, 0.        , 0.        , 0.        , 0.        ,\n",
       "       0.02451928, 0.05086853, 0.03779269, 0.02583816, 0.        ,\n",
       "       0.        , 0.04105836, 0.        , 0.05884587, 0.        ,\n",
       "       0.        , 0.        , 0.03021559, 0.03245093, 0.        ,\n",
       "       0.        , 0.02590804, 0.04096647, 0.        , 0.01354754,\n",
       "       0.        , 0.        , 0.        , 0.        , 0.        ,\n",
       "       0.04023188, 0.        , 0.        , 0.        , 0.03002247,\n",
       "       0.        , 0.        , 0.        , 0.        , 0.08460738,\n",
       "       0.        , 0.02257961, 0.04717205, 0.        , 0.        ,\n",
       "       0.        , 0.        , 0.05583566, 0.04480592, 0.        ,\n",
       "       0.01317249, 0.05433156, 0.        , 0.01138676, 0.01090749,\n",
       "       0.00710497, 0.        , 0.03334672, 0.        , 0.        ,\n",
       "       0.        , 0.        , 0.        , 0.        , 0.        ,\n",
       "       0.02131657, 0.        , 0.        , 0.03914685, 0.        ,\n",
       "       0.        , 0.01933962, 0.        , 0.        , 0.        ,\n",
       "       0.        , 0.        , 0.        , 0.02214135, 0.01811172,\n",
       "       0.        , 0.        , 0.        , 0.01315896, 0.        ,\n",
       "       0.        , 0.09502296, 0.01898601, 0.        , 0.        ,\n",
       "       0.00330915, 0.        , 0.        , 0.        , 0.        ,\n",
       "       0.04705407, 0.        , 0.        , 0.        , 0.        ,\n",
       "       0.        , 0.01120298, 0.        , 0.        , 0.        ,\n",
       "       0.00947893, 0.01826217, 0.        , 0.        , 0.        ,\n",
       "       0.        , 0.        , 0.        , 0.        , 0.        ,\n",
       "       0.        , 0.0371433 , 0.01408184, 0.10390843, 0.        ,\n",
       "       0.        , 0.00812539, 0.        , 0.        , 0.0098071 ,\n",
       "       0.        , 0.03344068, 0.        , 0.02847077, 0.        ,\n",
       "       0.        , 0.        , 0.00880705, 0.        , 0.        ,\n",
       "       0.        , 0.        , 0.        , 0.        , 0.02966092,\n",
       "       0.        , 0.        , 0.        , 0.        , 0.01068064,\n",
       "       0.03285004, 0.        , 0.        , 0.        , 0.        ,\n",
       "       0.        , 0.        , 0.02161841, 0.02386538, 0.        ,\n",
       "       0.        , 0.        , 0.        , 0.        , 0.        ,\n",
       "       0.        , 0.01001672, 0.02754455, 0.02977666, 0.00466499,\n",
       "       0.        , 0.        , 0.02678435, 0.04157344, 0.0277181 ,\n",
       "       0.03286934, 0.        , 0.0131172 , 0.07419821, 0.01054933,\n",
       "       0.05616622, 0.        , 0.01687974, 0.        , 0.        ,\n",
       "       0.02775616, 0.        , 0.01627037, 0.        , 0.        ,\n",
       "       0.        , 0.01183894, 0.        , 0.02422534, 0.        ,\n",
       "       0.        , 0.        , 0.        , 0.        , 0.        ,\n",
       "       0.        , 0.        , 0.        , 0.        , 0.00546381,\n",
       "       0.00724426, 0.        , 0.        , 0.        , 0.        ,\n",
       "       0.02388291, 0.01546161, 0.01984269, 0.        , 0.        ,\n",
       "       0.02684618, 0.        , 0.        , 0.        , 0.        ,\n",
       "       0.        , 0.        , 0.        , 0.04135624, 0.        ,\n",
       "       0.        , 0.04891981, 0.        , 0.01092306, 0.        ,\n",
       "       0.        , 0.06677143, 0.04951355, 0.05581903, 0.        ,\n",
       "       0.        , 0.        , 0.04565664, 0.        , 0.01510827,\n",
       "       0.        , 0.        , 0.        , 0.        , 0.05155172,\n",
       "       0.00944557, 0.        , 0.01305963, 0.10268584, 0.0451067 ,\n",
       "       0.        , 0.07072564, 0.05122715, 0.05122715, 0.05723165,\n",
       "       0.        , 0.08146147, 0.        , 0.        , 0.05078407,\n",
       "       0.        , 0.04239565, 0.        , 0.07163185, 0.        ,\n",
       "       1.        , 0.06067658, 0.        , 0.        , 0.        ,\n",
       "       0.        , 0.09768927, 0.06253133, 0.        , 0.        ,\n",
       "       0.0592248 , 0.02291536, 0.05956984, 0.        , 0.01103713,\n",
       "       0.        , 0.01214948, 0.        , 0.04276193, 0.01559323,\n",
       "       0.05285746, 0.        , 0.03994744, 0.0140595 , 0.        ,\n",
       "       0.        , 0.        , 0.        , 0.        , 0.        ,\n",
       "       0.01930321, 0.        , 0.        , 0.        , 0.        ,\n",
       "       0.        , 0.01554824, 0.00890573, 0.00964699, 0.        ,\n",
       "       0.        , 0.        , 0.        , 0.01861128, 0.        ,\n",
       "       0.        , 0.        , 0.        , 0.01748057, 0.03982758,\n",
       "       0.02468645, 0.        , 0.03135229, 0.06456047, 0.        ,\n",
       "       0.01013811, 0.02687278, 0.04637907, 0.        , 0.02254058,\n",
       "       0.        , 0.05464378, 0.        , 0.03384288, 0.01778239,\n",
       "       0.        , 0.        , 0.        , 0.        , 0.        ,\n",
       "       0.        , 0.02972371, 0.02381765, 0.        , 0.        ,\n",
       "       0.        , 0.0259054 , 0.02436171, 0.02110958, 0.        ,\n",
       "       0.        , 0.        , 0.        , 0.01866476, 0.        ,\n",
       "       0.        , 0.        , 0.        , 0.        , 0.01429223,\n",
       "       0.01180485, 0.02988258, 0.00987996, 0.        , 0.        ,\n",
       "       0.01374069, 0.0215123 , 0.        , 0.00396896, 0.0302316 ,\n",
       "       0.0451985 , 0.01759337, 0.01330696, 0.03958988, 0.02020388,\n",
       "       0.01432111, 0.        , 0.03257012, 0.        , 0.03824626,\n",
       "       0.01997919, 0.01466078, 0.        , 0.        , 0.03215314,\n",
       "       0.0169072 , 0.02453352, 0.01371405, 0.0445659 , 0.02185847,\n",
       "       0.1329441 , 0.        , 0.00944006, 0.00838926, 0.03061329,\n",
       "       0.        , 0.12288638, 0.03086059, 0.        , 0.        ,\n",
       "       0.        , 0.        , 0.0484484 , 0.01205694, 0.01350061,\n",
       "       0.04291301, 0.        , 0.        , 0.06669954, 0.03596966,\n",
       "       0.0137877 , 0.01826402, 0.02478741, 0.00891541, 0.02748674,\n",
       "       0.01087178, 0.03220126, 0.05165696, 0.        , 0.        ,\n",
       "       0.02899206, 0.        , 0.04021137, 0.02095142, 0.01011832,\n",
       "       0.00858283, 0.        , 0.        , 0.01099708, 0.        ,\n",
       "       0.        , 0.01650395, 0.        , 0.        , 0.        ,\n",
       "       0.        , 0.        , 0.        , 0.02502854, 0.00814051,\n",
       "       0.        , 0.05276333, 0.        , 0.07522424, 0.        ,\n",
       "       0.05829323, 0.05452068, 0.16785465, 0.22662183, 0.04810084,\n",
       "       0.        , 0.        , 0.03102109, 0.02903155, 0.01317965,\n",
       "       0.        , 0.12632678, 0.02048863, 0.03524134, 0.        ,\n",
       "       0.        , 0.        , 0.        , 0.        , 0.        ,\n",
       "       0.0437828 , 0.        , 0.        , 0.        , 0.        ,\n",
       "       0.        , 0.06053255, 0.07610119, 0.07076728, 0.05848686,\n",
       "       0.02168696, 0.        , 0.        , 0.        , 0.        ,\n",
       "       0.04681815, 0.        , 0.01999852, 0.05378782, 0.03881575,\n",
       "       0.06661344])"
      ]
     },
     "execution_count": 37,
     "metadata": {},
     "output_type": "execute_result"
    }
   ],
   "source": [
    "cosine_sim[500]"
   ]
  },
  {
   "cell_type": "code",
   "execution_count": 44,
   "id": "9c715da5-eaa5-4200-99ef-9ea13e27af18",
   "metadata": {},
   "outputs": [
    {
     "name": "stdout",
     "output_type": "stream",
     "text": [
      "624                    Batman & Son, Part 3: Wonderboys\n",
      "550                Batman & Son, Part 4: Absent Fathers\n",
      "688      A Battle Within (Battle For The Cowl Epilogue)\n",
      "561    Batman & Son Part 1: Building a Better Batmobile\n",
      "150                    \"Bruce Wayne - - Rest In Peace\"!\n",
      "1                       The Gorilla Boss of Gotham City\n",
      "441     Darkest Night of the Man-Bat, Part 1: Predation\n",
      "233                                     Double Jeopardy\n",
      "608                               Batman In The Future!\n",
      "704                                    The Great Escape\n",
      "Name: name, dtype: object\n"
     ]
    }
   ],
   "source": [
    "recommendations = get_recommendations(batman1, \"Batman in Bethlehem\", cosine_sim=cosine_sim2)\n",
    "print(recommendations)"
   ]
  },
  {
   "cell_type": "code",
   "execution_count": 39,
   "id": "4dc2bae6-0d50-4a0f-a2ec-8d42bed98f18",
   "metadata": {},
   "outputs": [
    {
     "data": {
      "text/plain": [
       "'Batman in Bethlehem'"
      ]
     },
     "execution_count": 39,
     "metadata": {},
     "output_type": "execute_result"
    }
   ],
   "source": [
    "batman1[\"name\"][555]"
   ]
  },
  {
   "cell_type": "code",
   "execution_count": null,
   "id": "b40a2ec1-7f89-40be-9293-49bbbdd4c3b3",
   "metadata": {},
   "outputs": [],
   "source": []
  }
 ],
 "metadata": {
  "kernelspec": {
   "display_name": "Python 3 (ipykernel)",
   "language": "python",
   "name": "python3"
  },
  "language_info": {
   "codemirror_mode": {
    "name": "ipython",
    "version": 3
   },
   "file_extension": ".py",
   "mimetype": "text/x-python",
   "name": "python",
   "nbconvert_exporter": "python",
   "pygments_lexer": "ipython3",
   "version": "3.11.7"
  }
 },
 "nbformat": 4,
 "nbformat_minor": 5
}
