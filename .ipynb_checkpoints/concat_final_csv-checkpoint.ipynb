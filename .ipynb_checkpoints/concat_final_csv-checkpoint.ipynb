{
 "cells": [
  {
   "cell_type": "code",
   "execution_count": 1,
   "id": "6a5af075-e512-4fd1-93d0-91ff4ae1bdab",
   "metadata": {},
   "outputs": [],
   "source": [
    "import pandas as pd\n",
    "import numpy as np"
   ]
  },
  {
   "cell_type": "markdown",
   "id": "b466b6d6-d7e6-4935-9998-59bc38299e68",
   "metadata": {},
   "source": [
    "# CONCATTING FINAL CSV FILE"
   ]
  },
  {
   "cell_type": "code",
   "execution_count": 2,
   "id": "a2cfcb22-bf79-4e74-9890-c7ecf93429bb",
   "metadata": {},
   "outputs": [],
   "source": [
    "aquaman_rebirth = pd.read_csv(\"data/aquaman_rebirth.csv\")\n",
    "batman_and_robin = pd.read_csv(\"data/batman_and_robin.csv\")\n",
    "batman_vol1 = pd.read_csv(\"data/batman_vol1.csv\")\n",
    "batman_vol2 = pd.read_csv(\"data/batman_vol2.csv\")\n",
    "batman_vol3 = pd.read_csv(\"data/batman_vol3.csv\")\n",
    "gotham_academy = pd.read_csv(\"data/gotham_academy.csv\")\n",
    "green_lanturn_vol2 = pd.read_csv(\"data/green_lanturn_vol2.csv\")\n",
    "hellblazer = pd.read_csv(\"data/hellblazer.csv\")\n",
    "JLA = pd.read_csv(\"data/JLA.csv\")\n",
    "justice_league_dark = pd.read_csv(\"data/justice_league_dark.csv\")\n",
    "red_robin = pd.read_csv(\"data/red_robin.csv\")\n",
    "robin1993_2009 = pd.read_csv(\"data/robin1993_2009.csv\")\n",
    "super_sons = pd.read_csv(\"data/super_sons.csv\")\n",
    "superboy = pd.read_csv(\"data/superboy.csv\")\n",
    "superman_vol1_pt1 = pd.read_csv(\"data/superman_vol1_pt1.csv\")\n",
    "superman_vol1_pt2 = pd.read_csv(\"data/superman_vol1_pt2.csv\")\n",
    "superman_vol2 = pd.read_csv(\"data/superman_vol2.csv\")\n",
    "superman_vol3 = pd.read_csv(\"data/superman_vol3.csv\")\n",
    "we_are_robin = pd.read_csv(\"data/we_are_robin.csv\")\n",
    "wonder_woman_vol2 = pd.read_csv(\"data/wonder_woman_vol2.csv\")\n",
    "young_justice = pd.read_csv(\"data/young_justice.csv\")\n"
   ]
  },
  {
   "cell_type": "code",
   "execution_count": 3,
   "id": "8b072a1b-c20c-4079-95fd-fb99ba82b639",
   "metadata": {},
   "outputs": [],
   "source": [
    "df = pd.concat([aquaman_rebirth, \n",
    "                batman_and_robin, \n",
    "                batman_vol1, \n",
    "                batman_vol2, \n",
    "                batman_vol3, \n",
    "                gotham_academy, \n",
    "                green_lanturn_vol2,\n",
    "                hellblazer, \n",
    "                JLA, \n",
    "                justice_league_dark, \n",
    "                red_robin, \n",
    "                robin1993_2009, \n",
    "                super_sons, \n",
    "                superboy, \n",
    "                superman_vol1_pt1, \n",
    "                superman_vol1_pt2, \n",
    "                superman_vol2, \n",
    "                superman_vol3, \n",
    "                we_are_robin, \n",
    "                wonder_woman_vol2,\n",
    "                young_justice\n",
    "               ], ignore_index=True)"
   ]
  },
  {
   "cell_type": "code",
   "execution_count": 4,
   "id": "707f0f83-a65c-46f8-9a04-efbe2afafc40",
   "metadata": {},
   "outputs": [],
   "source": [
    "#use when sometimes adding one new csv file\n",
    "#df= pd.concat([final, sample], ignore_index=True)"
   ]
  },
  {
   "cell_type": "code",
   "execution_count": 5,
   "id": "49a539a9-3f38-436b-a203-77357e69d994",
   "metadata": {},
   "outputs": [],
   "source": [
    "df.to_csv(\"final_dataset.csv\", index=False)"
   ]
  },
  {
   "cell_type": "code",
   "execution_count": 6,
   "id": "1b19b68e-29ad-4382-b3cd-f25fac1d164d",
   "metadata": {},
   "outputs": [],
   "source": [
    "df.to_csv(\"data/final/final_dataset.csv\", index=False)"
   ]
  }
 ],
 "metadata": {
  "kernelspec": {
   "display_name": "Python 3 (ipykernel)",
   "language": "python",
   "name": "python3"
  },
  "language_info": {
   "codemirror_mode": {
    "name": "ipython",
    "version": 3
   },
   "file_extension": ".py",
   "mimetype": "text/x-python",
   "name": "python",
   "nbconvert_exporter": "python",
   "pygments_lexer": "ipython3",
   "version": "3.11.7"
  }
 },
 "nbformat": 4,
 "nbformat_minor": 5
}
