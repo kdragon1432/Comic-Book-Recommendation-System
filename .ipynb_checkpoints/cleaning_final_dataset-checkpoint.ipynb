{
 "cells": [
  {
   "cell_type": "code",
   "execution_count": 407,
   "id": "b14071b2-328e-4e71-8147-e0df4a7bc349",
   "metadata": {},
   "outputs": [],
   "source": [
    "import pandas as pd\n",
    "import numpy as np\n",
    "\n",
    "from collections import Counter\n",
    "import matplotlib.pyplot as plt\n",
    "import seaborn as sns\n",
    "import json\n",
    "\n",
    "from bs4 import BeautifulSoup\n",
    "\n",
    "from sklearn.feature_extraction.text import TfidfVectorizer\n",
    "from sklearn.metrics.pairwise import linear_kernel"
   ]
  },
  {
   "cell_type": "markdown",
   "id": "33b2cda6-77e2-4c2b-a1d7-7aca43e39c98",
   "metadata": {},
   "source": [
    "# LOADING CSV FILES"
   ]
  },
  {
   "cell_type": "code",
   "execution_count": 408,
   "id": "616618c9-dd3f-4b8e-ae3e-0112b47c372e",
   "metadata": {},
   "outputs": [],
   "source": [
    "df = pd.read_csv(\"data/final/final_dataset.csv\")"
   ]
  },
  {
   "cell_type": "code",
   "execution_count": 409,
   "id": "e200055c-f3cb-4be2-be37-884120dc82b5",
   "metadata": {},
   "outputs": [
    {
     "name": "stdout",
     "output_type": "stream",
     "text": [
      "<class 'pandas.core.frame.DataFrame'>\n",
      "RangeIndex: 3255 entries, 0 to 3254\n",
      "Data columns (total 32 columns):\n",
      " #   Column                       Non-Null Count  Dtype  \n",
      "---  ------                       --------------  -----  \n",
      " 0   Unnamed: 0                   3255 non-null   int64  \n",
      " 1   aliases                      0 non-null      float64\n",
      " 2   api_detail_url               3255 non-null   object \n",
      " 3   associated_images            3255 non-null   object \n",
      " 4   character_credits            3255 non-null   object \n",
      " 5   character_died_in            3255 non-null   object \n",
      " 6   concept_credits              3255 non-null   object \n",
      " 7   cover_date                   3255 non-null   object \n",
      " 8   date_added                   3255 non-null   object \n",
      " 9   date_last_updated            3255 non-null   object \n",
      " 10  deck                         128 non-null    object \n",
      " 11  description                  3210 non-null   object \n",
      " 12  first_appearance_characters  0 non-null      float64\n",
      " 13  first_appearance_concepts    0 non-null      float64\n",
      " 14  first_appearance_locations   0 non-null      float64\n",
      " 15  first_appearance_objects     0 non-null      float64\n",
      " 16  first_appearance_storyarcs   0 non-null      float64\n",
      " 17  first_appearance_teams       0 non-null      float64\n",
      " 18  has_staff_review             3255 non-null   object \n",
      " 19  id                           3255 non-null   int64  \n",
      " 20  image                        3255 non-null   object \n",
      " 21  issue_number                 3255 non-null   object \n",
      " 22  location_credits             3255 non-null   object \n",
      " 23  name                         3221 non-null   object \n",
      " 24  object_credits               3255 non-null   object \n",
      " 25  person_credits               3255 non-null   object \n",
      " 26  site_detail_url              3255 non-null   object \n",
      " 27  store_date                   1360 non-null   object \n",
      " 28  story_arc_credits            3255 non-null   object \n",
      " 29  team_credits                 3255 non-null   object \n",
      " 30  team_disbanded_in            3255 non-null   object \n",
      " 31  volume                       3255 non-null   object \n",
      "dtypes: float64(7), int64(2), object(23)\n",
      "memory usage: 813.9+ KB\n"
     ]
    }
   ],
   "source": [
    "df.info()"
   ]
  },
  {
   "cell_type": "markdown",
   "id": "9e76350c-4660-4056-a27d-25b0d58544ad",
   "metadata": {},
   "source": [
    "# PREPROCESSING & FEATURE ENGINEERING FUNCTIONS"
   ]
  },
  {
   "cell_type": "markdown",
   "id": "05318af9-30f9-413b-8425-1cf6a731dcd2",
   "metadata": {},
   "source": [
    "**clean_dataframe** <br>\n",
    "input: df <br>\n",
    "drops various columns with too many nulls, converts some types to datetime and fill in null descriptions with \"\" <br>\n",
    "also drops various columns I deem aren't needed for the final model <br>\n",
    "output: df <br>"
   ]
  },
  {
   "cell_type": "code",
   "execution_count": 410,
   "id": "35838e3d-d50a-4497-b02e-67c0acb9f1a1",
   "metadata": {},
   "outputs": [],
   "source": [
    "def clean_dataframe(input_dataframe):\n",
    "    df = input_dataframe.copy()\n",
    "    df.drop(columns=[\"Unnamed: 0\", \"aliases\", \"deck\", \"first_appearance_characters\", \"first_appearance_concepts\", \n",
    "                    \"first_appearance_locations\", \"first_appearance_objects\", \"first_appearance_storyarcs\",\n",
    "                    \"first_appearance_teams\", \"store_date\"], inplace=True)\n",
    "    df.dropna(subset=['name'], inplace=True)\n",
    "    df['cover_date'] = pd.to_datetime(df['cover_date'], errors='coerce')\n",
    "    df['date_added'] = pd.to_datetime(df['date_added'], errors='coerce')\n",
    "    df['date_last_updated'] = pd.to_datetime(df['date_last_updated'], errors='coerce')\n",
    "    df.drop(columns=['api_detail_url', 'associated_images', 'date_added', 'date_last_updated', 'image',\n",
    "                    'site_detail_url'], inplace=True)\n",
    "    df['description'] = df['description'].fillna('')\n",
    "    #df = df.reset_index()\n",
    "    return df"
   ]
  },
  {
   "cell_type": "markdown",
   "id": "5f15644b-dae0-45c0-aa9b-0f8536dde842",
   "metadata": {},
   "source": [
    "**clean_description**\n",
    "cleans the description as well as possible\n",
    "the format and contents of the descriptions are not always consistent so there are some errors"
   ]
  },
  {
   "cell_type": "code",
   "execution_count": 411,
   "id": "1eb6ce49-acc4-4923-9442-bc0641263ac3",
   "metadata": {},
   "outputs": [],
   "source": [
    "def clean_description(html_text):\n",
    "    soup = BeautifulSoup(html_text, 'html.parser')\n",
    "    cleaned_text = soup.get_text(separator='\\n')\n",
    "    cleaned_text = cleaned_text.replace('\\\\', '').replace('\\n', '')\n",
    "    return cleaned_text"
   ]
  },
  {
   "cell_type": "markdown",
   "id": "d86b1543-f363-4657-94c8-927f549de73a",
   "metadata": {},
   "source": [
    "**get_names and get_obj** <br>\n",
    "get_names takes in lists and get_obj is for when there is only one object <br>\n",
    "when there is an error, i've set it to return an empty list ([])"
   ]
  },
  {
   "cell_type": "code",
   "execution_count": 412,
   "id": "aadeeb2c-607d-42de-b096-92f49708add4",
   "metadata": {},
   "outputs": [],
   "source": [
    "def get_names(json_str, index):\n",
    "    json_str = json_str.replace(\"'\",'\"')\n",
    "    try:\n",
    "        lst = json.loads(json_str)\n",
    "    except json.JSONDecodeError as e:\n",
    "        #print(f\"JSONDecodeError at row {index}: {e}\")\n",
    "        return []\n",
    "    names = [item[\"name\"] for item in lst]\n",
    "    return names\n",
    "def get_obj(json_str, index):\n",
    "    json_str = json_str.replace(\"'\",'\"')\n",
    "    try:\n",
    "        obj = json.loads(json_str)\n",
    "    except json.JSONDecodeError as e:\n",
    "        #print(f\"JSONDecodeError at row {index}: {e}\")\n",
    "        return []\n",
    "    names = [obj[\"name\"]]  # Since we are dealing with a single object, not a list\n",
    "    return names"
   ]
  },
  {
   "cell_type": "markdown",
   "id": "65005c46-f5e7-46f6-8f03-cac8e320a0f7",
   "metadata": {},
   "source": [
    "**total_clean** applies all the above functions"
   ]
  },
  {
   "cell_type": "code",
   "execution_count": 413,
   "id": "f6195889-261b-4261-b045-7b2545e301a7",
   "metadata": {},
   "outputs": [],
   "source": [
    "def total_clean(df):\n",
    "    df[\"description\"] = df[\"description\"].apply(clean_description)\n",
    "    df['character_credits'] = df.apply(lambda row: get_names(row['character_credits'], row.name), axis=1)\n",
    "    df['character_died_in'] = df.apply(lambda row: get_names(row['character_died_in'], row.name), axis=1)\n",
    "    df['concept_credits'] = df.apply(lambda row: get_names(row['concept_credits'], row.name), axis=1)\n",
    "    df['location_credits'] = df.apply(lambda row: get_names(row['location_credits'], row.name), axis=1)\n",
    "    df['object_credits'] = df.apply(lambda row: get_names(row['object_credits'], row.name), axis=1)\n",
    "    df['person_credits'] = df.apply(lambda row: get_names(row['person_credits'], row.name), axis=1)\n",
    "    df['story_arc_credits'] = df.apply(lambda row: get_names(row['story_arc_credits'], row.name), axis=1)\n",
    "    df[\"team_credits\"] = df.apply(lambda row: get_names(row['team_credits'], row.name), axis=1)\n",
    "    df['team_disbanded_in'] = df.apply(lambda row: get_names(row['team_disbanded_in'], row.name), axis=1)\n",
    "    df['volume'] = df.apply(lambda row: get_obj(row['volume'], row.name), axis=1)"
   ]
  },
  {
   "cell_type": "markdown",
   "id": "aa4b3c09-cc17-43bd-acdd-a6b423320156",
   "metadata": {},
   "source": [
    "**to_underscore** replaces the spaces with underscore in the credits <br>\n",
    "this is in preparation for when we vectorize and to make sure that we don't seperate the first and last names"
   ]
  },
  {
   "cell_type": "code",
   "execution_count": 414,
   "id": "2a91d793-686a-427b-a82f-c6276a42e23c",
   "metadata": {},
   "outputs": [],
   "source": [
    "def to_underscore(df):\n",
    "    df['character_credits'] = df['character_credits'].apply(lambda x:[name.replace(' ', '_') for name in x])\n",
    "    df['character_died_in'] = df['character_died_in'].apply(lambda x:[name.replace(' ', '_') for name in x])\n",
    "    df['concept_credits'] = df['concept_credits'].apply(lambda x:[name.replace(' ', '_') for name in x])\n",
    "    df['location_credits'] = df['location_credits'].apply(lambda x: [name.replace(' ', '_') for name in x])\n",
    "    df['object_credits'] = df['object_credits'].apply(lambda x: [name.replace(' ', '_') for name in x])\n",
    "    df['person_credits'] = df['person_credits'].apply(lambda x: [name.replace(' ', '_') for name in x])\n",
    "    df['story_arc_credits'] = df['story_arc_credits'].apply(lambda x: [name.replace(' ', '_') for name in x])\n",
    "    df['team_credits'] = df['team_credits'].apply(lambda x: [name.replace(' ', '_') for name in x])\n",
    "    df['team_disbanded_in'] = df['team_disbanded_in'].apply(lambda x: [name.replace(' ', '_') for name in x])\n",
    "    df['volume'] = df['volume'].apply(lambda x: [name.replace(' ', '_') for name in x])"
   ]
  },
  {
   "cell_type": "markdown",
   "id": "138987a3-4b48-49b6-ae73-4d6e2083ed81",
   "metadata": {},
   "source": [
    "**to_string** converts the various credits into from lst to string <br>\n",
    "**combined_description** combines the description col with all the credits cols to create a new feature "
   ]
  },
  {
   "cell_type": "code",
   "execution_count": 415,
   "id": "327970fd-d68f-4718-b412-92cd30559f64",
   "metadata": {},
   "outputs": [],
   "source": [
    "def to_string(lst):\n",
    "    string = \"\"\n",
    "    for item in lst:\n",
    "        string = string + \" \" + item\n",
    "    return string"
   ]
  },
  {
   "cell_type": "code",
   "execution_count": 416,
   "id": "7fa16030-cdf2-40d8-8658-8c3185856728",
   "metadata": {},
   "outputs": [],
   "source": [
    "def combined_description(df):\n",
    "    lst = ['character_credits', 'concept_credits', 'location_credits', 'object_credits', \n",
    "           'person_credits', 'story_arc_credits', 'team_credits', 'volume']\n",
    "    df['combined_description'] = df['description']\n",
    "    for col in lst:\n",
    "        df['combined_description'] = df['combined_description'] + df[col].apply(to_string)"
   ]
  },
  {
   "cell_type": "markdown",
   "id": "2f1945b4-df00-419a-b395-e93b142976b3",
   "metadata": {},
   "source": [
    "# ACTUALLY DOING THE PREPROCESSING & FEATURE ENGINEERING"
   ]
  },
  {
   "cell_type": "code",
   "execution_count": 417,
   "id": "2499ec2c-d407-4123-b183-e50db5d9117e",
   "metadata": {},
   "outputs": [],
   "source": [
    "#dropping stuff and converting datetime and filling in nulls\n",
    "df = clean_dataframe(df)"
   ]
  },
  {
   "cell_type": "code",
   "execution_count": 418,
   "id": "47579e87-bb53-47f3-808e-6864fb5d38b1",
   "metadata": {},
   "outputs": [],
   "source": [
    "#cleaning text and getting lists for various credits\n",
    "total_clean(df)"
   ]
  },
  {
   "cell_type": "code",
   "execution_count": 419,
   "id": "c3aea55f-4a12-4452-8479-7f4658f39941",
   "metadata": {},
   "outputs": [],
   "source": [
    "#replcing spaces with underscores in various credits\n",
    "to_underscore(df)"
   ]
  },
  {
   "cell_type": "code",
   "execution_count": 420,
   "id": "f6c62760-e5b0-4d2c-8377-a1c3f20a08ed",
   "metadata": {},
   "outputs": [],
   "source": [
    "#combining desciprtion and various credits\n",
    "combined_description(df)"
   ]
  },
  {
   "cell_type": "code",
   "execution_count": 421,
   "id": "bd29dac8-a4bc-4549-b261-3ffda1054427",
   "metadata": {},
   "outputs": [
    {
     "data": {
      "text/html": [
       "<div>\n",
       "<style scoped>\n",
       "    .dataframe tbody tr th:only-of-type {\n",
       "        vertical-align: middle;\n",
       "    }\n",
       "\n",
       "    .dataframe tbody tr th {\n",
       "        vertical-align: top;\n",
       "    }\n",
       "\n",
       "    .dataframe thead th {\n",
       "        text-align: right;\n",
       "    }\n",
       "</style>\n",
       "<table border=\"1\" class=\"dataframe\">\n",
       "  <thead>\n",
       "    <tr style=\"text-align: right;\">\n",
       "      <th></th>\n",
       "      <th>character_credits</th>\n",
       "      <th>character_died_in</th>\n",
       "      <th>concept_credits</th>\n",
       "      <th>cover_date</th>\n",
       "      <th>description</th>\n",
       "      <th>has_staff_review</th>\n",
       "      <th>id</th>\n",
       "      <th>issue_number</th>\n",
       "      <th>location_credits</th>\n",
       "      <th>name</th>\n",
       "      <th>object_credits</th>\n",
       "      <th>person_credits</th>\n",
       "      <th>story_arc_credits</th>\n",
       "      <th>team_credits</th>\n",
       "      <th>team_disbanded_in</th>\n",
       "      <th>volume</th>\n",
       "      <th>combined_description</th>\n",
       "    </tr>\n",
       "  </thead>\n",
       "  <tbody>\n",
       "    <tr>\n",
       "      <th>736</th>\n",
       "      <td>[Batman, Catwoman, Chief_Hot_Foot, Dick_Grayso...</td>\n",
       "      <td>[]</td>\n",
       "      <td>[Animal_Attacks, Batman_Villains, Golden_Age_o...</td>\n",
       "      <td>1947-08-31</td>\n",
       "      <td>“CLAWS OF THE CATWOMAN!” Catwoman escapes from...</td>\n",
       "      <td>False</td>\n",
       "      <td>122711</td>\n",
       "      <td>42</td>\n",
       "      <td>[Gotham_City, Gotham_State_Penitentiary, Wayne...</td>\n",
       "      <td>Claws of the Catwoman!</td>\n",
       "      <td>[Bat-Signal, Bat-Suit, Batmobile, Gotham_Gazet...</td>\n",
       "      <td>[Bill_Finger, Bob_Kane, Charles_Paris, Curt_Sw...</td>\n",
       "      <td>[]</td>\n",
       "      <td>[Batman_and_Robin, Gotham_City_Police_Department]</td>\n",
       "      <td>[]</td>\n",
       "      <td>[Batman]</td>\n",
       "      <td>“CLAWS OF THE CATWOMAN!” Catwoman escapes from...</td>\n",
       "    </tr>\n",
       "    <tr>\n",
       "      <th>301</th>\n",
       "      <td>[Alfred_Pennyworth, Batman, Diamond_Jack_Caffe...</td>\n",
       "      <td>[]</td>\n",
       "      <td>[Bronze_Age_of_Comics]</td>\n",
       "      <td>1978-10-31</td>\n",
       "      <td>The Dark Knight has been kidnapped and drugged...</td>\n",
       "      <td>False</td>\n",
       "      <td>18856</td>\n",
       "      <td>304</td>\n",
       "      <td>[]</td>\n",
       "      <td>To Hell With Batman... and Back!</td>\n",
       "      <td>[]</td>\n",
       "      <td>[David_V._Reed, Jim_Aparo]</td>\n",
       "      <td>[]</td>\n",
       "      <td>[]</td>\n",
       "      <td>[]</td>\n",
       "      <td>[Batman]</td>\n",
       "      <td>The Dark Knight has been kidnapped and drugged...</td>\n",
       "    </tr>\n",
       "    <tr>\n",
       "      <th>1407</th>\n",
       "      <td>[Demon_John, First_of_the_Fallen, Ghant, John_...</td>\n",
       "      <td>[]</td>\n",
       "      <td>[Vertigo]</td>\n",
       "      <td>2004-10-24</td>\n",
       "      <td>When all intrigues are laid bare and all masks...</td>\n",
       "      <td>False</td>\n",
       "      <td>108149</td>\n",
       "      <td>199</td>\n",
       "      <td>[]</td>\n",
       "      <td>Stations Of The Cross, Part 3</td>\n",
       "      <td>[]</td>\n",
       "      <td>[Lee_Loughridge, Marcelo_Frusin, Mike_Carey, T...</td>\n",
       "      <td>[]</td>\n",
       "      <td>[]</td>\n",
       "      <td>[]</td>\n",
       "      <td>[Hellblazer]</td>\n",
       "      <td>When all intrigues are laid bare and all masks...</td>\n",
       "    </tr>\n",
       "  </tbody>\n",
       "</table>\n",
       "</div>"
      ],
      "text/plain": [
       "                                      character_credits character_died_in  \\\n",
       "736   [Batman, Catwoman, Chief_Hot_Foot, Dick_Grayso...                []   \n",
       "301   [Alfred_Pennyworth, Batman, Diamond_Jack_Caffe...                []   \n",
       "1407  [Demon_John, First_of_the_Fallen, Ghant, John_...                []   \n",
       "\n",
       "                                        concept_credits cover_date  \\\n",
       "736   [Animal_Attacks, Batman_Villains, Golden_Age_o... 1947-08-31   \n",
       "301                              [Bronze_Age_of_Comics] 1978-10-31   \n",
       "1407                                          [Vertigo] 2004-10-24   \n",
       "\n",
       "                                            description has_staff_review  \\\n",
       "736   “CLAWS OF THE CATWOMAN!” Catwoman escapes from...            False   \n",
       "301   The Dark Knight has been kidnapped and drugged...            False   \n",
       "1407  When all intrigues are laid bare and all masks...            False   \n",
       "\n",
       "          id issue_number                                   location_credits  \\\n",
       "736   122711           42  [Gotham_City, Gotham_State_Penitentiary, Wayne...   \n",
       "301    18856          304                                                 []   \n",
       "1407  108149          199                                                 []   \n",
       "\n",
       "                                  name  \\\n",
       "736             Claws of the Catwoman!   \n",
       "301   To Hell With Batman... and Back!   \n",
       "1407     Stations Of The Cross, Part 3   \n",
       "\n",
       "                                         object_credits  \\\n",
       "736   [Bat-Signal, Bat-Suit, Batmobile, Gotham_Gazet...   \n",
       "301                                                  []   \n",
       "1407                                                 []   \n",
       "\n",
       "                                         person_credits story_arc_credits  \\\n",
       "736   [Bill_Finger, Bob_Kane, Charles_Paris, Curt_Sw...                []   \n",
       "301                          [David_V._Reed, Jim_Aparo]                []   \n",
       "1407  [Lee_Loughridge, Marcelo_Frusin, Mike_Carey, T...                []   \n",
       "\n",
       "                                           team_credits team_disbanded_in  \\\n",
       "736   [Batman_and_Robin, Gotham_City_Police_Department]                []   \n",
       "301                                                  []                []   \n",
       "1407                                                 []                []   \n",
       "\n",
       "            volume                               combined_description  \n",
       "736       [Batman]  “CLAWS OF THE CATWOMAN!” Catwoman escapes from...  \n",
       "301       [Batman]  The Dark Knight has been kidnapped and drugged...  \n",
       "1407  [Hellblazer]  When all intrigues are laid bare and all masks...  "
      ]
     },
     "execution_count": 421,
     "metadata": {},
     "output_type": "execute_result"
    }
   ],
   "source": [
    "df.sample(3)"
   ]
  },
  {
   "cell_type": "code",
   "execution_count": 425,
   "id": "f2a2dea4-2097-4caf-acc5-48fe82f1b304",
   "metadata": {},
   "outputs": [
    {
     "data": {
      "text/plain": [
       "['Alfred_Pennyworth',\n",
       " 'Arthur_Reeves',\n",
       " 'Batman',\n",
       " 'Battle_Cat',\n",
       " 'Beast-Man',\n",
       " 'Dick_Grayson',\n",
       " 'He-Man',\n",
       " 'James_Gordon',\n",
       " 'Joker',\n",
       " 'Man-At-Arms',\n",
       " 'Mer-Man',\n",
       " 'Olivia_Ortega',\n",
       " 'Skeletor',\n",
       " 'Superman',\n",
       " 'The_Sorceress',\n",
       " 'Vicki_Vale',\n",
       " 'Zodac']"
      ]
     },
     "execution_count": 425,
     "metadata": {},
     "output_type": "execute_result"
    }
   ],
   "source": [
    "df['character_credits'][350]"
   ]
  },
  {
   "cell_type": "code",
   "execution_count": 423,
   "id": "de178dca-4497-4fe0-97a1-d5540560e0b4",
   "metadata": {},
   "outputs": [
    {
     "name": "stdout",
     "output_type": "stream",
     "text": [
      "<class 'pandas.core.frame.DataFrame'>\n",
      "Index: 3221 entries, 0 to 3254\n",
      "Data columns (total 17 columns):\n",
      " #   Column                Non-Null Count  Dtype         \n",
      "---  ------                --------------  -----         \n",
      " 0   character_credits     3221 non-null   object        \n",
      " 1   character_died_in     3221 non-null   object        \n",
      " 2   concept_credits       3221 non-null   object        \n",
      " 3   cover_date            3221 non-null   datetime64[ns]\n",
      " 4   description           3221 non-null   object        \n",
      " 5   has_staff_review      3221 non-null   object        \n",
      " 6   id                    3221 non-null   int64         \n",
      " 7   issue_number          3221 non-null   object        \n",
      " 8   location_credits      3221 non-null   object        \n",
      " 9   name                  3221 non-null   object        \n",
      " 10  object_credits        3221 non-null   object        \n",
      " 11  person_credits        3221 non-null   object        \n",
      " 12  story_arc_credits     3221 non-null   object        \n",
      " 13  team_credits          3221 non-null   object        \n",
      " 14  team_disbanded_in     3221 non-null   object        \n",
      " 15  volume                3221 non-null   object        \n",
      " 16  combined_description  3221 non-null   object        \n",
      "dtypes: datetime64[ns](1), int64(1), object(15)\n",
      "memory usage: 582.0+ KB\n"
     ]
    }
   ],
   "source": [
    "df.info()"
   ]
  },
  {
   "cell_type": "code",
   "execution_count": 424,
   "id": "8671a2b6-d1dd-4fec-9d77-9be21cf37408",
   "metadata": {},
   "outputs": [],
   "source": [
    "df.to_csv(\"data/final/final_dataset_clean.csv\", index=False)"
   ]
  }
 ],
 "metadata": {
  "kernelspec": {
   "display_name": "Python 3 (ipykernel)",
   "language": "python",
   "name": "python3"
  },
  "language_info": {
   "codemirror_mode": {
    "name": "ipython",
    "version": 3
   },
   "file_extension": ".py",
   "mimetype": "text/x-python",
   "name": "python",
   "nbconvert_exporter": "python",
   "pygments_lexer": "ipython3",
   "version": "3.11.7"
  }
 },
 "nbformat": 4,
 "nbformat_minor": 5
}
