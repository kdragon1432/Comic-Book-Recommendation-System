{
 "cells": [
  {
   "cell_type": "code",
   "execution_count": 83,
   "id": "69171488-5b73-4a2d-b081-2f69409c02a0",
   "metadata": {},
   "outputs": [],
   "source": [
    "import pandas as pd\n",
    "import numpy as np\n",
    "import json\n",
    "\n",
    "from bs4 import BeautifulSoup\n",
    "\n",
    "from sklearn.feature_extraction.text import TfidfVectorizer\n",
    "from sklearn.metrics.pairwise import linear_kernel\n",
    "\n",
    "from sklearn.model_selection import train_test_split\n",
    "from sklearn.tree import DecisionTreeClassifier\n",
    "from sklearn.metrics import accuracy_score"
   ]
  },
  {
   "cell_type": "code",
   "execution_count": 5,
   "id": "4cf8a3d7-c6fc-45ad-b460-5e562fb5210e",
   "metadata": {},
   "outputs": [],
   "source": [
    "marvel = pd.read_csv(\"data/marvel_comics.csv\")"
   ]
  },
  {
   "cell_type": "code",
   "execution_count": 75,
   "id": "af1d4f4b-730b-472b-bcef-a484bd3560c1",
   "metadata": {},
   "outputs": [],
   "source": [
    "def clean_marvel_df(input_df):\n",
    "    df = input_df.copy()\n",
    "    df[\"issue_description\"] = df[\"issue_description\"].fillna(\"\")\n",
    "    #df[\"penciler\"] = df[\"penciler\"].fillna(\"\")\n",
    "    #df[\"writer\"] = df[\"writer\"].fillna(\"\")\n",
    "    #df[\"cover_artist\"] = df[\"cover_artist\"].fillna(\"\")\n",
    "    return df"
   ]
  },
  {
   "cell_type": "code",
   "execution_count": 76,
   "id": "657d34db-bd88-4df2-ba9f-7033bee7f1db",
   "metadata": {},
   "outputs": [],
   "source": [
    "clean_marvel = clean_marvel_df(marvel)"
   ]
  },
  {
   "cell_type": "code",
   "execution_count": 77,
   "id": "1b77cbb1-b1cf-45aa-aabe-374729e3999b",
   "metadata": {},
   "outputs": [
    {
     "data": {
      "text/html": [
       "<div>\n",
       "<style scoped>\n",
       "    .dataframe tbody tr th:only-of-type {\n",
       "        vertical-align: middle;\n",
       "    }\n",
       "\n",
       "    .dataframe tbody tr th {\n",
       "        vertical-align: top;\n",
       "    }\n",
       "\n",
       "    .dataframe thead th {\n",
       "        text-align: right;\n",
       "    }\n",
       "</style>\n",
       "<table border=\"1\" class=\"dataframe\">\n",
       "  <thead>\n",
       "    <tr style=\"text-align: right;\">\n",
       "      <th></th>\n",
       "      <th>comic_name</th>\n",
       "      <th>active_years</th>\n",
       "      <th>issue_title</th>\n",
       "      <th>publish_date</th>\n",
       "      <th>issue_description</th>\n",
       "      <th>penciler</th>\n",
       "      <th>writer</th>\n",
       "      <th>cover_artist</th>\n",
       "      <th>Imprint</th>\n",
       "      <th>Format</th>\n",
       "      <th>Rating</th>\n",
       "      <th>Price</th>\n",
       "    </tr>\n",
       "  </thead>\n",
       "  <tbody>\n",
       "    <tr>\n",
       "      <th>28969</th>\n",
       "      <td>Two-Gun Kid (1948 - 1977)</td>\n",
       "      <td>(1948 - 1977)</td>\n",
       "      <td>Two-Gun Kid (1948) #129</td>\n",
       "      <td>April 10, 1976</td>\n",
       "      <td></td>\n",
       "      <td>NaN</td>\n",
       "      <td>NaN</td>\n",
       "      <td>NaN</td>\n",
       "      <td>NaN</td>\n",
       "      <td>Comic</td>\n",
       "      <td>NaN</td>\n",
       "      <td>Free</td>\n",
       "    </tr>\n",
       "    <tr>\n",
       "      <th>5722</th>\n",
       "      <td>Cyclops (2014 - 2015)</td>\n",
       "      <td>(2014 - 2015)</td>\n",
       "      <td>Cyclops (2014) #5</td>\n",
       "      <td>September 24, 2014</td>\n",
       "      <td>Still weeks away from pick-up by the Starjamme...</td>\n",
       "      <td>Alexander Lozano</td>\n",
       "      <td>Greg Rucka</td>\n",
       "      <td>NaN</td>\n",
       "      <td>NaN</td>\n",
       "      <td>Comic</td>\n",
       "      <td>NaN</td>\n",
       "      <td>$3.99</td>\n",
       "    </tr>\n",
       "  </tbody>\n",
       "</table>\n",
       "</div>"
      ],
      "text/plain": [
       "                      comic_name   active_years              issue_title  \\\n",
       "28969  Two-Gun Kid (1948 - 1977)  (1948 - 1977)  Two-Gun Kid (1948) #129   \n",
       "5722       Cyclops (2014 - 2015)  (2014 - 2015)        Cyclops (2014) #5   \n",
       "\n",
       "             publish_date                                  issue_description  \\\n",
       "28969      April 10, 1976                                                      \n",
       "5722   September 24, 2014  Still weeks away from pick-up by the Starjamme...   \n",
       "\n",
       "               penciler      writer cover_artist Imprint  Format Rating  \\\n",
       "28969               NaN         NaN          NaN     NaN   Comic    NaN   \n",
       "5722   Alexander Lozano  Greg Rucka          NaN     NaN   Comic    NaN   \n",
       "\n",
       "        Price  \n",
       "28969    Free  \n",
       "5722    $3.99  "
      ]
     },
     "execution_count": 77,
     "metadata": {},
     "output_type": "execute_result"
    }
   ],
   "source": [
    "clean_marvel.sample(2)"
   ]
  },
  {
   "cell_type": "code",
   "execution_count": 78,
   "id": "47b5fe74-a602-4a1c-8456-c2973df5cfb0",
   "metadata": {},
   "outputs": [
    {
     "data": {
      "text/plain": [
       "comic_name               0\n",
       "active_years             0\n",
       "issue_title            526\n",
       "publish_date           526\n",
       "issue_description        0\n",
       "penciler              9510\n",
       "writer                7397\n",
       "cover_artist         22737\n",
       "Imprint              23308\n",
       "Format                2098\n",
       "Rating               22373\n",
       "Price                 2098\n",
       "dtype: int64"
      ]
     },
     "execution_count": 78,
     "metadata": {},
     "output_type": "execute_result"
    }
   ],
   "source": [
    "clean_marvel.isnull().sum()"
   ]
  },
  {
   "cell_type": "code",
   "execution_count": 79,
   "id": "c7c97a49-1b92-435f-afd2-02de49e93026",
   "metadata": {},
   "outputs": [
    {
     "data": {
      "text/plain": [
       "penciler\n",
       "A CO                                7\n",
       "ART & COMICS INT'L                  1\n",
       "Aaron Kim Jacinto                   5\n",
       "Aaron Kim Jacinto, Ario Anindito    1\n",
       "Aaron Kim Jacinto, R.B. Silva       1\n",
       "                                   ..\n",
       "Yvel Guichet                        2\n",
       "Yves Bigerel                        3\n",
       "Zach Howard                         2\n",
       "Zachary Baldus                      1\n",
       "Zachary Montoya                     1\n",
       "Name: penciler, Length: 3915, dtype: int64"
      ]
     },
     "execution_count": 79,
     "metadata": {},
     "output_type": "execute_result"
    }
   ],
   "source": [
    "clean_marvel.groupby(\"penciler\")[\"penciler\"].count()"
   ]
  },
  {
   "cell_type": "markdown",
   "id": "21a1fdee-dca3-401e-8cd6-fd6e15fcd2cf",
   "metadata": {},
   "source": [
    "# Content Base Recommendation System"
   ]
  },
  {
   "cell_type": "code",
   "execution_count": 12,
   "id": "cf13781f-dc2c-46f5-8e6e-60fa83b23d22",
   "metadata": {},
   "outputs": [],
   "source": [
    "tfidf = TfidfVectorizer(stop_words='english')\n",
    "tfidf_matrix = tfidf.fit_transform(clean_marvel['issue_description'])\n",
    "cosine_sim = linear_kernel(tfidf_matrix, tfidf_matrix)"
   ]
  },
  {
   "cell_type": "code",
   "execution_count": 29,
   "id": "8b697a5d-30d5-472d-8d66-f35d08c257f0",
   "metadata": {},
   "outputs": [],
   "source": [
    "def get_recommendations(df, title, cosine_sim=cosine_sim):\n",
    "    # Get the index of the issue that matches the title\n",
    "    idx = df[df['comic_name'] == title].index[0]\n",
    "    # Get the pairwise similarity scores of all issues with that issue\n",
    "    sim_scores = list(enumerate(cosine_sim[idx]))\n",
    "    # Sort the issues based on the similarity scores\n",
    "    sim_scores = sorted(sim_scores, key=lambda x: x[1], reverse=True)\n",
    "    # Get the scores of the 10 most similar issues\n",
    "    sim_scores = sim_scores[1:11]\n",
    "    # Get the issue indices\n",
    "    issue_indices = [i[0] for i in sim_scores]\n",
    "    # Return the top 10 most similar issues\n",
    "    return df[['comic_name', 'issue_title', 'issue_description']].iloc[issue_indices]"
   ]
  },
  {
   "cell_type": "code",
   "execution_count": 21,
   "id": "1d2a1be3-14de-45e2-b4fd-48532f312090",
   "metadata": {},
   "outputs": [
    {
     "data": {
      "text/plain": [
       "'All-New Inhumans (2015 - 2016)'"
      ]
     },
     "execution_count": 21,
     "metadata": {},
     "output_type": "execute_result"
    }
   ],
   "source": [
    "clean_marvel[\"comic_name\"][400]"
   ]
  },
  {
   "cell_type": "code",
   "execution_count": 31,
   "id": "9c6df0d7-4f80-4059-98e4-60ab191bbdfc",
   "metadata": {},
   "outputs": [],
   "source": [
    "recommendations = get_recommendations(clean_marvel, \"Adventure Into Fear (1970 - 1975)\", cosine_sim=cosine_sim)"
   ]
  },
  {
   "cell_type": "code",
   "execution_count": 39,
   "id": "a3f151f8-9336-4af5-9f69-581b3d7484fa",
   "metadata": {},
   "outputs": [
    {
     "data": {
      "text/html": [
       "<div>\n",
       "<style scoped>\n",
       "    .dataframe tbody tr th:only-of-type {\n",
       "        vertical-align: middle;\n",
       "    }\n",
       "\n",
       "    .dataframe tbody tr th {\n",
       "        vertical-align: top;\n",
       "    }\n",
       "\n",
       "    .dataframe thead th {\n",
       "        text-align: right;\n",
       "    }\n",
       "</style>\n",
       "<table border=\"1\" class=\"dataframe\">\n",
       "  <thead>\n",
       "    <tr style=\"text-align: right;\">\n",
       "      <th></th>\n",
       "      <th>comic_name</th>\n",
       "      <th>issue_title</th>\n",
       "      <th>issue_description</th>\n",
       "    </tr>\n",
       "  </thead>\n",
       "  <tbody>\n",
       "    <tr>\n",
       "      <th>28752</th>\n",
       "      <td>True Believers: Conan - The Secret of Skull Ri...</td>\n",
       "      <td>True Believers: Conan - The Secret of Skull Ri...</td>\n",
       "      <td>Reprinting Savage Tales (1971) #5</td>\n",
       "    </tr>\n",
       "    <tr>\n",
       "      <th>26613</th>\n",
       "      <td>The Astonishing Ant-Man (2015 - 2016)</td>\n",
       "      <td>The Astonishing Ant-Man (2015) #3</td>\n",
       "      <td>Because you demanded it: Scott Lang, the Aston...</td>\n",
       "    </tr>\n",
       "    <tr>\n",
       "      <th>4603</th>\n",
       "      <td>Captain America: First Vengeance (2011)</td>\n",
       "      <td>Captain America: First Vengeance (2011) #5</td>\n",
       "      <td>The official prequel to the upcoming summer bl...</td>\n",
       "    </tr>\n",
       "    <tr>\n",
       "      <th>25912</th>\n",
       "      <td>Tales to Astonish (1959 - 1968)</td>\n",
       "      <td>Tales to Astonish (1959) #4</td>\n",
       "      <td>What happens when a film director is kidnapped...</td>\n",
       "    </tr>\n",
       "    <tr>\n",
       "      <th>13338</th>\n",
       "      <td>Iron Man 2: Agents of S.H.I.E.L.D. (2010)</td>\n",
       "      <td>Iron Man 2: Agents of S.H.I.E.L.D. (2010) #1</td>\n",
       "      <td>IRON MAN 2! You saw the Hollywood smash - now ...</td>\n",
       "    </tr>\n",
       "    <tr>\n",
       "      <th>14513</th>\n",
       "      <td>Man-Thing (2004)</td>\n",
       "      <td>Man-Thing (2004) #1</td>\n",
       "      <td>What evil lurks in the brackish waters of the ...</td>\n",
       "    </tr>\n",
       "    <tr>\n",
       "      <th>33463</th>\n",
       "      <td>X-Force (1991 - 2004)</td>\n",
       "      <td>X-Force (1991) #126</td>\n",
       "      <td>Dead Girl's backstory is revealed!</td>\n",
       "    </tr>\n",
       "    <tr>\n",
       "      <th>28728</th>\n",
       "      <td>True Believers: Black Widow - Amazing Adventur...</td>\n",
       "      <td>True Believers: Black Widow - Amazing Adventur...</td>\n",
       "      <td>Amazing Adventures (1970) #1–2</td>\n",
       "    </tr>\n",
       "    <tr>\n",
       "      <th>16159</th>\n",
       "      <td>Marvel Team-Up (1972 - 1985)</td>\n",
       "      <td>Marvel Team-Up (1972) #68</td>\n",
       "      <td>The Man-Thing is a prisoner of man! Peter Park...</td>\n",
       "    </tr>\n",
       "    <tr>\n",
       "      <th>11555</th>\n",
       "      <td>Hulk (2008 - 2012)</td>\n",
       "      <td>Hulk (2008) #38</td>\n",
       "      <td>FEAR ITSELF tie-in. Red Hulk's battle with the...</td>\n",
       "    </tr>\n",
       "  </tbody>\n",
       "</table>\n",
       "</div>"
      ],
      "text/plain": [
       "                                              comic_name  \\\n",
       "28752  True Believers: Conan - The Secret of Skull Ri...   \n",
       "26613              The Astonishing Ant-Man (2015 - 2016)   \n",
       "4603             Captain America: First Vengeance (2011)   \n",
       "25912                    Tales to Astonish (1959 - 1968)   \n",
       "13338          Iron Man 2: Agents of S.H.I.E.L.D. (2010)   \n",
       "14513                                   Man-Thing (2004)   \n",
       "33463                              X-Force (1991 - 2004)   \n",
       "28728  True Believers: Black Widow - Amazing Adventur...   \n",
       "16159                       Marvel Team-Up (1972 - 1985)   \n",
       "11555                                 Hulk (2008 - 2012)   \n",
       "\n",
       "                                             issue_title  \\\n",
       "28752  True Believers: Conan - The Secret of Skull Ri...   \n",
       "26613                  The Astonishing Ant-Man (2015) #3   \n",
       "4603          Captain America: First Vengeance (2011) #5   \n",
       "25912                        Tales to Astonish (1959) #4   \n",
       "13338       Iron Man 2: Agents of S.H.I.E.L.D. (2010) #1   \n",
       "14513                                Man-Thing (2004) #1   \n",
       "33463                                X-Force (1991) #126   \n",
       "28728  True Believers: Black Widow - Amazing Adventur...   \n",
       "16159                          Marvel Team-Up (1972) #68   \n",
       "11555                                    Hulk (2008) #38   \n",
       "\n",
       "                                       issue_description  \n",
       "28752                  Reprinting Savage Tales (1971) #5  \n",
       "26613  Because you demanded it: Scott Lang, the Aston...  \n",
       "4603   The official prequel to the upcoming summer bl...  \n",
       "25912  What happens when a film director is kidnapped...  \n",
       "13338  IRON MAN 2! You saw the Hollywood smash - now ...  \n",
       "14513  What evil lurks in the brackish waters of the ...  \n",
       "33463                 Dead Girl's backstory is revealed!  \n",
       "28728                     Amazing Adventures (1970) #1–2  \n",
       "16159  The Man-Thing is a prisoner of man! Peter Park...  \n",
       "11555  FEAR ITSELF tie-in. Red Hulk's battle with the...  "
      ]
     },
     "execution_count": 39,
     "metadata": {},
     "output_type": "execute_result"
    }
   ],
   "source": [
    "recommendations"
   ]
  },
  {
   "cell_type": "code",
   "execution_count": 22,
   "id": "50b9386a-94eb-4fa6-b9c6-0726a3e9d2e1",
   "metadata": {},
   "outputs": [
    {
     "name": "stdout",
     "output_type": "stream",
     "text": [
      "21292              Runaways (2003 - 2004)\n",
      "23029            Spider-Man (1990 - 1998)\n",
      "7757              Defenders (2011 - 2012)\n",
      "393        All-New Inhumans (2015 - 2016)\n",
      "19536            Paradise X (2002 - 2003)\n",
      "1034     Amazing Spider-Man (1999 - 2013)\n",
      "4898         Captain Marvel (2002 - 2004)\n",
      "18687      New Mutants: Dead Souls (2018)\n",
      "6299              Daredevil (1998 - 2011)\n",
      "19420             Onslaught: X-Men (1996)\n",
      "Name: comic_name, dtype: object\n"
     ]
    }
   ],
   "source": [
    "recommendations = get_recommendations(clean_marvel, 'All-New Inhumans (2015 - 2016)', cosine_sim=cosine_sim)\n",
    "print(recommendations)"
   ]
  },
  {
   "cell_type": "markdown",
   "id": "9d3f6e77-69c5-4330-a7d1-bc305ac7b57f",
   "metadata": {},
   "source": [
    "# Decision Tree Classifier"
   ]
  },
  {
   "cell_type": "code",
   "execution_count": 23,
   "id": "fbfd9d9f-14f8-4561-8c1b-3f944c1588b4",
   "metadata": {},
   "outputs": [
    {
     "name": "stdout",
     "output_type": "stream",
     "text": [
      "<class 'pandas.core.frame.DataFrame'>\n",
      "RangeIndex: 34992 entries, 0 to 34991\n",
      "Data columns (total 12 columns):\n",
      " #   Column             Non-Null Count  Dtype \n",
      "---  ------             --------------  ----- \n",
      " 0   comic_name         34992 non-null  object\n",
      " 1   active_years       34992 non-null  object\n",
      " 2   issue_title        34466 non-null  object\n",
      " 3   publish_date       34466 non-null  object\n",
      " 4   issue_description  34992 non-null  object\n",
      " 5   penciler           25482 non-null  object\n",
      " 6   writer             27595 non-null  object\n",
      " 7   cover_artist       12255 non-null  object\n",
      " 8   Imprint            11684 non-null  object\n",
      " 9   Format             32894 non-null  object\n",
      " 10  Rating             12619 non-null  object\n",
      " 11  Price              32894 non-null  object\n",
      "dtypes: object(12)\n",
      "memory usage: 3.2+ MB\n"
     ]
    }
   ],
   "source": [
    "clean_marvel.info()"
   ]
  },
  {
   "cell_type": "code",
   "execution_count": 81,
   "id": "c2dc1fdb-10b9-463c-828c-7adb71fb8847",
   "metadata": {},
   "outputs": [],
   "source": [
    "X = clean_marvel.drop('issue_title', axis=1)\n",
    "y = clean_marvel['issue_title']"
   ]
  },
  {
   "cell_type": "code",
   "execution_count": 84,
   "id": "569d2626-282b-45f7-883d-032548409270",
   "metadata": {},
   "outputs": [
    {
     "ename": "ValueError",
     "evalue": "could not convert string to float: 'Wolverine: The End (2003 - 2004)'",
     "output_type": "error",
     "traceback": [
      "\u001b[1;31m---------------------------------------------------------------------------\u001b[0m",
      "\u001b[1;31mValueError\u001b[0m                                Traceback (most recent call last)",
      "\u001b[1;32m~\\AppData\\Local\\Temp\\ipykernel_23464\\756237258.py\u001b[0m in \u001b[0;36m?\u001b[1;34m()\u001b[0m\n\u001b[0;32m      3\u001b[0m \u001b[1;31m# Initialize the decision tree classifier\u001b[0m\u001b[1;33m\u001b[0m\u001b[1;33m\u001b[0m\u001b[0m\n\u001b[0;32m      4\u001b[0m \u001b[0mclf\u001b[0m \u001b[1;33m=\u001b[0m \u001b[0mDecisionTreeClassifier\u001b[0m\u001b[1;33m(\u001b[0m\u001b[0mrandom_state\u001b[0m\u001b[1;33m=\u001b[0m\u001b[1;36m42\u001b[0m\u001b[1;33m)\u001b[0m\u001b[1;33m\u001b[0m\u001b[1;33m\u001b[0m\u001b[0m\n\u001b[0;32m      5\u001b[0m \u001b[1;33m\u001b[0m\u001b[0m\n\u001b[0;32m      6\u001b[0m \u001b[1;31m# Fit the classifier to the training data\u001b[0m\u001b[1;33m\u001b[0m\u001b[1;33m\u001b[0m\u001b[0m\n\u001b[1;32m----> 7\u001b[1;33m \u001b[0mclf\u001b[0m\u001b[1;33m.\u001b[0m\u001b[0mfit\u001b[0m\u001b[1;33m(\u001b[0m\u001b[0mX_train\u001b[0m\u001b[1;33m,\u001b[0m \u001b[0my_train\u001b[0m\u001b[1;33m)\u001b[0m\u001b[1;33m\u001b[0m\u001b[1;33m\u001b[0m\u001b[0m\n\u001b[0m\u001b[0;32m      8\u001b[0m \u001b[1;33m\u001b[0m\u001b[0m\n\u001b[0;32m      9\u001b[0m \u001b[1;31m# Predict on the test data\u001b[0m\u001b[1;33m\u001b[0m\u001b[1;33m\u001b[0m\u001b[0m\n\u001b[0;32m     10\u001b[0m \u001b[0my_pred\u001b[0m \u001b[1;33m=\u001b[0m \u001b[0mclf\u001b[0m\u001b[1;33m.\u001b[0m\u001b[0mpredict\u001b[0m\u001b[1;33m(\u001b[0m\u001b[0mX_test\u001b[0m\u001b[1;33m)\u001b[0m\u001b[1;33m\u001b[0m\u001b[1;33m\u001b[0m\u001b[0m\n",
      "\u001b[1;32m~\\AppData\\Roaming\\Python\\Python311\\site-packages\\sklearn\\base.py\u001b[0m in \u001b[0;36m?\u001b[1;34m(estimator, *args, **kwargs)\u001b[0m\n\u001b[0;32m   1148\u001b[0m                 skip_parameter_validation=(\n\u001b[0;32m   1149\u001b[0m                     \u001b[0mprefer_skip_nested_validation\u001b[0m \u001b[1;32mor\u001b[0m \u001b[0mglobal_skip_validation\u001b[0m\u001b[1;33m\u001b[0m\u001b[1;33m\u001b[0m\u001b[0m\n\u001b[0;32m   1150\u001b[0m                 )\n\u001b[0;32m   1151\u001b[0m             ):\n\u001b[1;32m-> 1152\u001b[1;33m                 \u001b[1;32mreturn\u001b[0m \u001b[0mfit_method\u001b[0m\u001b[1;33m(\u001b[0m\u001b[0mestimator\u001b[0m\u001b[1;33m,\u001b[0m \u001b[1;33m*\u001b[0m\u001b[0margs\u001b[0m\u001b[1;33m,\u001b[0m \u001b[1;33m**\u001b[0m\u001b[0mkwargs\u001b[0m\u001b[1;33m)\u001b[0m\u001b[1;33m\u001b[0m\u001b[1;33m\u001b[0m\u001b[0m\n\u001b[0m",
      "\u001b[1;32m~\\AppData\\Roaming\\Python\\Python311\\site-packages\\sklearn\\tree\\_classes.py\u001b[0m in \u001b[0;36m?\u001b[1;34m(self, X, y, sample_weight, check_input)\u001b[0m\n\u001b[0;32m    955\u001b[0m         \u001b[0mself\u001b[0m \u001b[1;33m:\u001b[0m \u001b[0mDecisionTreeClassifier\u001b[0m\u001b[1;33m\u001b[0m\u001b[1;33m\u001b[0m\u001b[0m\n\u001b[0;32m    956\u001b[0m             \u001b[0mFitted\u001b[0m \u001b[0mestimator\u001b[0m\u001b[1;33m.\u001b[0m\u001b[1;33m\u001b[0m\u001b[1;33m\u001b[0m\u001b[0m\n\u001b[0;32m    957\u001b[0m         \"\"\"\n\u001b[0;32m    958\u001b[0m \u001b[1;33m\u001b[0m\u001b[0m\n\u001b[1;32m--> 959\u001b[1;33m         super()._fit(\n\u001b[0m\u001b[0;32m    960\u001b[0m             \u001b[0mX\u001b[0m\u001b[1;33m,\u001b[0m\u001b[1;33m\u001b[0m\u001b[1;33m\u001b[0m\u001b[0m\n\u001b[0;32m    961\u001b[0m             \u001b[0my\u001b[0m\u001b[1;33m,\u001b[0m\u001b[1;33m\u001b[0m\u001b[1;33m\u001b[0m\u001b[0m\n\u001b[0;32m    962\u001b[0m             \u001b[0msample_weight\u001b[0m\u001b[1;33m=\u001b[0m\u001b[0msample_weight\u001b[0m\u001b[1;33m,\u001b[0m\u001b[1;33m\u001b[0m\u001b[1;33m\u001b[0m\u001b[0m\n",
      "\u001b[1;32m~\\AppData\\Roaming\\Python\\Python311\\site-packages\\sklearn\\tree\\_classes.py\u001b[0m in \u001b[0;36m?\u001b[1;34m(self, X, y, sample_weight, check_input, missing_values_in_feature_mask)\u001b[0m\n\u001b[0;32m    238\u001b[0m             check_X_params = dict(\n\u001b[0;32m    239\u001b[0m                 \u001b[0mdtype\u001b[0m\u001b[1;33m=\u001b[0m\u001b[0mDTYPE\u001b[0m\u001b[1;33m,\u001b[0m \u001b[0maccept_sparse\u001b[0m\u001b[1;33m=\u001b[0m\u001b[1;34m\"csc\"\u001b[0m\u001b[1;33m,\u001b[0m \u001b[0mforce_all_finite\u001b[0m\u001b[1;33m=\u001b[0m\u001b[1;32mFalse\u001b[0m\u001b[1;33m\u001b[0m\u001b[1;33m\u001b[0m\u001b[0m\n\u001b[0;32m    240\u001b[0m             )\n\u001b[0;32m    241\u001b[0m             \u001b[0mcheck_y_params\u001b[0m \u001b[1;33m=\u001b[0m \u001b[0mdict\u001b[0m\u001b[1;33m(\u001b[0m\u001b[0mensure_2d\u001b[0m\u001b[1;33m=\u001b[0m\u001b[1;32mFalse\u001b[0m\u001b[1;33m,\u001b[0m \u001b[0mdtype\u001b[0m\u001b[1;33m=\u001b[0m\u001b[1;32mNone\u001b[0m\u001b[1;33m)\u001b[0m\u001b[1;33m\u001b[0m\u001b[1;33m\u001b[0m\u001b[0m\n\u001b[1;32m--> 242\u001b[1;33m             X, y = self._validate_data(\n\u001b[0m\u001b[0;32m    243\u001b[0m                 \u001b[0mX\u001b[0m\u001b[1;33m,\u001b[0m \u001b[0my\u001b[0m\u001b[1;33m,\u001b[0m \u001b[0mvalidate_separately\u001b[0m\u001b[1;33m=\u001b[0m\u001b[1;33m(\u001b[0m\u001b[0mcheck_X_params\u001b[0m\u001b[1;33m,\u001b[0m \u001b[0mcheck_y_params\u001b[0m\u001b[1;33m)\u001b[0m\u001b[1;33m\u001b[0m\u001b[1;33m\u001b[0m\u001b[0m\n\u001b[0;32m    244\u001b[0m             )\n\u001b[0;32m    245\u001b[0m \u001b[1;33m\u001b[0m\u001b[0m\n",
      "\u001b[1;32m~\\AppData\\Roaming\\Python\\Python311\\site-packages\\sklearn\\base.py\u001b[0m in \u001b[0;36m?\u001b[1;34m(self, X, y, reset, validate_separately, cast_to_ndarray, **check_params)\u001b[0m\n\u001b[0;32m    613\u001b[0m                 \u001b[1;31m# :(\u001b[0m\u001b[1;33m\u001b[0m\u001b[1;33m\u001b[0m\u001b[0m\n\u001b[0;32m    614\u001b[0m                 \u001b[0mcheck_X_params\u001b[0m\u001b[1;33m,\u001b[0m \u001b[0mcheck_y_params\u001b[0m \u001b[1;33m=\u001b[0m \u001b[0mvalidate_separately\u001b[0m\u001b[1;33m\u001b[0m\u001b[1;33m\u001b[0m\u001b[0m\n\u001b[0;32m    615\u001b[0m                 \u001b[1;32mif\u001b[0m \u001b[1;34m\"estimator\"\u001b[0m \u001b[1;32mnot\u001b[0m \u001b[1;32min\u001b[0m \u001b[0mcheck_X_params\u001b[0m\u001b[1;33m:\u001b[0m\u001b[1;33m\u001b[0m\u001b[1;33m\u001b[0m\u001b[0m\n\u001b[0;32m    616\u001b[0m                     \u001b[0mcheck_X_params\u001b[0m \u001b[1;33m=\u001b[0m \u001b[1;33m{\u001b[0m\u001b[1;33m**\u001b[0m\u001b[0mdefault_check_params\u001b[0m\u001b[1;33m,\u001b[0m \u001b[1;33m**\u001b[0m\u001b[0mcheck_X_params\u001b[0m\u001b[1;33m}\u001b[0m\u001b[1;33m\u001b[0m\u001b[1;33m\u001b[0m\u001b[0m\n\u001b[1;32m--> 617\u001b[1;33m                 \u001b[0mX\u001b[0m \u001b[1;33m=\u001b[0m \u001b[0mcheck_array\u001b[0m\u001b[1;33m(\u001b[0m\u001b[0mX\u001b[0m\u001b[1;33m,\u001b[0m \u001b[0minput_name\u001b[0m\u001b[1;33m=\u001b[0m\u001b[1;34m\"X\"\u001b[0m\u001b[1;33m,\u001b[0m \u001b[1;33m**\u001b[0m\u001b[0mcheck_X_params\u001b[0m\u001b[1;33m)\u001b[0m\u001b[1;33m\u001b[0m\u001b[1;33m\u001b[0m\u001b[0m\n\u001b[0m\u001b[0;32m    618\u001b[0m                 \u001b[1;32mif\u001b[0m \u001b[1;34m\"estimator\"\u001b[0m \u001b[1;32mnot\u001b[0m \u001b[1;32min\u001b[0m \u001b[0mcheck_y_params\u001b[0m\u001b[1;33m:\u001b[0m\u001b[1;33m\u001b[0m\u001b[1;33m\u001b[0m\u001b[0m\n\u001b[0;32m    619\u001b[0m                     \u001b[0mcheck_y_params\u001b[0m \u001b[1;33m=\u001b[0m \u001b[1;33m{\u001b[0m\u001b[1;33m**\u001b[0m\u001b[0mdefault_check_params\u001b[0m\u001b[1;33m,\u001b[0m \u001b[1;33m**\u001b[0m\u001b[0mcheck_y_params\u001b[0m\u001b[1;33m}\u001b[0m\u001b[1;33m\u001b[0m\u001b[1;33m\u001b[0m\u001b[0m\n\u001b[0;32m    620\u001b[0m                 \u001b[0my\u001b[0m \u001b[1;33m=\u001b[0m \u001b[0mcheck_array\u001b[0m\u001b[1;33m(\u001b[0m\u001b[0my\u001b[0m\u001b[1;33m,\u001b[0m \u001b[0minput_name\u001b[0m\u001b[1;33m=\u001b[0m\u001b[1;34m\"y\"\u001b[0m\u001b[1;33m,\u001b[0m \u001b[1;33m**\u001b[0m\u001b[0mcheck_y_params\u001b[0m\u001b[1;33m)\u001b[0m\u001b[1;33m\u001b[0m\u001b[1;33m\u001b[0m\u001b[0m\n",
      "\u001b[1;32m~\\AppData\\Roaming\\Python\\Python311\\site-packages\\sklearn\\utils\\validation.py\u001b[0m in \u001b[0;36m?\u001b[1;34m(array, accept_sparse, accept_large_sparse, dtype, order, copy, force_all_finite, ensure_2d, allow_nd, ensure_min_samples, ensure_min_features, estimator, input_name)\u001b[0m\n\u001b[0;32m    912\u001b[0m                         )\n\u001b[0;32m    913\u001b[0m                     \u001b[0marray\u001b[0m \u001b[1;33m=\u001b[0m \u001b[0mxp\u001b[0m\u001b[1;33m.\u001b[0m\u001b[0mastype\u001b[0m\u001b[1;33m(\u001b[0m\u001b[0marray\u001b[0m\u001b[1;33m,\u001b[0m \u001b[0mdtype\u001b[0m\u001b[1;33m,\u001b[0m \u001b[0mcopy\u001b[0m\u001b[1;33m=\u001b[0m\u001b[1;32mFalse\u001b[0m\u001b[1;33m)\u001b[0m\u001b[1;33m\u001b[0m\u001b[1;33m\u001b[0m\u001b[0m\n\u001b[0;32m    914\u001b[0m                 \u001b[1;32melse\u001b[0m\u001b[1;33m:\u001b[0m\u001b[1;33m\u001b[0m\u001b[1;33m\u001b[0m\u001b[0m\n\u001b[0;32m    915\u001b[0m                     \u001b[0marray\u001b[0m \u001b[1;33m=\u001b[0m \u001b[0m_asarray_with_order\u001b[0m\u001b[1;33m(\u001b[0m\u001b[0marray\u001b[0m\u001b[1;33m,\u001b[0m \u001b[0morder\u001b[0m\u001b[1;33m=\u001b[0m\u001b[0morder\u001b[0m\u001b[1;33m,\u001b[0m \u001b[0mdtype\u001b[0m\u001b[1;33m=\u001b[0m\u001b[0mdtype\u001b[0m\u001b[1;33m,\u001b[0m \u001b[0mxp\u001b[0m\u001b[1;33m=\u001b[0m\u001b[0mxp\u001b[0m\u001b[1;33m)\u001b[0m\u001b[1;33m\u001b[0m\u001b[1;33m\u001b[0m\u001b[0m\n\u001b[1;32m--> 916\u001b[1;33m             \u001b[1;32mexcept\u001b[0m \u001b[0mComplexWarning\u001b[0m \u001b[1;32mas\u001b[0m \u001b[0mcomplex_warning\u001b[0m\u001b[1;33m:\u001b[0m\u001b[1;33m\u001b[0m\u001b[1;33m\u001b[0m\u001b[0m\n\u001b[0m\u001b[0;32m    917\u001b[0m                 raise ValueError(\n\u001b[0;32m    918\u001b[0m                     \u001b[1;34m\"Complex data not supported\\n{}\\n\"\u001b[0m\u001b[1;33m.\u001b[0m\u001b[0mformat\u001b[0m\u001b[1;33m(\u001b[0m\u001b[0marray\u001b[0m\u001b[1;33m)\u001b[0m\u001b[1;33m\u001b[0m\u001b[1;33m\u001b[0m\u001b[0m\n\u001b[0;32m    919\u001b[0m                 ) from complex_warning\n",
      "\u001b[1;32m~\\AppData\\Roaming\\Python\\Python311\\site-packages\\sklearn\\utils\\_array_api.py\u001b[0m in \u001b[0;36m?\u001b[1;34m(array, dtype, order, copy, xp)\u001b[0m\n\u001b[0;32m    376\u001b[0m         \u001b[1;31m# Use NumPy API to support order\u001b[0m\u001b[1;33m\u001b[0m\u001b[1;33m\u001b[0m\u001b[0m\n\u001b[0;32m    377\u001b[0m         \u001b[1;32mif\u001b[0m \u001b[0mcopy\u001b[0m \u001b[1;32mis\u001b[0m \u001b[1;32mTrue\u001b[0m\u001b[1;33m:\u001b[0m\u001b[1;33m\u001b[0m\u001b[1;33m\u001b[0m\u001b[0m\n\u001b[0;32m    378\u001b[0m             \u001b[0marray\u001b[0m \u001b[1;33m=\u001b[0m \u001b[0mnumpy\u001b[0m\u001b[1;33m.\u001b[0m\u001b[0marray\u001b[0m\u001b[1;33m(\u001b[0m\u001b[0marray\u001b[0m\u001b[1;33m,\u001b[0m \u001b[0morder\u001b[0m\u001b[1;33m=\u001b[0m\u001b[0morder\u001b[0m\u001b[1;33m,\u001b[0m \u001b[0mdtype\u001b[0m\u001b[1;33m=\u001b[0m\u001b[0mdtype\u001b[0m\u001b[1;33m)\u001b[0m\u001b[1;33m\u001b[0m\u001b[1;33m\u001b[0m\u001b[0m\n\u001b[0;32m    379\u001b[0m         \u001b[1;32melse\u001b[0m\u001b[1;33m:\u001b[0m\u001b[1;33m\u001b[0m\u001b[1;33m\u001b[0m\u001b[0m\n\u001b[1;32m--> 380\u001b[1;33m             \u001b[0marray\u001b[0m \u001b[1;33m=\u001b[0m \u001b[0mnumpy\u001b[0m\u001b[1;33m.\u001b[0m\u001b[0masarray\u001b[0m\u001b[1;33m(\u001b[0m\u001b[0marray\u001b[0m\u001b[1;33m,\u001b[0m \u001b[0morder\u001b[0m\u001b[1;33m=\u001b[0m\u001b[0morder\u001b[0m\u001b[1;33m,\u001b[0m \u001b[0mdtype\u001b[0m\u001b[1;33m=\u001b[0m\u001b[0mdtype\u001b[0m\u001b[1;33m)\u001b[0m\u001b[1;33m\u001b[0m\u001b[1;33m\u001b[0m\u001b[0m\n\u001b[0m\u001b[0;32m    381\u001b[0m \u001b[1;33m\u001b[0m\u001b[0m\n\u001b[0;32m    382\u001b[0m         \u001b[1;31m# At this point array is a NumPy ndarray. We convert it to an array\u001b[0m\u001b[1;33m\u001b[0m\u001b[1;33m\u001b[0m\u001b[0m\n\u001b[0;32m    383\u001b[0m         \u001b[1;31m# container that is consistent with the input's namespace.\u001b[0m\u001b[1;33m\u001b[0m\u001b[1;33m\u001b[0m\u001b[0m\n",
      "\u001b[1;32m~\\AppData\\Roaming\\Python\\Python311\\site-packages\\pandas\\core\\generic.py\u001b[0m in \u001b[0;36m?\u001b[1;34m(self, dtype)\u001b[0m\n\u001b[0;32m   2082\u001b[0m     \u001b[1;32mdef\u001b[0m \u001b[0m__array__\u001b[0m\u001b[1;33m(\u001b[0m\u001b[0mself\u001b[0m\u001b[1;33m,\u001b[0m \u001b[0mdtype\u001b[0m\u001b[1;33m:\u001b[0m \u001b[0mnpt\u001b[0m\u001b[1;33m.\u001b[0m\u001b[0mDTypeLike\u001b[0m \u001b[1;33m|\u001b[0m \u001b[1;32mNone\u001b[0m \u001b[1;33m=\u001b[0m \u001b[1;32mNone\u001b[0m\u001b[1;33m)\u001b[0m \u001b[1;33m->\u001b[0m \u001b[0mnp\u001b[0m\u001b[1;33m.\u001b[0m\u001b[0mndarray\u001b[0m\u001b[1;33m:\u001b[0m\u001b[1;33m\u001b[0m\u001b[1;33m\u001b[0m\u001b[0m\n\u001b[0;32m   2083\u001b[0m         \u001b[0mvalues\u001b[0m \u001b[1;33m=\u001b[0m \u001b[0mself\u001b[0m\u001b[1;33m.\u001b[0m\u001b[0m_values\u001b[0m\u001b[1;33m\u001b[0m\u001b[1;33m\u001b[0m\u001b[0m\n\u001b[1;32m-> 2084\u001b[1;33m         \u001b[0marr\u001b[0m \u001b[1;33m=\u001b[0m \u001b[0mnp\u001b[0m\u001b[1;33m.\u001b[0m\u001b[0masarray\u001b[0m\u001b[1;33m(\u001b[0m\u001b[0mvalues\u001b[0m\u001b[1;33m,\u001b[0m \u001b[0mdtype\u001b[0m\u001b[1;33m=\u001b[0m\u001b[0mdtype\u001b[0m\u001b[1;33m)\u001b[0m\u001b[1;33m\u001b[0m\u001b[1;33m\u001b[0m\u001b[0m\n\u001b[0m\u001b[0;32m   2085\u001b[0m         if (\n\u001b[0;32m   2086\u001b[0m             \u001b[0mastype_is_view\u001b[0m\u001b[1;33m(\u001b[0m\u001b[0mvalues\u001b[0m\u001b[1;33m.\u001b[0m\u001b[0mdtype\u001b[0m\u001b[1;33m,\u001b[0m \u001b[0marr\u001b[0m\u001b[1;33m.\u001b[0m\u001b[0mdtype\u001b[0m\u001b[1;33m)\u001b[0m\u001b[1;33m\u001b[0m\u001b[1;33m\u001b[0m\u001b[0m\n\u001b[0;32m   2087\u001b[0m             \u001b[1;32mand\u001b[0m \u001b[0musing_copy_on_write\u001b[0m\u001b[1;33m(\u001b[0m\u001b[1;33m)\u001b[0m\u001b[1;33m\u001b[0m\u001b[1;33m\u001b[0m\u001b[0m\n",
      "\u001b[1;31mValueError\u001b[0m: could not convert string to float: 'Wolverine: The End (2003 - 2004)'"
     ]
    }
   ],
   "source": [
    "X_train, X_test, y_train, y_test = train_test_split(X, y, test_size=0.2, random_state=42)\n",
    "\n",
    "# Initialize the decision tree classifier\n",
    "clf = DecisionTreeClassifier(random_state=42)\n",
    "\n",
    "# Fit the classifier to the training data\n",
    "clf.fit(X_train, y_train)\n",
    "\n",
    "# Predict on the test data\n",
    "y_pred = clf.predict(X_test)\n",
    "\n",
    "# Evaluate accuracy (you can use other metrics as needed)\n",
    "accuracy = accuracy_score(y_test, y_pred)\n",
    "print(f'Accuracy: {accuracy}')"
   ]
  },
  {
   "cell_type": "code",
   "execution_count": null,
   "id": "b31ed166-a46e-4f8d-ba4b-a2794c98497a",
   "metadata": {},
   "outputs": [],
   "source": []
  },
  {
   "cell_type": "code",
   "execution_count": null,
   "id": "e424a6aa-cd50-4249-b697-8436e6ba755d",
   "metadata": {},
   "outputs": [],
   "source": []
  },
  {
   "cell_type": "code",
   "execution_count": null,
   "id": "0bb186cc-ef7d-4b1c-8942-bf4fb1b54792",
   "metadata": {},
   "outputs": [],
   "source": []
  },
  {
   "cell_type": "markdown",
   "id": "c8ce26e4-0d2d-4f6d-a3ef-e8232ccc6e27",
   "metadata": {},
   "source": [
    "<div align=\"center\"> \n",
    " END of DOCUMENT \n",
    "\r\n",
    "</div>"
   ]
  }
 ],
 "metadata": {
  "kernelspec": {
   "display_name": "Python 3 (ipykernel)",
   "language": "python",
   "name": "python3"
  },
  "language_info": {
   "codemirror_mode": {
    "name": "ipython",
    "version": 3
   },
   "file_extension": ".py",
   "mimetype": "text/x-python",
   "name": "python",
   "nbconvert_exporter": "python",
   "pygments_lexer": "ipython3",
   "version": "3.11.7"
  }
 },
 "nbformat": 4,
 "nbformat_minor": 5
}
