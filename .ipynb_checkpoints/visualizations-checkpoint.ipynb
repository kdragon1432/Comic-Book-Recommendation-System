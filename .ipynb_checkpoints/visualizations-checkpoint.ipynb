{
 "cells": [
  {
   "cell_type": "code",
   "execution_count": 6,
   "id": "b14071b2-328e-4e71-8147-e0df4a7bc349",
   "metadata": {},
   "outputs": [],
   "source": [
    "import pandas as pd\n",
    "import numpy as np\n",
    "\n",
    "from collections import Counter\n",
    "import matplotlib.pyplot as plt\n",
    "import seaborn as sns\n",
    "import json\n",
    "\n",
    "from sklearn.decomposition import PCA\n",
    "from mpl_toolkits.mplot3d import Axes3D\n",
    "\n",
    "from bs4 import BeautifulSoup\n",
    "\n",
    "from sklearn.feature_extraction.text import TfidfVectorizer\n",
    "from scipy.sparse import hstack\n",
    "from sklearn.metrics.pairwise import linear_kernel"
   ]
  },
  {
   "cell_type": "markdown",
   "id": "33b2cda6-77e2-4c2b-a1d7-7aca43e39c98",
   "metadata": {},
   "source": [
    "# Loading CSV Files and Preprocessing"
   ]
  },
  {
   "cell_type": "code",
   "execution_count": 7,
   "id": "616618c9-dd3f-4b8e-ae3e-0112b47c372e",
   "metadata": {},
   "outputs": [],
   "source": [
    "df = pd.read_csv(\"data/final/final_dataset_clean.csv\")"
   ]
  },
  {
   "cell_type": "code",
   "execution_count": 8,
   "id": "e200055c-f3cb-4be2-be37-884120dc82b5",
   "metadata": {},
   "outputs": [
    {
     "name": "stdout",
     "output_type": "stream",
     "text": [
      "<class 'pandas.core.frame.DataFrame'>\n",
      "RangeIndex: 6767 entries, 0 to 6766\n",
      "Data columns (total 17 columns):\n",
      " #   Column                Non-Null Count  Dtype \n",
      "---  ------                --------------  ----- \n",
      " 0   character_credits     6767 non-null   object\n",
      " 1   character_died_in     6767 non-null   object\n",
      " 2   concept_credits       6767 non-null   object\n",
      " 3   cover_date            6767 non-null   object\n",
      " 4   description           6669 non-null   object\n",
      " 5   has_staff_review      6767 non-null   object\n",
      " 6   id                    6767 non-null   int64 \n",
      " 7   issue_number          6767 non-null   object\n",
      " 8   location_credits      6767 non-null   object\n",
      " 9   name                  6767 non-null   object\n",
      " 10  object_credits        6767 non-null   object\n",
      " 11  person_credits        6767 non-null   object\n",
      " 12  story_arc_credits     6767 non-null   object\n",
      " 13  team_credits          6767 non-null   object\n",
      " 14  team_disbanded_in     6767 non-null   object\n",
      " 15  volume                6767 non-null   object\n",
      " 16  combined_description  6767 non-null   object\n",
      "dtypes: int64(1), object(16)\n",
      "memory usage: 898.9+ KB\n"
     ]
    }
   ],
   "source": [
    "df.info()"
   ]
  },
  {
   "cell_type": "code",
   "execution_count": 9,
   "id": "2fa2c910-83bd-46d5-a580-fe2b22c6a234",
   "metadata": {},
   "outputs": [
    {
     "name": "stdout",
     "output_type": "stream",
     "text": [
      "Missing Values: 98\n"
     ]
    }
   ],
   "source": [
    "missing_values = df['description'].isnull().sum()\n",
    "print(f\"Missing Values: {missing_values}\")"
   ]
  },
  {
   "cell_type": "markdown",
   "id": "8a376b75-cdad-4887-964f-41152c8289be",
   "metadata": {},
   "source": [
    "**final_fillna** is just some final preprocessing. There cannot be null values when I go to vectorize. I found that my description lost some data between being exported and imported. "
   ]
  },
  {
   "cell_type": "code",
   "execution_count": 10,
   "id": "c75758c9-da04-4e5e-9762-98c41027e724",
   "metadata": {},
   "outputs": [],
   "source": [
    "def final_fillna(df):\n",
    "    df['description'] = df['description'].fillna('')\n",
    "    df['combined_description'] = df['combined_description'].fillna('')\n",
    "    lst = ['character_credits', 'character_died_in', 'concept_credits',\n",
    "           'location_credits', 'object_credits', 'person_credits', 'story_arc_credits', \n",
    "           'team_credits', 'team_disbanded_in', 'volume']\n",
    "final_fillna(df)"
   ]
  },
  {
   "cell_type": "markdown",
   "id": "4b915aa0-2288-4afe-b0ab-bb7d05108c42",
   "metadata": {},
   "source": [
    "# TfidVectorizing\n",
    "I vectorized both the combined_description and each of the individual features in preparation for the model. "
   ]
  },
  {
   "cell_type": "code",
   "execution_count": 11,
   "id": "97255c4b-27f1-416f-b633-2e3a8f787719",
   "metadata": {},
   "outputs": [],
   "source": [
    "tfidf = TfidfVectorizer(stop_words='english')\n",
    "tfidf_matrix = tfidf.fit_transform(df['combined_description'])"
   ]
  },
  {
   "cell_type": "markdown",
   "id": "100a775f-5914-4805-af6f-04b3e3cf14a9",
   "metadata": {},
   "source": [
    "**features within combined_description** 'character_credits', 'concept_credits', 'location_credits', 'object_credits', 'person_credits', 'story_arc_credits', 'team_credits', 'volume'"
   ]
  },
  {
   "cell_type": "code",
   "execution_count": 12,
   "id": "620c9c68-a2a4-4732-b8ed-18c0b5650fd9",
   "metadata": {},
   "outputs": [],
   "source": [
    "tfidf_des = TfidfVectorizer(stop_words='english')\n",
    "tfidf_des_matrix = tfidf_des.fit_transform(df['description'])"
   ]
  },
  {
   "cell_type": "code",
   "execution_count": 13,
   "id": "4a1ba366-0eb1-44fc-88d6-843389034365",
   "metadata": {},
   "outputs": [],
   "source": [
    "tfidf_char = TfidfVectorizer(stop_words='english')\n",
    "tfidf_char_matrix = tfidf_char.fit_transform(df['character_credits'])"
   ]
  },
  {
   "cell_type": "code",
   "execution_count": 14,
   "id": "eb96886b-a26b-4c00-815a-09fc7ea7d6df",
   "metadata": {},
   "outputs": [],
   "source": [
    "tfidf_concept = TfidfVectorizer(stop_words='english')\n",
    "tfidf_concept_matrix = tfidf_concept.fit_transform(df['concept_credits'])"
   ]
  },
  {
   "cell_type": "code",
   "execution_count": 15,
   "id": "eefbf9a0-04ba-4bc8-93e4-788aafa3a732",
   "metadata": {},
   "outputs": [],
   "source": [
    "tfidf_location = TfidfVectorizer(stop_words='english')\n",
    "tfidf_location_matrix = tfidf_location.fit_transform(df['location_credits'])"
   ]
  },
  {
   "cell_type": "code",
   "execution_count": 16,
   "id": "f3f65864-c8f0-4794-bf81-4933530758e9",
   "metadata": {},
   "outputs": [],
   "source": [
    "tfidf_object = TfidfVectorizer(stop_words='english')\n",
    "tfidf_object_matrix = tfidf_object.fit_transform(df['object_credits'])"
   ]
  },
  {
   "cell_type": "code",
   "execution_count": 17,
   "id": "fe283561-e454-4d1a-a486-5f36177fc044",
   "metadata": {},
   "outputs": [],
   "source": [
    "tfidf_person = TfidfVectorizer(stop_words='english')\n",
    "tfidf_person_matrix = tfidf_person.fit_transform(df['person_credits'])"
   ]
  },
  {
   "cell_type": "code",
   "execution_count": 18,
   "id": "80d16ab3-a590-4288-b4e8-c2320715cb11",
   "metadata": {},
   "outputs": [],
   "source": [
    "tfidf_arc = TfidfVectorizer(stop_words='english')\n",
    "tfidf_arc_matrix = tfidf_arc.fit_transform(df['story_arc_credits'])"
   ]
  },
  {
   "cell_type": "code",
   "execution_count": 19,
   "id": "31fc1927-902d-413d-93c5-f7ecb6ab11f6",
   "metadata": {},
   "outputs": [],
   "source": [
    "tfidf_team = TfidfVectorizer(stop_words='english')\n",
    "tfidf_team_matrix = tfidf_team.fit_transform(df['team_credits'])"
   ]
  },
  {
   "cell_type": "code",
   "execution_count": 20,
   "id": "7a8ea851-f150-4fe2-9f9f-a6f17f9cb214",
   "metadata": {},
   "outputs": [],
   "source": [
    "tfidf_vol = TfidfVectorizer(stop_words='english')\n",
    "tfidf_vol_matrix = tfidf_vol.fit_transform(df['volume'])"
   ]
  },
  {
   "cell_type": "markdown",
   "id": "0312c310-7560-47ec-8773-a347d534c5c3",
   "metadata": {},
   "source": [
    "# Combining Matrixes and Weighting Them"
   ]
  },
  {
   "cell_type": "code",
   "execution_count": 21,
   "id": "cafdaaf4-9840-4ad0-8854-6e563feafd4b",
   "metadata": {},
   "outputs": [],
   "source": [
    "tfidf_vectorizers = [tfidf_des, tfidf_char, tfidf_concept, \n",
    "                    tfidf_location, tfidf_object, tfidf_person,\n",
    "                    tfidf_arc, tfidf_team, tfidf_vol]"
   ]
  },
  {
   "cell_type": "code",
   "execution_count": 22,
   "id": "2ad00406-1b1d-4b26-8e11-cab6dd77ea7a",
   "metadata": {},
   "outputs": [],
   "source": [
    "all_matrices = [tfidf_des_matrix, tfidf_char_matrix, tfidf_concept_matrix, \n",
    "               tfidf_location_matrix, tfidf_object_matrix, tfidf_person_matrix,\n",
    "               tfidf_arc_matrix, tfidf_team_matrix, tfidf_vol_matrix]"
   ]
  },
  {
   "cell_type": "code",
   "execution_count": 23,
   "id": "ab5add1c-73b2-4644-bdf2-3ea5f29450a9",
   "metadata": {},
   "outputs": [],
   "source": [
    "weights = [3, 2, 1,\n",
    "           1, 0, 1,\n",
    "           0, 1, 0]"
   ]
  },
  {
   "cell_type": "code",
   "execution_count": 24,
   "id": "e781e882-b932-41f0-99dd-148149ca03cd",
   "metadata": {},
   "outputs": [],
   "source": [
    "# Scale each TF-IDF matrix by its corresponding weight\n",
    "weighted_tfidf_matrices = [matrix * weight for matrix, weight in zip(all_matrices, weights)]"
   ]
  },
  {
   "cell_type": "code",
   "execution_count": 25,
   "id": "ac3da9fc-a727-4a9e-9f36-7c509722ea79",
   "metadata": {},
   "outputs": [],
   "source": [
    "combined_matrix = hstack(weighted_tfidf_matrices)"
   ]
  },
  {
   "cell_type": "markdown",
   "id": "268c5bd1-ada9-44f8-a001-044632a14687",
   "metadata": {},
   "source": [
    "# COSINE_SIM & RECOMMENDATION FUNCTION"
   ]
  },
  {
   "cell_type": "code",
   "execution_count": 26,
   "id": "3af6df69-b0e9-48bc-a479-e8317c1200a5",
   "metadata": {},
   "outputs": [],
   "source": [
    "cosine_sim = linear_kernel(combined_matrix, combined_matrix)"
   ]
  },
  {
   "cell_type": "code",
   "execution_count": 27,
   "id": "922bb3c0-b460-4776-bd6c-404e6e2ca7b7",
   "metadata": {},
   "outputs": [
    {
     "data": {
      "text/plain": [
       "array([[17.        ,  8.84541377,  7.36929182, ...,  0.26497636,\n",
       "         0.22945786,  0.46966671],\n",
       "       [ 8.84541377, 16.        ,  6.70261908, ...,  0.27953821,\n",
       "         0.24292362,  0.37036255],\n",
       "       [ 7.36929182,  6.70261908, 16.        , ...,  0.44460644,\n",
       "         0.40874802,  0.22796438],\n",
       "       ...,\n",
       "       [ 0.26497636,  0.27953821,  0.44460644, ..., 16.        ,\n",
       "         3.99696656,  3.58415581],\n",
       "       [ 0.22945786,  0.24292362,  0.40874802, ...,  3.99696656,\n",
       "        15.        ,  5.73033285],\n",
       "       [ 0.46966671,  0.37036255,  0.22796438, ...,  3.58415581,\n",
       "         5.73033285, 16.        ]])"
      ]
     },
     "execution_count": 27,
     "metadata": {},
     "output_type": "execute_result"
    }
   ],
   "source": [
    "cosine_sim"
   ]
  },
  {
   "cell_type": "code",
   "execution_count": 28,
   "id": "17822860-7122-4a21-a246-c051f5022004",
   "metadata": {},
   "outputs": [],
   "source": [
    "# Assuming df['name'] contains the comic issue names\n",
    "#comic_issue_names = df['name'].tolist()  # Replace with your actual column if different"
   ]
  },
  {
   "cell_type": "code",
   "execution_count": 29,
   "id": "2b2f579f-ade9-4668-8680-24933dce6ef6",
   "metadata": {},
   "outputs": [],
   "source": [
    "#np.savetxt('cosine_similarity_matrix.csv', cosine_sim, delimiter=',', header=','.join(comic_issue_names), comments='')"
   ]
  },
  {
   "cell_type": "code",
   "execution_count": 30,
   "id": "c16e55b7-5e04-42b6-949a-7eee1149af3e",
   "metadata": {},
   "outputs": [],
   "source": [
    "def load_cosine_similarity_matrix(file_path):\n",
    "    try:\n",
    "        cosine_sim_df = pd.read_csv(file_path, index_col=0, encoding='latin-1')\n",
    "        return cosine_sim_df.values  # Return the matrix values as a NumPy array\n",
    "    except FileNotFoundError:\n",
    "        print(f\"Error: File '{file_path}' not found.\")\n",
    "        return None\n",
    "    except Exception as e:\n",
    "        print(f\"Error: Unable to load cosine similarity matrix from '{file_path}': {e}\")\n",
    "        return None\n",
    "\n",
    "# Function to get recommendations based on cosine similarity\n",
    "def get_recommendations(df, title, cosine_sim):\n",
    "    try:\n",
    "        idx = df[df['name'] == title].index[0]\n",
    "        sim_scores = list(enumerate(cosine_sim[idx]))\n",
    "        sim_scores = sorted(sim_scores, key=lambda x: x[1], reverse=True)\n",
    "        sim_scores = sim_scores[0:21]  # Skip the first one as it is the title itself\n",
    "        issue_indices = [i[0] for i in sim_scores]\n",
    "        return df.iloc[issue_indices]\n",
    "    except IndexError:\n",
    "        print(f\"Error: Comic issue '{title}' not found.\")\n",
    "        return pd.DataFrame(columns=df.columns)"
   ]
  },
  {
   "cell_type": "code",
   "execution_count": 31,
   "id": "b1a85632-de94-4e1f-aa69-0b7f1c3cd446",
   "metadata": {},
   "outputs": [],
   "source": [
    "#cosine_sim_tmp = load_cosine_similarity_matrix(\"cosine_similarity_matrix.csv\")"
   ]
  },
  {
   "cell_type": "code",
   "execution_count": null,
   "id": "d6facbc7-a138-4498-b006-9506d91b97c3",
   "metadata": {},
   "outputs": [],
   "source": [
    "#get_recommendations(df, \"Welcome to Gotham Academy\", cosine_sim_tmp)"
   ]
  },
  {
   "cell_type": "code",
   "execution_count": null,
   "id": "65436352-26bc-43f5-af19-664e78c9b3bc",
   "metadata": {},
   "outputs": [],
   "source": []
  },
  {
   "cell_type": "code",
   "execution_count": null,
   "id": "a3449d7f-7e6d-41cf-9b7a-62c7cd360427",
   "metadata": {},
   "outputs": [],
   "source": []
  },
  {
   "cell_type": "code",
   "execution_count": null,
   "id": "da9f3d3b-868c-4843-b23f-ae85f4c36ff2",
   "metadata": {},
   "outputs": [],
   "source": []
  },
  {
   "cell_type": "code",
   "execution_count": null,
   "id": "26cd7d10-7dc5-4454-84de-f842902683ff",
   "metadata": {},
   "outputs": [],
   "source": []
  },
  {
   "cell_type": "code",
   "execution_count": null,
   "id": "348cd068-2ae6-4a9b-b40e-c911f33f63cb",
   "metadata": {},
   "outputs": [],
   "source": []
  },
  {
   "cell_type": "code",
   "execution_count": null,
   "id": "83549dd9-ce62-490e-85fa-845f3bd91ddd",
   "metadata": {},
   "outputs": [],
   "source": []
  },
  {
   "cell_type": "code",
   "execution_count": null,
   "id": "f12c121a-16de-48e8-8363-0810a980adc5",
   "metadata": {},
   "outputs": [],
   "source": []
  },
  {
   "cell_type": "code",
   "execution_count": null,
   "id": "19b10826-4b16-4c31-b49f-0dfa65f37c40",
   "metadata": {},
   "outputs": [],
   "source": []
  },
  {
   "cell_type": "code",
   "execution_count": 1,
   "id": "5a164f9b-5a92-4f65-9bc5-04aff1b8f600",
   "metadata": {},
   "outputs": [
    {
     "ename": "NameError",
     "evalue": "name 'plt' is not defined",
     "output_type": "error",
     "traceback": [
      "\u001b[1;31m---------------------------------------------------------------------------\u001b[0m",
      "\u001b[1;31mNameError\u001b[0m                                 Traceback (most recent call last)",
      "Cell \u001b[1;32mIn[1], line 1\u001b[0m\n\u001b[1;32m----> 1\u001b[0m \u001b[43mplt\u001b[49m\u001b[38;5;241m.\u001b[39mfigure(figsize\u001b[38;5;241m=\u001b[39m(\u001b[38;5;241m16\u001b[39m, \u001b[38;5;241m12\u001b[39m))\n\u001b[0;32m      2\u001b[0m sns\u001b[38;5;241m.\u001b[39mheatmap(cosine_sim, annot\u001b[38;5;241m=\u001b[39m\u001b[38;5;28;01mTrue\u001b[39;00m, cmap\u001b[38;5;241m=\u001b[39m\u001b[38;5;124m'\u001b[39m\u001b[38;5;124mcoolwarm\u001b[39m\u001b[38;5;124m'\u001b[39m, vmin\u001b[38;5;241m=\u001b[39m\u001b[38;5;241m0\u001b[39m, vmax\u001b[38;5;241m=\u001b[39m\u001b[38;5;241m1\u001b[39m)\n\u001b[0;32m      3\u001b[0m plt\u001b[38;5;241m.\u001b[39mtitle(\u001b[38;5;124m'\u001b[39m\u001b[38;5;124mCosine Similarity Heatmap\u001b[39m\u001b[38;5;124m'\u001b[39m)\n",
      "\u001b[1;31mNameError\u001b[0m: name 'plt' is not defined"
     ]
    }
   ],
   "source": [
    "plt.figure(figsize=(16, 12))\n",
    "sns.heatmap(cosine_sim, annot=True, cmap='coolwarm', vmin=0, vmax=1)\n",
    "plt.title('Cosine Similarity Heatmap')\n",
    "plt.show()"
   ]
  },
  {
   "cell_type": "markdown",
   "id": "82ef9361-f2a9-41ae-affa-dd0ed2c95648",
   "metadata": {},
   "source": [
    "The red represents similarity while the blue represents difference. Most of my data is different from each other, but there are clusters of red similarity splattered here and there. I'm infer that these red clusters come from being in the same volume and getting concatted near each other when I created the final dataset. \n",
    "<br>\n",
    "Next Steps\n",
    "Cluster Analysis: You might want to perform clustering algorithms (e.g., K-means, hierarchical clustering) to formally identify these groups.\n",
    "Dimensionality Reduction: Techniques like PCA or t-SNE could help visualize the data in a reduced dimensional space.\n",
    "Feature Importance: Analyzing which features contribute most to these similarities could be insightful.\n",
    "Would you like further analysis or assistance with another aspect of your data?"
   ]
  },
  {
   "cell_type": "code",
   "execution_count": null,
   "id": "3d0398d5-b063-403a-997a-2f8d4788cd8d",
   "metadata": {},
   "outputs": [],
   "source": [
    "df.info()"
   ]
  },
  {
   "cell_type": "code",
   "execution_count": null,
   "id": "93bc6cff-99d7-460d-85a5-6450e3b3a11c",
   "metadata": {},
   "outputs": [],
   "source": [
    "pca = PCA(n_components=3)\n",
    "cosine_sim_pca = pca.fit_transform(cosine_sim)\n",
    "\n",
    "# Create 3D scatter plot\n",
    "fig = plt.figure(figsize=(10, 8))\n",
    "ax = fig.add_subplot(111, projection='3d')\n",
    "ax.scatter(cosine_sim_pca[:, 0], cosine_sim_pca[:, 1], cosine_sim_pca[:, 2], c='red', marker='o')\n",
    "ax.set_xlabel('PCA Component 1')\n",
    "ax.set_ylabel('PCA Component 2')\n",
    "ax.set_zlabel('PCA Component 3')\n",
    "ax.set_title('3D Scatter Plot of Cosine Similarity after PCA Transformation')\n",
    "plt.show()"
   ]
  },
  {
   "cell_type": "markdown",
   "id": "0f7d7a09-3bd2-45b2-a40e-00e8062e4789",
   "metadata": {},
   "source": [
    "Practical Implications\n",
    "Identifying Similar Groups:\n",
    "\n",
    "The clusters can help you identify groups of comic books that are similar in terms of their attributes. This can be useful for tasks like recommendation systems or market segmentation.\n",
    "For instance, if you're analyzing comic book sales data, these clusters might represent different genres or target audiences.\n",
    "Feature Influence:\n",
    "\n",
    "Understanding the principal components can help you determine which features are driving these similarities.\n",
    "By examining the loadings (the contribution of each original feature to the principal components), you can interpret which attributes are most important for the similarity structure.\n",
    "Next Steps\n",
    "Cluster Analysis:\n",
    "\n",
    "You might want to apply clustering algorithms (like K-means or hierarchical clustering) on the PCA-transformed data to formally identify clusters.\n",
    "This can help you understand the distinct groups within your dataset more clearly.\n",
    "Dimensionality Reduction:\n",
    "\n",
    "If the three principal components explain most of the variance, the dimensionality reduction is successful. If not, consider looking at more components or different methods."
   ]
  },
  {
   "cell_type": "code",
   "execution_count": null,
   "id": "3887ba6f-4ebe-4085-917e-4edcc34b8463",
   "metadata": {},
   "outputs": [],
   "source": [
    "import plotly.express as px\n",
    "import plotly.graph_objects as go\n",
    "\n",
    "pca = PCA(n_components=3)\n",
    "cosine_sim_pca = pca.fit_transform(cosine_sim)\n",
    "cos_df = pd.DataFrame(cosine_sim_pca, columns=['PCA Component 1', 'PCA Component 2', 'PCA Component 3'])\n",
    "cos_df['comic_name'] = df['name']\n",
    "cos_df['volume'] = df['volume']\n",
    "cos_df['character_credits'] = df['character_credits']\n",
    "cos_df['description'] = df['description']\n",
    "fig = plt.figure(figsize=(80, 64))\n",
    "fig = px.scatter_3d(cos_df, x='PCA Component 1', y='PCA Component 2', z='PCA Component 3',\n",
    "                    color='volume',  # Color points based on 'volume'\n",
    "                    hover_data={'comic_name': True, 'volume': True, 'character_credits':True, 'description':True},\n",
    "                    title='3D Scatter Plot of Cosine Similarity after PCA Transformation')\n",
    "fig.update_layout(\n",
    "    hovermode='closest',  # Show hover info for closest point\n",
    "    hoverlabel=dict(bgcolor=\"white\", font_size=16, namelength=-1),\n",
    "    width=int(1400), height=int(1000))\n",
    "    \n",
    "fig.show()"
   ]
  },
  {
   "cell_type": "code",
   "execution_count": null,
   "id": "df76f984-6bc6-4e64-9984-72eab0a8dbe9",
   "metadata": {},
   "outputs": [],
   "source": [
    "#fig layout, update layout"
   ]
  },
  {
   "cell_type": "code",
   "execution_count": null,
   "id": "e2360621-d790-42b8-bcd5-0f69977fdafa",
   "metadata": {},
   "outputs": [],
   "source": [
    "#width and height"
   ]
  },
  {
   "cell_type": "code",
   "execution_count": null,
   "id": "121cd7ae-b23a-4c29-abf4-19ecf1d2e79f",
   "metadata": {},
   "outputs": [],
   "source": [
    "import numpy as np\n",
    "import plotly.graph_objs as go\n",
    "from sklearn.decomposition import PCA\n",
    "\n",
    "# Perform PCA\n",
    "pca = PCA(n_components=3)\n",
    "cosine_sim_pca = pca.fit_transform(cosine_sim)\n",
    "\n",
    "# Example comic issue names (replace with your actual comic names)\n",
    "comic_names = df['name']\n",
    "\n",
    "# Create 3D scatter plot using Plotly\n",
    "fig = go.Figure(data=[go.Scatter3d(\n",
    "    x=cosine_sim_pca[:, 0],\n",
    "    y=cosine_sim_pca[:, 1],\n",
    "    z=cosine_sim_pca[:, 2],\n",
    "    mode='markers',\n",
    "    marker=dict(\n",
    "        size=10,\n",
    "        color='red',  # Set color\n",
    "        opacity=0.8\n",
    "    ),\n",
    "    text=comic_names,  # Set text (comic names) for hover\n",
    "    hoverinfo='text'   # Show text on hover\n",
    ")])\n",
    "\n",
    "# Update layout\n",
    "fig.update_layout(\n",
    "    title='3D Scatter Plot of Cosine Similarity after PCA Transformation',\n",
    "    scene=dict(\n",
    "        xaxis=dict(title='PCA Component 1'),\n",
    "        yaxis=dict(title='PCA Component 2'),\n",
    "        zaxis=dict(title='PCA Component 3')\n",
    "    )\n",
    ")\n",
    "\n",
    "# Show the interactive plot (in Jupyter Notebook or standalone HTML)\n",
    "fig.show()\n"
   ]
  },
  {
   "cell_type": "code",
   "execution_count": null,
   "id": "dffb256b-7062-4d85-9481-ff0b41335655",
   "metadata": {},
   "outputs": [],
   "source": []
  },
  {
   "cell_type": "code",
   "execution_count": null,
   "id": "6e7009a1-0b42-45bd-bbbc-b51391e39a55",
   "metadata": {},
   "outputs": [],
   "source": []
  },
  {
   "cell_type": "code",
   "execution_count": null,
   "id": "d2ec8a9f-21c5-4997-86c0-74e5d1cc1a15",
   "metadata": {},
   "outputs": [],
   "source": []
  },
  {
   "cell_type": "code",
   "execution_count": null,
   "id": "b1d2b952-e3ab-43e3-9819-3795689fe8c1",
   "metadata": {},
   "outputs": [],
   "source": []
  },
  {
   "cell_type": "code",
   "execution_count": null,
   "id": "51ab8ed8-5dd7-47e6-bed1-3e1110d32e0c",
   "metadata": {},
   "outputs": [],
   "source": []
  },
  {
   "cell_type": "code",
   "execution_count": null,
   "id": "f0ed7542-527a-45ab-b377-c8b0ee4fa744",
   "metadata": {},
   "outputs": [],
   "source": []
  }
 ],
 "metadata": {
  "kernelspec": {
   "display_name": "Python 3 (ipykernel)",
   "language": "python",
   "name": "python3"
  },
  "language_info": {
   "codemirror_mode": {
    "name": "ipython",
    "version": 3
   },
   "file_extension": ".py",
   "mimetype": "text/x-python",
   "name": "python",
   "nbconvert_exporter": "python",
   "pygments_lexer": "ipython3",
   "version": "3.11.7"
  }
 },
 "nbformat": 4,
 "nbformat_minor": 5
}
