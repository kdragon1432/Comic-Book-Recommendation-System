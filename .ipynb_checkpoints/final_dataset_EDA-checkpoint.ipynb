{
 "cells": [
  {
   "cell_type": "code",
   "execution_count": 1,
   "id": "136ecc34-3c01-479a-a42a-59a705ccddb0",
   "metadata": {},
   "outputs": [],
   "source": [
    "import pandas as pd\n",
    "import numpy as np\n",
    "\n",
    "from collections import Counter\n",
    "import matplotlib.pyplot as plt\n",
    "import seaborn as sns\n",
    "import json\n",
    "\n",
    "from bs4 import BeautifulSoup\n",
    "\n",
    "from sklearn.feature_extraction.text import TfidfVectorizer\n",
    "from scipy.sparse import hstack\n",
    "from sklearn.metrics.pairwise import linear_kernel"
   ]
  },
  {
   "cell_type": "markdown",
   "id": "f01ea8fc-4a59-44a1-a4b0-45e04d7a3e58",
   "metadata": {},
   "source": [
    "# Loading CSV File"
   ]
  },
  {
   "cell_type": "code",
   "execution_count": 3,
   "id": "dd1b1003-7325-4681-9b13-2b78fd8a5c92",
   "metadata": {},
   "outputs": [],
   "source": [
    "df = pd.read_csv(\"data/final/final_dataset_clean.csv\")"
   ]
  },
  {
   "cell_type": "code",
   "execution_count": 5,
   "id": "b179cb16-d099-4d50-9490-b3a18153a022",
   "metadata": {},
   "outputs": [
    {
     "name": "stdout",
     "output_type": "stream",
     "text": [
      "<class 'pandas.core.frame.DataFrame'>\n",
      "RangeIndex: 3221 entries, 0 to 3220\n",
      "Data columns (total 17 columns):\n",
      " #   Column                Non-Null Count  Dtype \n",
      "---  ------                --------------  ----- \n",
      " 0   character_credits     3221 non-null   object\n",
      " 1   character_died_in     3221 non-null   object\n",
      " 2   concept_credits       3221 non-null   object\n",
      " 3   cover_date            3221 non-null   object\n",
      " 4   description           3165 non-null   object\n",
      " 5   has_staff_review      3221 non-null   object\n",
      " 6   id                    3221 non-null   int64 \n",
      " 7   issue_number          3221 non-null   object\n",
      " 8   location_credits      3221 non-null   object\n",
      " 9   name                  3221 non-null   object\n",
      " 10  object_credits        3221 non-null   object\n",
      " 11  person_credits        3221 non-null   object\n",
      " 12  story_arc_credits     3221 non-null   object\n",
      " 13  team_credits          3221 non-null   object\n",
      " 14  team_disbanded_in     3221 non-null   object\n",
      " 15  volume                3221 non-null   object\n",
      " 16  combined_description  3221 non-null   object\n",
      "dtypes: int64(1), object(16)\n",
      "memory usage: 427.9+ KB\n"
     ]
    }
   ],
   "source": [
    "df.info()"
   ]
  },
  {
   "cell_type": "code",
   "execution_count": 6,
   "id": "a837f19c-c567-4c8e-ae21-ced1fd8d30d7",
   "metadata": {},
   "outputs": [
    {
     "name": "stdout",
     "output_type": "stream",
     "text": [
      "Missing Values: 56\n"
     ]
    }
   ],
   "source": [
    "missing_values = df['description'].isnull().sum()\n",
    "print(f\"Missing Values: {missing_values}\")"
   ]
  },
  {
   "cell_type": "markdown",
   "id": "b9933663-a350-4cb9-b615-0171c4ab89df",
   "metadata": {},
   "source": [
    "**final_fillna** is just some final preprocessing. There cannot be null values when I go to vectorize. I found that my description lost some data between being exported and imported."
   ]
  },
  {
   "cell_type": "code",
   "execution_count": 7,
   "id": "a9383cf3-3481-4fb3-80f3-30437bc21f96",
   "metadata": {},
   "outputs": [],
   "source": [
    "def final_fillna(df):\n",
    "    df['description'] = df['description'].fillna('')\n",
    "    df['combined_description'] = df['combined_description'].fillna('')\n",
    "    lst = ['character_credits', 'character_died_in', 'concept_credits',\n",
    "           'location_credits', 'object_credits', 'person_credits', 'story_arc_credits', \n",
    "           'team_credits', 'team_disbanded_in', 'volume']\n",
    "final_fillna(df)"
   ]
  },
  {
   "cell_type": "code",
   "execution_count": 17,
   "id": "238fc953-6268-4307-a261-49a726fe6158",
   "metadata": {},
   "outputs": [
    {
     "data": {
      "text/plain": [
       "\"['Amnesty_Bay', 'Massachusetts']\""
      ]
     },
     "execution_count": 17,
     "metadata": {},
     "output_type": "execute_result"
    }
   ],
   "source": [
    "df[\"location_credits\"][10]"
   ]
  },
  {
   "cell_type": "markdown",
   "id": "9cf51c59-f49d-44b8-b14b-477528a6c031",
   "metadata": {},
   "source": [
    "# EDA"
   ]
  },
  {
   "cell_type": "code",
   "execution_count": 8,
   "id": "3250b9a1-0ec6-42e6-bdaf-225fe818dbbf",
   "metadata": {},
   "outputs": [
    {
     "name": "stdout",
     "output_type": "stream",
     "text": [
      "count    3221.000000\n",
      "mean      127.425334\n",
      "std        94.409149\n",
      "min         2.000000\n",
      "25%        71.000000\n",
      "50%       110.000000\n",
      "75%       160.000000\n",
      "max      1265.000000\n",
      "Name: num_characters, dtype: float64\n"
     ]
    },
    {
     "data": {
      "image/png": "[encoded data removed]",
      "text/plain": [
       "<Figure size 1000x600 with 1 Axes>"
      ]
     },
     "metadata": {},
     "output_type": "display_data"
    }
   ],
   "source": [
    "df['num_characters'] = df['character_credits'].apply(len)\n",
    "\n",
    "# Summary statistics for number of characters per entry\n",
    "print(df['num_characters'].describe())\n",
    "\n",
    "# Plot the distribution of character counts\n",
    "plt.figure(figsize=(10, 6))\n",
    "df['num_characters'].hist(bins=20)\n",
    "plt.title('Distribution of Character Counts per Entry')\n",
    "plt.xlabel('Number of Characters')\n",
    "plt.ylabel('Frequency')\n",
    "plt.show()"
   ]
  },
  {
   "cell_type": "code",
   "execution_count": 9,
   "id": "3bfed82d-cd95-4437-8c44-57407bd52725",
   "metadata": {},
   "outputs": [
    {
     "name": "stdout",
     "output_type": "stream",
     "text": [
      "   Character  Count\n",
      "1          '  56764\n",
      "5          a  28802\n",
      "22         e  26612\n",
      "8          ,  25292\n",
      "9             25288\n",
      "7          n  23843\n",
      "23         r  22049\n",
      "14         _  19046\n",
      "18         o  18128\n",
      "35         i  13999\n"
     ]
    },
    {
     "data": {
      "text/plain": [
       "<Figure size 1200x800 with 0 Axes>"
      ]
     },
     "metadata": {},
     "output_type": "display_data"
    },
    {
     "data": {
      "image/png": "[encoded data removed]",
      "text/plain": [
       "<Figure size 640x480 with 1 Axes>"
      ]
     },
     "metadata": {},
     "output_type": "display_data"
    }
   ],
   "source": [
    "# Flatten the list of all characters\n",
    "all_characters = [character for sublist in df['character_credits'] for character in sublist]\n",
    "\n",
    "# Count the occurrences of each character\n",
    "character_counts = Counter(all_characters)\n",
    "\n",
    "# Convert to a DataFrame for easier analysis\n",
    "character_counts_df = pd.DataFrame(character_counts.items(), columns=['Character', 'Count'])\n",
    "\n",
    "# Sort by count in descending order\n",
    "character_counts_df = character_counts_df.sort_values(by='Count', ascending=False)\n",
    "\n",
    "# Display the most common characters\n",
    "print(character_counts_df.head(10))\n",
    "\n",
    "# Plot the most common characters\n",
    "plt.figure(figsize=(12, 8))\n",
    "character_counts_df.head(20).set_index('Character').plot(kind='bar')\n",
    "plt.title('Top 20 Most Common Characters')\n",
    "plt.xlabel('Character')\n",
    "plt.ylabel('Count')\n",
    "plt.show()"
   ]
  },
  {
   "cell_type": "code",
   "execution_count": null,
   "id": "02ee76dc-647c-4a61-8794-1135ffe9eec2",
   "metadata": {},
   "outputs": [],
   "source": []
  },
  {
   "cell_type": "code",
   "execution_count": null,
   "id": "1280b74c-cec6-43e7-98c6-ac0cce2acfa5",
   "metadata": {},
   "outputs": [],
   "source": []
  },
  {
   "cell_type": "code",
   "execution_count": null,
   "id": "ab444f26-eca8-4631-b0c7-660bc9ea07c4",
   "metadata": {},
   "outputs": [],
   "source": []
  },
  {
   "cell_type": "code",
   "execution_count": null,
   "id": "dc989665-6293-4ebd-b64e-e40c6748c165",
   "metadata": {},
   "outputs": [],
   "source": []
  },
  {
   "cell_type": "code",
   "execution_count": null,
   "id": "7193af13-4fe5-43d5-be53-c5f4cedcd861",
   "metadata": {},
   "outputs": [],
   "source": []
  }
 ],
 "metadata": {
  "kernelspec": {
   "display_name": "Python 3 (ipykernel)",
   "language": "python",
   "name": "python3"
  },
  "language_info": {
   "codemirror_mode": {
    "name": "ipython",
    "version": 3
   },
   "file_extension": ".py",
   "mimetype": "text/x-python",
   "name": "python",
   "nbconvert_exporter": "python",
   "pygments_lexer": "ipython3",
   "version": "3.11.7"
  }
 },
 "nbformat": 4,
 "nbformat_minor": 5
}
