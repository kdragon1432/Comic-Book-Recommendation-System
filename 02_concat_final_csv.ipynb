{
 "cells": [
  {
   "cell_type": "code",
   "execution_count": 2,
   "id": "6a5af075-e512-4fd1-93d0-91ff4ae1bdab",
   "metadata": {},
   "outputs": [],
   "source": [
    "import pandas as pd\n",
    "import numpy as np"
   ]
  },
  {
   "cell_type": "markdown",
   "id": "b466b6d6-d7e6-4935-9998-59bc38299e68",
   "metadata": {},
   "source": [
    "# CONCATTING FINAL CSV FILE"
   ]
  },
  {
   "cell_type": "code",
   "execution_count": 6,
   "id": "a2cfcb22-bf79-4e74-9890-c7ecf93429bb",
   "metadata": {},
   "outputs": [],
   "source": [
    "# organized alphabetically\n",
    "action_comics_vol3 = pd.read_csv(\"data/action_comics_vol3.csv\")\n",
    "adventures_of_superman_jon_kent = pd.read_csv(\"data/adventures_of_superman_jon_kent.csv\")\n",
    "aquaman_rebirth = pd.read_csv(\"data/aquaman_rebirth.csv\")\n",
    "batman_and_robin = pd.read_csv(\"data/batman_and_robin.csv\")\n",
    "batman_gotham_knights = pd.read_csv(\"data/batman_gotham_knights.csv\")\n",
    "batman_vol1 = pd.read_csv(\"data/batman_vol1.csv\")\n",
    "batman_vol2 = pd.read_csv(\"data/batman_vol2.csv\")\n",
    "batman_vol3 = pd.read_csv(\"data/batman_vol3.csv\")\n",
    "detective_comics_vol1 = pd.read_csv(\"data/detective_comics_vol1.csv\")\n",
    "detective_comics_vol2 = pd.read_csv(\"data/detective_comics_vol2.csv\")\n",
    "detective_comics_vol3 = pd.read_csv(\"data/detective_comics_vol3.csv\")\n",
    "gen_13 = pd.read_csv(\"data/gen_13.csv\")\n",
    "gotham_academy = pd.read_csv(\"data/gotham_academy.csv\")\n",
    "grayson = pd.read_csv(\"data/grayson.csv\")\n",
    "green_arrow_vol2 = pd.read_csv('data/green_arrow_vol2.csv')\n",
    "green_lanturn_vol2 = pd.read_csv(\"data/green_lanturn_vol2.csv\")\n",
    "harley_quinn_vol2 = pd.read_csv(\"data/harley_quinn_vol2.csv\")\n",
    "harley_quinn_vol3 = pd.read_csv(\"data/harley_quinn_vol3.csv\")\n",
    "hellblazer = pd.read_csv(\"data/hellblazer.csv\")\n",
    "house_of_mystery_pt1 = pd.read_csv('data/house_of_mystery_pt1.csv')\n",
    "house_of_mystery_pt2 = pd.read_csv('data/house_of_mystery_pt2.csv')\n",
    "house_of_secrets = pd.read_csv('data/house_of_secrets.csv')\n",
    "JLA = pd.read_csv(\"data/JLA.csv\")\n",
    "justice_league_dark = pd.read_csv(\"data/justice_league_dark.csv\")\n",
    "nightwing_vol2 = pd.read_csv('data/nightwing_vol2.csv')\n",
    "nightwing_vol4 = pd.read_csv('data/nightwing_vol4.csv')\n",
    "red_hood_and_arsenal = pd.read_csv('data/red_hood_and_arsenal.csv')\n",
    "red_robin = pd.read_csv(\"data/red_robin.csv\")\n",
    "robin_son_of_batman = pd.read_csv(\"data/robin_son_of_batman.csv\")\n",
    "robin1993_2009 = pd.read_csv(\"data/robin1993_2009.csv\")\n",
    "super_sons = pd.read_csv(\"data/super_sons.csv\")\n",
    "superboy = pd.read_csv(\"data/superboy.csv\")\n",
    "superman_son_of_kal_el = pd.read_csv(\"data/superman_son_of_kal_el.csv\")\n",
    "superman_vol1_pt1 = pd.read_csv(\"data/superman_vol1_pt1.csv\")\n",
    "superman_vol1_pt2 = pd.read_csv(\"data/superman_vol1_pt2.csv\")\n",
    "superman_vol2 = pd.read_csv(\"data/superman_vol2.csv\")\n",
    "superman_vol3 = pd.read_csv(\"data/superman_vol3.csv\")\n",
    "superman_vol4 = pd.read_csv(\"data/superman_vol4.csv\")\n",
    "superman_vol5 = pd.read_csv(\"data/superman_vol5.csv\")\n",
    "swamp_thing_vol2 = pd.read_csv(\"data/swamp_thing_vol2.csv\")\n",
    "swamp_thing_vol3 = pd.read_csv(\"data/swamp_thing_vol3.csv\")\n",
    "swamp_thing_vol4 = pd.read_csv(\"data/swamp_thing_vol4.csv\")\n",
    "teen_titans1966_1996 = pd.read_csv(\"data/teen_titans1966_1996.csv\")\n",
    "teen_titans2014 = pd.read_csv(\"data/teen_titans2014.csv\")\n",
    "the_books_of_magic = pd.read_csv(\"data/the_books_of_magic.csv\")\n",
    "the_flash_vol1 = pd.read_csv(\"data/the_flash_vol1.csv\")\n",
    "the_flash_vol2 = pd.read_csv(\"data/the_flash_vol2.csv\")\n",
    "the_flash_vol3 = pd.read_csv(\"data/the_flash_vol3.csv\")\n",
    "the_sandman_vol2 = pd.read_csv(\"data/the_sandman_vol2.csv\")\n",
    "we_are_robin = pd.read_csv(\"data/we_are_robin.csv\")\n",
    "wonder_woman_vol2 = pd.read_csv(\"data/wonder_woman_vol2.csv\")\n",
    "wonder_woman_vol3 = pd.read_csv(\"data/wonder_woman_vol3.csv\")\n",
    "wonder_woman_vol4 = pd.read_csv(\"data/wonder_woman_vol4.csv\")\n",
    "wonder_woman_vol5 = pd.read_csv(\"data/wonder_woman_vol5.csv\")\n",
    "young_justice = pd.read_csv(\"data/young_justice.csv\")\n"
   ]
  },
  {
   "cell_type": "code",
   "execution_count": 7,
   "id": "8b072a1b-c20c-4079-95fd-fb99ba82b639",
   "metadata": {},
   "outputs": [],
   "source": [
    "df = pd.concat([action_comics_vol3, \n",
    "                adventures_of_superman_jon_kent,\n",
    "                aquaman_rebirth, \n",
    "                batman_and_robin,\n",
    "                batman_gotham_knights,\n",
    "                batman_vol1, \n",
    "                batman_vol2, \n",
    "                batman_vol3,\n",
    "                detective_comics_vol1, \n",
    "                detective_comics_vol2, \n",
    "                detective_comics_vol3,\n",
    "                gen_13,\n",
    "                gotham_academy, \n",
    "                grayson,\n",
    "                green_arrow_vol2,\n",
    "                green_lanturn_vol2,\n",
    "                harley_quinn_vol2,\n",
    "                harley_quinn_vol3,\n",
    "                hellblazer, \n",
    "                house_of_mystery_pt1,\n",
    "                house_of_mystery_pt2,\n",
    "                house_of_secrets,\n",
    "                JLA, \n",
    "                justice_league_dark, \n",
    "                nightwing_vol2,\n",
    "                nightwing_vol4,\n",
    "                red_hood_and_arsenal,\n",
    "                red_robin, \n",
    "                robin_son_of_batman,\n",
    "                robin1993_2009, \n",
    "                super_sons, \n",
    "                superboy, \n",
    "                superman_son_of_kal_el,\n",
    "                superman_vol1_pt1, \n",
    "                superman_vol1_pt2, \n",
    "                superman_vol2, \n",
    "                superman_vol3, \n",
    "                superman_vol4, \n",
    "                superman_vol5, \n",
    "                swamp_thing_vol2, \n",
    "                swamp_thing_vol3, \n",
    "                swamp_thing_vol4,\n",
    "                teen_titans1966_1996, \n",
    "                teen_titans2014,\n",
    "                the_books_of_magic,\n",
    "                the_flash_vol1, \n",
    "                the_flash_vol2, \n",
    "                the_flash_vol3, \n",
    "                the_sandman_vol2,\n",
    "                we_are_robin, \n",
    "                wonder_woman_vol2,\n",
    "                wonder_woman_vol3, \n",
    "                wonder_woman_vol4, \n",
    "                wonder_woman_vol5,\n",
    "                young_justice\n",
    "               ], ignore_index=True)"
   ]
  },
  {
   "cell_type": "code",
   "execution_count": 4,
   "id": "707f0f83-a65c-46f8-9a04-efbe2afafc40",
   "metadata": {},
   "outputs": [],
   "source": [
    "#use when sometimes adding one new csv file\n",
    "#df= pd.concat([final, sample], ignore_index=True)"
   ]
  },
  {
   "cell_type": "code",
   "execution_count": 5,
   "id": "49a539a9-3f38-436b-a203-77357e69d994",
   "metadata": {},
   "outputs": [],
   "source": [
    "#df.to_csv(\"final_dataset.csv\", index=False)"
   ]
  },
  {
   "cell_type": "code",
   "execution_count": 8,
   "id": "1b19b68e-29ad-4382-b3cd-f25fac1d164d",
   "metadata": {},
   "outputs": [],
   "source": [
    "df.to_csv(\"data/final/final_dataset.csv\", index=False)"
   ]
  }
 ],
 "metadata": {
  "kernelspec": {
   "display_name": "Python 3 (ipykernel)",
   "language": "python",
   "name": "python3"
  },
  "language_info": {
   "codemirror_mode": {
    "name": "ipython",
    "version": 3
   },
   "file_extension": ".py",
   "mimetype": "text/x-python",
   "name": "python",
   "nbconvert_exporter": "python",
   "pygments_lexer": "ipython3",
   "version": "3.11.7"
  }
 },
 "nbformat": 4,
 "nbformat_minor": 5
}
