{
 "cells": [
  {
   "cell_type": "code",
   "execution_count": 1,
   "id": "0669cb44-e073-4eb2-a3c9-92e9c60607b7",
   "metadata": {},
   "outputs": [],
   "source": [
    "import pandas as pd"
   ]
  },
  {
   "cell_type": "code",
   "execution_count": 48,
   "id": "80fe57dd-9800-4075-9a30-9e5d3b192b15",
   "metadata": {},
   "outputs": [],
   "source": [
    "batman_vol = pd.read_csv('data/batman_vol1.csv')"
   ]
  },
  {
   "cell_type": "code",
   "execution_count": 49,
   "id": "e3048b9e-5ad0-46e2-9d49-315ea476858b",
   "metadata": {},
   "outputs": [
    {
     "name": "stdout",
     "output_type": "stream",
     "text": [
      "<class 'pandas.core.frame.DataFrame'>\n",
      "RangeIndex: 716 entries, 0 to 715\n",
      "Data columns (total 32 columns):\n",
      " #   Column                       Non-Null Count  Dtype  \n",
      "---  ------                       --------------  -----  \n",
      " 0   Unnamed: 0                   716 non-null    int64  \n",
      " 1   aliases                      0 non-null      float64\n",
      " 2   api_detail_url               716 non-null    object \n",
      " 3   associated_images            716 non-null    object \n",
      " 4   character_credits            716 non-null    object \n",
      " 5   character_died_in            716 non-null    object \n",
      " 6   concept_credits              716 non-null    object \n",
      " 7   cover_date                   716 non-null    object \n",
      " 8   date_added                   716 non-null    object \n",
      " 9   date_last_updated            716 non-null    object \n",
      " 10  deck                         6 non-null      object \n",
      " 11  description                  692 non-null    object \n",
      " 12  first_appearance_characters  0 non-null      float64\n",
      " 13  first_appearance_concepts    0 non-null      float64\n",
      " 14  first_appearance_locations   0 non-null      float64\n",
      " 15  first_appearance_objects     0 non-null      float64\n",
      " 16  first_appearance_storyarcs   0 non-null      float64\n",
      " 17  first_appearance_teams       0 non-null      float64\n",
      " 18  has_staff_review             716 non-null    object \n",
      " 19  id                           716 non-null    int64  \n",
      " 20  image                        716 non-null    object \n",
      " 21  issue_number                 716 non-null    object \n",
      " 22  location_credits             716 non-null    object \n",
      " 23  name                         716 non-null    object \n",
      " 24  object_credits               716 non-null    object \n",
      " 25  person_credits               716 non-null    object \n",
      " 26  site_detail_url              716 non-null    object \n",
      " 27  store_date                   241 non-null    object \n",
      " 28  story_arc_credits            716 non-null    object \n",
      " 29  team_credits                 716 non-null    object \n",
      " 30  team_disbanded_in            716 non-null    object \n",
      " 31  volume                       716 non-null    object \n",
      "dtypes: float64(7), int64(2), object(23)\n",
      "memory usage: 179.1+ KB\n"
     ]
    }
   ],
   "source": [
    "batman_vol.info()"
   ]
  },
  {
   "cell_type": "code",
   "execution_count": 50,
   "id": "e9c962d0-6e59-4f7e-8c30-2bbea0e34357",
   "metadata": {},
   "outputs": [],
   "source": [
    "batman_vol.drop([\"aliases\"], axis=1, inplace=True)\n",
    "batman_vol.drop([\"deck\"], axis=1, inplace=True)\n",
    "batman_vol.drop([\"first_appearance_characters\"], axis=1, inplace=True)\n",
    "batman_vol.drop([\"first_appearance_concepts\"], axis=1, inplace=True)\n",
    "batman_vol.drop([\"first_appearance_locations\"], axis=1, inplace=True)\n",
    "batman_vol.drop([\"first_appearance_objects\"], axis=1, inplace=True)\n",
    "batman_vol.drop([\"first_appearance_storyarcs\"], axis=1, inplace=True)\n",
    "batman_vol.drop([\"first_appearance_teams\"], axis=1, inplace=True)\n",
    "batman_vol.drop([\"store_date\"], axis=1, inplace=True)"
   ]
  },
  {
   "cell_type": "code",
   "execution_count": 56,
   "id": "108c0ff6-d6b8-483b-9625-9526953a22ce",
   "metadata": {},
   "outputs": [],
   "source": [
    "batman_vol.rename({\"Unnamed: 0\":\"index\"}, axis=1, inplace=True)"
   ]
  },
  {
   "cell_type": "code",
   "execution_count": 60,
   "id": "9d484b99-8132-44c6-bcc6-06b08d705e2e",
   "metadata": {},
   "outputs": [],
   "source": [
    "batman_vol.fillna(0, inplace=True)"
   ]
  },
  {
   "cell_type": "code",
   "execution_count": 61,
   "id": "436a8a18-096f-45d4-b575-b89af5d50fa1",
   "metadata": {},
   "outputs": [
    {
     "name": "stdout",
     "output_type": "stream",
     "text": [
      "<class 'pandas.core.frame.DataFrame'>\n",
      "Index: 716 entries, 0 to 715\n",
      "Data columns (total 23 columns):\n",
      " #   Column             Non-Null Count  Dtype \n",
      "---  ------             --------------  ----- \n",
      " 0   index              716 non-null    int64 \n",
      " 1   api_detail_url     716 non-null    object\n",
      " 2   associated_images  716 non-null    object\n",
      " 3   character_credits  716 non-null    object\n",
      " 4   character_died_in  716 non-null    object\n",
      " 5   concept_credits    716 non-null    object\n",
      " 6   cover_date         716 non-null    object\n",
      " 7   date_added         716 non-null    object\n",
      " 8   date_last_updated  716 non-null    object\n",
      " 9   description        716 non-null    object\n",
      " 10  has_staff_review   716 non-null    object\n",
      " 11  id                 716 non-null    int64 \n",
      " 12  image              716 non-null    object\n",
      " 13  issue_number       716 non-null    object\n",
      " 14  location_credits   716 non-null    object\n",
      " 15  name               716 non-null    object\n",
      " 16  object_credits     716 non-null    object\n",
      " 17  person_credits     716 non-null    object\n",
      " 18  site_detail_url    716 non-null    object\n",
      " 19  story_arc_credits  716 non-null    object\n",
      " 20  team_credits       716 non-null    object\n",
      " 21  team_disbanded_in  716 non-null    object\n",
      " 22  volume             716 non-null    object\n",
      "dtypes: int64(2), object(21)\n",
      "memory usage: 134.2+ KB\n"
     ]
    }
   ],
   "source": [
    "batman_vol.info()"
   ]
  },
  {
   "cell_type": "code",
   "execution_count": 36,
   "id": "10b180e5-f852-40de-b451-e0d33aea9d66",
   "metadata": {},
   "outputs": [],
   "source": [
    "young_justice = pd.read_csv('data/young_justice.csv')"
   ]
  },
  {
   "cell_type": "code",
   "execution_count": 39,
   "id": "ffcbca2b-49e5-4884-ac72-f46bf9ae154e",
   "metadata": {},
   "outputs": [
    {
     "name": "stdout",
     "output_type": "stream",
     "text": [
      "<class 'pandas.core.frame.DataFrame'>\n",
      "RangeIndex: 56 entries, 0 to 55\n",
      "Data columns (total 32 columns):\n",
      " #   Column                       Non-Null Count  Dtype  \n",
      "---  ------                       --------------  -----  \n",
      " 0   Unnamed: 0                   56 non-null     int64  \n",
      " 1   aliases                      0 non-null      float64\n",
      " 2   api_detail_url               56 non-null     object \n",
      " 3   associated_images            56 non-null     object \n",
      " 4   character_credits            56 non-null     object \n",
      " 5   character_died_in            56 non-null     object \n",
      " 6   concept_credits              56 non-null     object \n",
      " 7   cover_date                   56 non-null     object \n",
      " 8   date_added                   56 non-null     object \n",
      " 9   date_last_updated            56 non-null     object \n",
      " 10  deck                         0 non-null      float64\n",
      " 11  description                  56 non-null     object \n",
      " 12  first_appearance_characters  0 non-null      float64\n",
      " 13  first_appearance_concepts    0 non-null      float64\n",
      " 14  first_appearance_locations   0 non-null      float64\n",
      " 15  first_appearance_objects     0 non-null      float64\n",
      " 16  first_appearance_storyarcs   0 non-null      float64\n",
      " 17  first_appearance_teams       0 non-null      float64\n",
      " 18  has_staff_review             56 non-null     bool   \n",
      " 19  id                           56 non-null     int64  \n",
      " 20  image                        56 non-null     object \n",
      " 21  issue_number                 56 non-null     int64  \n",
      " 22  location_credits             56 non-null     object \n",
      " 23  name                         56 non-null     object \n",
      " 24  object_credits               56 non-null     object \n",
      " 25  person_credits               56 non-null     object \n",
      " 26  site_detail_url              56 non-null     object \n",
      " 27  store_date                   8 non-null      object \n",
      " 28  story_arc_credits            56 non-null     object \n",
      " 29  team_credits                 56 non-null     object \n",
      " 30  team_disbanded_in            56 non-null     object \n",
      " 31  volume                       56 non-null     object \n",
      "dtypes: bool(1), float64(8), int64(3), object(20)\n",
      "memory usage: 13.7+ KB\n"
     ]
    }
   ],
   "source": [
    "young_justice.info()"
   ]
  },
  {
   "cell_type": "code",
   "execution_count": 35,
   "id": "4e3e0dcf-d6d9-4e7b-abb1-140d0806f43d",
   "metadata": {},
   "outputs": [
    {
     "data": {
      "text/html": [
       "<div>\n",
       "<style scoped>\n",
       "    .dataframe tbody tr th:only-of-type {\n",
       "        vertical-align: middle;\n",
       "    }\n",
       "\n",
       "    .dataframe tbody tr th {\n",
       "        vertical-align: top;\n",
       "    }\n",
       "\n",
       "    .dataframe thead th {\n",
       "        text-align: right;\n",
       "    }\n",
       "</style>\n",
       "<table border=\"1\" class=\"dataframe\">\n",
       "  <thead>\n",
       "    <tr style=\"text-align: right;\">\n",
       "      <th></th>\n",
       "      <th>name</th>\n",
       "      <th>issue_number</th>\n",
       "    </tr>\n",
       "  </thead>\n",
       "  <tbody>\n",
       "    <tr>\n",
       "      <th>416</th>\n",
       "      <td>Creature of the Night</td>\n",
       "      <td>0</td>\n",
       "    </tr>\n",
       "    <tr>\n",
       "      <th>536</th>\n",
       "      <td>The Legend of the Batman: Who He Is and How He...</td>\n",
       "      <td>1</td>\n",
       "    </tr>\n",
       "    <tr>\n",
       "      <th>544</th>\n",
       "      <td>The Isle That Time Forgot</td>\n",
       "      <td>10</td>\n",
       "    </tr>\n",
       "    <tr>\n",
       "      <th>25</th>\n",
       "      <td>[100th Batman Issue!]</td>\n",
       "      <td>100</td>\n",
       "    </tr>\n",
       "    <tr>\n",
       "      <th>465</th>\n",
       "      <td>Peril Within The Prison Planet</td>\n",
       "      <td>1000000</td>\n",
       "    </tr>\n",
       "    <tr>\n",
       "      <th>26</th>\n",
       "      <td>The Great Bat-Cape Hunt!</td>\n",
       "      <td>101</td>\n",
       "    </tr>\n",
       "    <tr>\n",
       "      <th>27</th>\n",
       "      <td>The Caveman at Large</td>\n",
       "      <td>102</td>\n",
       "    </tr>\n",
       "    <tr>\n",
       "      <th>28</th>\n",
       "      <td>Bat-Hound, Movie Star</td>\n",
       "      <td>103</td>\n",
       "    </tr>\n",
       "    <tr>\n",
       "      <th>29</th>\n",
       "      <td>The Beast From 20,000 Fathoms</td>\n",
       "      <td>104</td>\n",
       "    </tr>\n",
       "    <tr>\n",
       "      <th>30</th>\n",
       "      <td>The Challenge of Batwoman</td>\n",
       "      <td>105</td>\n",
       "    </tr>\n",
       "  </tbody>\n",
       "</table>\n",
       "</div>"
      ],
      "text/plain": [
       "                                                  name issue_number\n",
       "416                              Creature of the Night            0\n",
       "536  The Legend of the Batman: Who He Is and How He...            1\n",
       "544                          The Isle That Time Forgot           10\n",
       "25                               [100th Batman Issue!]          100\n",
       "465                     Peril Within The Prison Planet      1000000\n",
       "26                            The Great Bat-Cape Hunt!          101\n",
       "27                                The Caveman at Large          102\n",
       "28                               Bat-Hound, Movie Star          103\n",
       "29                       The Beast From 20,000 Fathoms          104\n",
       "30                           The Challenge of Batwoman          105"
      ]
     },
     "execution_count": 35,
     "metadata": {},
     "output_type": "execute_result"
    }
   ],
   "source": [
    "df.sort_values(\"issue_number\")[[\"name\",\"issue_number\"]].head(10)"
   ]
  }
 ],
 "metadata": {
  "kernelspec": {
   "display_name": "Python 3 (ipykernel)",
   "language": "python",
   "name": "python3"
  },
  "language_info": {
   "codemirror_mode": {
    "name": "ipython",
    "version": 3
   },
   "file_extension": ".py",
   "mimetype": "text/x-python",
   "name": "python",
   "nbconvert_exporter": "python",
   "pygments_lexer": "ipython3",
   "version": "3.11.7"
  }
 },
 "nbformat": 4,
 "nbformat_minor": 5
}
