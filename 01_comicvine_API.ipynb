{
 "cells": [
  {
   "cell_type": "markdown",
   "id": "0220c7a3-fd5f-4f40-9dad-c4e5625d6ddf",
   "metadata": {},
   "source": [
    "# IMPORTS AND KEYS"
   ]
  },
  {
   "cell_type": "code",
   "execution_count": 1,
   "id": "6241ac8e-fcbc-41e0-afbf-04be2637954f",
   "metadata": {},
   "outputs": [],
   "source": [
    "import pandas as pd\n",
    "import numpy as np\n",
    "import matplotlib.pyplot as plt\n",
    "import seaborn as sns\n",
    "import time\n",
    "\n",
    "import json\n",
    "import requests"
   ]
  },
  {
   "cell_type": "markdown",
   "id": "7b3b6c97-1292-421a-8dee-18b2491a905b",
   "metadata": {},
   "source": [
    "I created two comicvine accounts so that I could rate API_KEYs when I reach the API rate limits."
   ]
  },
  {
   "cell_type": "code",
   "execution_count": 2,
   "id": "19004167-8032-4dab-acdf-390cac6abda8",
   "metadata": {},
   "outputs": [],
   "source": [
    "API_KEY = \"4ace0c77025132b5ae59c770af4ba01b80444161\"\n",
    "BASE_URL = \"https://comicvine.gamespot.com/api/\""
   ]
  },
  {
   "cell_type": "code",
   "execution_count": 12,
   "id": "a2795904-1b48-4e66-ab7d-0b78721588bc",
   "metadata": {},
   "outputs": [],
   "source": [
    "API_KEY = \"f7ca7f049ce4f06afd6c5c1e082061cd34779ff9\"\n",
    "BASE_URL = \"https://comicvine.gamespot.com/api/\""
   ]
  },
  {
   "cell_type": "markdown",
   "id": "47748c03-4c79-4cf6-9ff1-115348a009df",
   "metadata": {},
   "source": [
    "# API FUNCTIONS\n",
    "The following four functions are what I use to extract the data I want from the ComicVine API. "
   ]
  },
  {
   "cell_type": "code",
   "execution_count": 3,
   "id": "e0f6a07d-ff2e-4c0c-a4fd-befdf42b4864",
   "metadata": {},
   "outputs": [],
   "source": [
    "def fetch_volume_id(volume_name):\n",
    "    API_URL = BASE_URL + 'volumes/'\n",
    "    headers = {\"User-Agent\": \"Mozilla/5.0\"}\n",
    "    params = {\n",
    "        'api_key': API_KEY,\n",
    "        'format': 'json',\n",
    "        'filter': volume_name\n",
    "    }\n",
    "    try:\n",
    "        response = requests.get(API_URL, headers=headers, params=params)\n",
    "        response.raise_for_status()\n",
    "        volumes = response.json().get('results', [])\n",
    "        for volume in volumes:\n",
    "            if volume_name.lower() in volume['name'].lower():\n",
    "                return volume['id']\n",
    "        return None\n",
    "    except requests.exceptions.RequestException as e:\n",
    "        print(f'Error fetching volumes: {e}')\n",
    "        print(f'Response content: {response.content}')  # Print response content for debugging\n",
    "        return None"
   ]
  },
  {
   "cell_type": "code",
   "execution_count": 4,
   "id": "64f77d00-ea75-41a3-bd7e-1bcbdbdcc847",
   "metadata": {},
   "outputs": [],
   "source": [
    "# Function to fetch issues for a specific volume\n",
    "def fetch_volume_issues(volume_id, offset=0):\n",
    "    API_URL = BASE_URL + 'volume/4050-' + str(volume_id) + '/'\n",
    "    headers = {\"User-Agent\": \"Mozilla/5.0\"}\n",
    "    params = {\n",
    "        'api_key': API_KEY,\n",
    "        'format': 'json',\n",
    "        'offset': offset,\n",
    "        'limit': 100  # Adjust as needed, default ComicVine API limit per request\n",
    "    }\n",
    "    try:\n",
    "        response = requests.get(API_URL, headers=headers, params=params)\n",
    "        response.raise_for_status()\n",
    "        return response.json()\n",
    "    except requests.exceptions.RequestException as e:\n",
    "        print(f'Error fetching volume issues: {e}')\n",
    "        print(f'Response content: {response.content}')  # Print response content for debugging\n",
    "        return {}"
   ]
  },
  {
   "cell_type": "code",
   "execution_count": 5,
   "id": "b0bb65a4-4547-42b8-b7b0-70641ff44fb7",
   "metadata": {},
   "outputs": [],
   "source": [
    "# Function to fetch detailed information for a single issue\n",
    "def fetch_issue(api_detail_url):\n",
    "    headers = {\"User-Agent\": \"Mozilla/5.0\"}\n",
    "    params = {\n",
    "        'api_key': API_KEY,\n",
    "        'format': 'json'\n",
    "    }\n",
    "    try:\n",
    "        response = requests.get(api_detail_url, headers=headers, params=params)\n",
    "        response.raise_for_status()\n",
    "        return response.json()\n",
    "    except requests.exceptions.RequestException as e:\n",
    "        print(f'Error fetching issue details: {e}')\n",
    "        return {}"
   ]
  },
  {
   "cell_type": "code",
   "execution_count": 6,
   "id": "9dec9518-041c-464f-9bcd-c78025aa8f06",
   "metadata": {},
   "outputs": [],
   "source": [
    "def combined_issues(volume_name):\n",
    "    volume_id = fetch_volume_id(volume_name)\n",
    "    if not volume_id:\n",
    "        print(f'Volume \"{volume_name}\" not found.')\n",
    "        return pd.DataFrame()\n",
    "\n",
    "    all_issues = []\n",
    "    offset = 0\n",
    "\n",
    "    try:\n",
    "        while True:\n",
    "            response = fetch_volume_issues(volume_id, offset)\n",
    "            issues = response.get('results', [])\n",
    "            all_issues.extend(issues)\n",
    "\n",
    "            if not issues:\n",
    "                break\n",
    "            \n",
    "            if not response.get('number_of_page_results'):\n",
    "                break\n",
    "            \n",
    "            offset += 100  # Adjust as needed based on the API limit\n",
    "            time.sleep(3)  # To avoid hitting API rate limits\n",
    "\n",
    "    except Exception as e:\n",
    "        print(f'Error occurred: {e}', offset)\n",
    "        return pd.DataFrame()\n",
    "\n",
    "    table_data = []\n",
    "\n",
    "    for issue in all_issues:\n",
    "        if isinstance(issue, dict):\n",
    "            detail_url = issue.get('api_detail_url')\n",
    "            if detail_url:\n",
    "                details = fetch_issue(detail_url).get('results', {})\n",
    "                table_data.append(details)\n",
    "                time.sleep(3)  # To avoid hitting API rate limits\n",
    "\n",
    "    df = pd.DataFrame(table_data)\n",
    "    return df"
   ]
  },
  {
   "cell_type": "markdown",
   "id": "aed3a953-996c-45a9-83b0-572abafa7f5a",
   "metadata": {},
   "source": [
    "# ACUTALLY USING EVERYTHING"
   ]
  },
  {
   "cell_type": "code",
   "execution_count": 56,
   "id": "24b85c82-bb0f-4024-94dc-5503aba799c8",
   "metadata": {},
   "outputs": [],
   "source": [
    "#fetch_volume_issues(volume_id, offset=0)\n",
    "#I directly use the ids that I find on the ComicVine website. \n",
    "data = fetch_volume_issues(69322, 0)"
   ]
  },
  {
   "cell_type": "code",
   "execution_count": 57,
   "id": "234d5879-5b79-4539-af18-0cb4e8734d41",
   "metadata": {},
   "outputs": [],
   "source": [
    "data_prime = data['results']"
   ]
  },
  {
   "cell_type": "code",
   "execution_count": 58,
   "id": "083ac0e5-78d2-4962-ac96-de4cf9bcdd9b",
   "metadata": {},
   "outputs": [],
   "source": [
    "issues_lst = data_prime.get('issues')"
   ]
  },
  {
   "cell_type": "code",
   "execution_count": 59,
   "id": "5149c02a-fab0-4c16-ab96-6d30a4d3cdfb",
   "metadata": {},
   "outputs": [
    {
     "name": "stdout",
     "output_type": "stream",
     "text": [
      "0 1 2 3 4 5 6 7 8 9 10 11 12 13 14 15 16 17 18 19 20 21 22 23 24 25 26 27 28 29 30 "
     ]
    }
   ],
   "source": [
    "table_data = []\n",
    "i, n = 0, 0 #73\n",
    "for issue in issues_lst:\n",
    "    #if (n >= 201): #only use when I want to start collecting data from a certain index (middle) in issues_lst\n",
    "    url = issue.get('api_detail_url')\n",
    "    details = fetch_issue(url).get('results', {})\n",
    "    table_data.append(details)\n",
    "    print(n, end=\" \")\n",
    "    #time.sleep(25) #use to try and stay within API rate limits\n",
    "    n+=1"
   ]
  },
  {
   "cell_type": "code",
   "execution_count": null,
   "id": "4256e83d-2612-4983-9e3e-e1d1d5611ede",
   "metadata": {},
   "outputs": [],
   "source": []
  },
  {
   "cell_type": "code",
   "execution_count": 60,
   "id": "4d13c04b-36fd-476f-b327-e806912463fb",
   "metadata": {},
   "outputs": [],
   "source": [
    "df = pd.DataFrame(table_data)"
   ]
  },
  {
   "cell_type": "code",
   "execution_count": 35,
   "id": "cf81ad73-fb0a-49f6-ac2a-c79bc818544e",
   "metadata": {},
   "outputs": [],
   "source": [
    "tmp = pd.read_csv(\"data/detective_comics_vol1.csv\")"
   ]
  },
  {
   "cell_type": "code",
   "execution_count": 15,
   "id": "b8bb5078-d55f-4eb0-8b78-2c49fc407f40",
   "metadata": {},
   "outputs": [],
   "source": [
    "df = pd.concat([df, tmp], ignore_index=True)"
   ]
  },
  {
   "cell_type": "code",
   "execution_count": 61,
   "id": "30dd9c57-ec2b-4e65-b6bb-e78a66f6f90a",
   "metadata": {},
   "outputs": [],
   "source": [
    "#export csv file to the data folder\n",
    "df.to_csv('data/harley_quinn_vol2.csv')"
   ]
  }
 ],
 "metadata": {
  "kernelspec": {
   "display_name": "Python 3 (ipykernel)",
   "language": "python",
   "name": "python3"
  },
  "language_info": {
   "codemirror_mode": {
    "name": "ipython",
    "version": 3
   },
   "file_extension": ".py",
   "mimetype": "text/x-python",
   "name": "python",
   "nbconvert_exporter": "python",
   "pygments_lexer": "ipython3",
   "version": "3.11.7"
  }
 },
 "nbformat": 4,
 "nbformat_minor": 5
}
